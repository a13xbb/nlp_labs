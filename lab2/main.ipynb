{
 "cells": [
  {
   "cell_type": "code",
   "execution_count": 87,
   "metadata": {},
   "outputs": [],
   "source": [
    "import pandas as pd\n",
    "import numpy as np\n",
    "import nltk\n",
    "from pymorphy2 import MorphAnalyzer\n",
    "import json\n",
    "import re\n",
    "import string\n",
    "from nltk.corpus import stopwords\n",
    "from nltk.tokenize import word_tokenize \n",
    "from tqdm import tqdm\n",
    "from sklearn.feature_extraction.text import TfidfVectorizer\n",
    "from sklearn.model_selection import train_test_split\n",
    "from sklearn.preprocessing import LabelEncoder\n",
    "import optuna\n",
    "import optuna.visualization as vis\n",
    "from sklearn.metrics import confusion_matrix, ConfusionMatrixDisplay\n",
    "import matplotlib.pyplot as plt"
   ]
  },
  {
   "cell_type": "code",
   "execution_count": 2,
   "metadata": {},
   "outputs": [],
   "source": [
    "with open('../corpus.json', 'r') as f:\n",
    "    data = json.load(f)"
   ]
  },
  {
   "cell_type": "code",
   "execution_count": 3,
   "metadata": {},
   "outputs": [
    {
     "data": {
      "text/html": [
       "<div>\n",
       "<style scoped>\n",
       "    .dataframe tbody tr th:only-of-type {\n",
       "        vertical-align: middle;\n",
       "    }\n",
       "\n",
       "    .dataframe tbody tr th {\n",
       "        vertical-align: top;\n",
       "    }\n",
       "\n",
       "    .dataframe thead th {\n",
       "        text-align: right;\n",
       "    }\n",
       "</style>\n",
       "<table border=\"1\" class=\"dataframe\">\n",
       "  <thead>\n",
       "    <tr style=\"text-align: right;\">\n",
       "      <th></th>\n",
       "      <th>article_id</th>\n",
       "      <th>category</th>\n",
       "      <th>title</th>\n",
       "      <th>text</th>\n",
       "      <th>tags</th>\n",
       "    </tr>\n",
       "  </thead>\n",
       "  <tbody>\n",
       "    <tr>\n",
       "      <th>0</th>\n",
       "      <td>https://www.rbc.ru/economics/16/01/2024/65a63f...</td>\n",
       "      <td>economics</td>\n",
       "      <td>В ЦБ заявили о планах привлечь 9 млн россиян к...</td>\n",
       "      <td>К 2030 году в программе долгосрочных сбережени...</td>\n",
       "      <td>[сбережения, ЦБ, Минфин, НПФ]</td>\n",
       "    </tr>\n",
       "    <tr>\n",
       "      <th>1</th>\n",
       "      <td>https://www.rbc.ru/rbcfreenews/65a5540a9a79479...</td>\n",
       "      <td>economics</td>\n",
       "      <td>Ефимов сообщил детали редевелопмента 10 участк...</td>\n",
       "      <td>В рамках столичной программы комплексного разв...</td>\n",
       "      <td>[редевелопмент, Москва, Владимир Ефимов]</td>\n",
       "    </tr>\n",
       "    <tr>\n",
       "      <th>2</th>\n",
       "      <td>https://www.rbc.ru/economics/16/01/2024/65a52d...</td>\n",
       "      <td>economics</td>\n",
       "      <td>Число регистраций ИП впервые приблизилось к ми...</td>\n",
       "      <td>По итогам 2023 года число действующих индивиду...</td>\n",
       "      <td>[ФНС, индивидуальные предприниматели, регистра...</td>\n",
       "    </tr>\n",
       "    <tr>\n",
       "      <th>3</th>\n",
       "      <td>https://www.rbc.ru/economics/16/01/2024/659e3d...</td>\n",
       "      <td>economics</td>\n",
       "      <td>Росстат резко повысил оценку российского ВВП. ...</td>\n",
       "      <td>Росстат в конце прошлого года опубликовал нову...</td>\n",
       "      <td>[Росстат, ВВП, экономический рост]</td>\n",
       "    </tr>\n",
       "    <tr>\n",
       "      <th>4</th>\n",
       "      <td>https://www.rbc.ru/rbcfreenews/65a5f58c9a79473...</td>\n",
       "      <td>economics</td>\n",
       "      <td>В России проиндексируют более 40 видов выплат ...</td>\n",
       "      <td>Ряд самых разных выплат, субсидий и пособий пл...</td>\n",
       "      <td>[индексация, выплаты, Минтруд]</td>\n",
       "    </tr>\n",
       "    <tr>\n",
       "      <th>...</th>\n",
       "      <td>...</td>\n",
       "      <td>...</td>\n",
       "      <td>...</td>\n",
       "      <td>...</td>\n",
       "      <td>...</td>\n",
       "    </tr>\n",
       "    <tr>\n",
       "      <th>4841</th>\n",
       "      <td>https://www.rbc.ru/finances/24/03/2023/641c185...</td>\n",
       "      <td>finances</td>\n",
       "      <td>Задорнов назвал «хронических больных» среди ба...</td>\n",
       "      <td>Спасение второго банка Швейцарии Credit Suisse...</td>\n",
       "      <td>[Банки, США, Европа, Credit Suisse]</td>\n",
       "    </tr>\n",
       "    <tr>\n",
       "      <th>4842</th>\n",
       "      <td>https://www.rbc.ru/opinions/finances/24/03/202...</td>\n",
       "      <td>finances</td>\n",
       "      <td>«Нулевой пациент». Чем банковский кризис напом...</td>\n",
       "      <td>Связь между крахом американских банков и пробл...</td>\n",
       "      <td>[мнение, Михаил Задорнов, Банки]</td>\n",
       "    </tr>\n",
       "    <tr>\n",
       "      <th>4843</th>\n",
       "      <td>https://www.rbc.ru/finances/24/03/2023/641ce28...</td>\n",
       "      <td>finances</td>\n",
       "      <td>Глава Citi рассказала, как мобильные приложени...</td>\n",
       "      <td>Банковские приложения в смартфонах позволяют к...</td>\n",
       "      <td>[Citi, Silicon Valley Bank, Банки, мобильные п...</td>\n",
       "    </tr>\n",
       "    <tr>\n",
       "      <th>4844</th>\n",
       "      <td>https://www.rbc.ru/rbcfreenews/641cdf139a79472...</td>\n",
       "      <td>finances</td>\n",
       "      <td>Bloomberg узнал о проверке Credit Suisse насче...</td>\n",
       "      <td>Швейцарские банки Credit Suisse и UBS вошли в ...</td>\n",
       "      <td>[Credit Suisse, UBS, Швейцария, Банки, санкции...</td>\n",
       "    </tr>\n",
       "    <tr>\n",
       "      <th>4845</th>\n",
       "      <td>https://www.rbc.ru/finances/24/03/2023/641c798...</td>\n",
       "      <td>finances</td>\n",
       "      <td>Из открытых в 2022-м брокерских счетов лишь 3%...</td>\n",
       "      <td>В 2022 году было открыто 300 тыс. уникальных (...</td>\n",
       "      <td>[Банк России, Инвестиции]</td>\n",
       "    </tr>\n",
       "  </tbody>\n",
       "</table>\n",
       "<p>4846 rows × 5 columns</p>\n",
       "</div>"
      ],
      "text/plain": [
       "                                             article_id   category  \\\n",
       "0     https://www.rbc.ru/economics/16/01/2024/65a63f...  economics   \n",
       "1     https://www.rbc.ru/rbcfreenews/65a5540a9a79479...  economics   \n",
       "2     https://www.rbc.ru/economics/16/01/2024/65a52d...  economics   \n",
       "3     https://www.rbc.ru/economics/16/01/2024/659e3d...  economics   \n",
       "4     https://www.rbc.ru/rbcfreenews/65a5f58c9a79473...  economics   \n",
       "...                                                 ...        ...   \n",
       "4841  https://www.rbc.ru/finances/24/03/2023/641c185...   finances   \n",
       "4842  https://www.rbc.ru/opinions/finances/24/03/202...   finances   \n",
       "4843  https://www.rbc.ru/finances/24/03/2023/641ce28...   finances   \n",
       "4844  https://www.rbc.ru/rbcfreenews/641cdf139a79472...   finances   \n",
       "4845  https://www.rbc.ru/finances/24/03/2023/641c798...   finances   \n",
       "\n",
       "                                                  title  \\\n",
       "0     В ЦБ заявили о планах привлечь 9 млн россиян к...   \n",
       "1     Ефимов сообщил детали редевелопмента 10 участк...   \n",
       "2     Число регистраций ИП впервые приблизилось к ми...   \n",
       "3     Росстат резко повысил оценку российского ВВП. ...   \n",
       "4     В России проиндексируют более 40 видов выплат ...   \n",
       "...                                                 ...   \n",
       "4841  Задорнов назвал «хронических больных» среди ба...   \n",
       "4842  «Нулевой пациент». Чем банковский кризис напом...   \n",
       "4843  Глава Citi рассказала, как мобильные приложени...   \n",
       "4844  Bloomberg узнал о проверке Credit Suisse насче...   \n",
       "4845  Из открытых в 2022-м брокерских счетов лишь 3%...   \n",
       "\n",
       "                                                   text  \\\n",
       "0     К 2030 году в программе долгосрочных сбережени...   \n",
       "1     В рамках столичной программы комплексного разв...   \n",
       "2     По итогам 2023 года число действующих индивиду...   \n",
       "3     Росстат в конце прошлого года опубликовал нову...   \n",
       "4     Ряд самых разных выплат, субсидий и пособий пл...   \n",
       "...                                                 ...   \n",
       "4841  Спасение второго банка Швейцарии Credit Suisse...   \n",
       "4842  Связь между крахом американских банков и пробл...   \n",
       "4843  Банковские приложения в смартфонах позволяют к...   \n",
       "4844  Швейцарские банки Credit Suisse и UBS вошли в ...   \n",
       "4845  В 2022 году было открыто 300 тыс. уникальных (...   \n",
       "\n",
       "                                                   tags  \n",
       "0                         [сбережения, ЦБ, Минфин, НПФ]  \n",
       "1              [редевелопмент, Москва, Владимир Ефимов]  \n",
       "2     [ФНС, индивидуальные предприниматели, регистра...  \n",
       "3                    [Росстат, ВВП, экономический рост]  \n",
       "4                        [индексация, выплаты, Минтруд]  \n",
       "...                                                 ...  \n",
       "4841                [Банки, США, Европа, Credit Suisse]  \n",
       "4842                   [мнение, Михаил Задорнов, Банки]  \n",
       "4843  [Citi, Silicon Valley Bank, Банки, мобильные п...  \n",
       "4844  [Credit Suisse, UBS, Швейцария, Банки, санкции...  \n",
       "4845                          [Банк России, Инвестиции]  \n",
       "\n",
       "[4846 rows x 5 columns]"
      ]
     },
     "execution_count": 3,
     "metadata": {},
     "output_type": "execute_result"
    }
   ],
   "source": [
    "df = pd.DataFrame(data['catalog'])\n",
    "df"
   ]
  },
  {
   "cell_type": "code",
   "execution_count": 4,
   "metadata": {},
   "outputs": [],
   "source": [
    "le = LabelEncoder()\n",
    "y = le.fit_transform(df['category'])"
   ]
  },
  {
   "cell_type": "code",
   "execution_count": 5,
   "metadata": {},
   "outputs": [],
   "source": [
    "corpus = list(df['text'])"
   ]
  },
  {
   "cell_type": "code",
   "execution_count": 6,
   "metadata": {},
   "outputs": [],
   "source": [
    "#Удаляем ссылки\n",
    "corpus = [re.sub(r'\\w+:\\/{2}[\\d\\w-]+(\\.[\\d\\w-]+)*(?:(?:\\/[^\\s/]*))*', u'', doc) for doc in corpus]\n",
    "corpus = [re.sub(' +' , ' ', doc) for doc in corpus]\n",
    "\n",
    "#Удаляем лишние пробелы\n",
    "corpus = np.asarray([doc.strip().strip('\\t').replace('\\n', u'') for doc in corpus])"
   ]
  },
  {
   "cell_type": "code",
   "execution_count": 7,
   "metadata": {},
   "outputs": [
    {
     "data": {
      "text/plain": [
       "'!\"#$%&\\'()*+,-./:;<=>?@[\\\\]^_`{|}~'"
      ]
     },
     "execution_count": 7,
     "metadata": {},
     "output_type": "execute_result"
    }
   ],
   "source": [
    "string.punctuation"
   ]
  },
  {
   "cell_type": "code",
   "execution_count": 8,
   "metadata": {},
   "outputs": [],
   "source": [
    "EXCLUDE_SYMBOLS_STR = u''.join(['№', '«', 'ђ', '°', '±', '‚', 'ћ', '‰', '…', '»', 'ѓ', 'µ', '·', 'ґ', 'њ', 'ї', 'џ', 'є', '‹',\n",
    "                                '‡', '†', '¶', 'ќ', '€', '“', 'ў', '§', '„', '”', '\\ufeff', '’', 'љ', '›', '•', '—', '‘', \n",
    "                                '\\x7f', '\\xad', '¤', '\\xa0'])"
   ]
  },
  {
   "cell_type": "code",
   "execution_count": 9,
   "metadata": {},
   "outputs": [],
   "source": [
    "regex_punct = re.compile('[%s]' % re.escape(string.punctuation))\n",
    "regex_dig = re.compile('[%s]' % re.escape(string.digits))\n",
    "regex_symb = re.compile('[%s]' % re.escape(EXCLUDE_SYMBOLS_STR))\n",
    "regex_struct = re.compile('[%s]' % string.printable + string.whitespace)\n",
    "emoji_pattern = re.compile(\"[\"\n",
    "        \"\\U0001F600-\\U0001F64F\"  # emoticons\n",
    "        \"\\U0001F300-\\U0001F5FF\"  # symbols & pictographs\n",
    "        \"\\U0001F680-\\U0001F6FF\"  # transport & map symbols\n",
    "        \"\\U0001F1E0-\\U0001F1FF\"  # flags (iOS)\n",
    "                           \"]+\")"
   ]
  },
  {
   "cell_type": "code",
   "execution_count": 10,
   "metadata": {},
   "outputs": [],
   "source": [
    "corpus = [regex_punct.sub('', doc) for doc in corpus]\n",
    "corpus = [regex_dig.sub('', doc) for doc in corpus]\n",
    "corpus = [regex_symb.sub(' ', doc) for doc in corpus]\n",
    "corpus = [regex_struct.sub('', doc) for doc in corpus]\n",
    "corpus = [re.sub(' +' , ' ', doc.strip()) for doc in corpus]"
   ]
  },
  {
   "cell_type": "code",
   "execution_count": 11,
   "metadata": {},
   "outputs": [],
   "source": [
    "corpus = [doc.lower() for doc in corpus]"
   ]
  },
  {
   "cell_type": "code",
   "execution_count": 12,
   "metadata": {},
   "outputs": [
    {
     "name": "stderr",
     "output_type": "stream",
     "text": [
      "[nltk_data] Downloading package punkt to /home/alex/nltk_data...\n",
      "[nltk_data]   Package punkt is already up-to-date!\n",
      "[nltk_data] Downloading package stopwords to /home/alex/nltk_data...\n",
      "[nltk_data]   Package stopwords is already up-to-date!\n"
     ]
    },
    {
     "data": {
      "text/plain": [
       "True"
      ]
     },
     "execution_count": 12,
     "metadata": {},
     "output_type": "execute_result"
    }
   ],
   "source": [
    "nltk.download('punkt')\n",
    "nltk.download('stopwords')"
   ]
  },
  {
   "cell_type": "code",
   "execution_count": 13,
   "metadata": {},
   "outputs": [],
   "source": [
    "stop_words = set(stopwords.words('russian'))"
   ]
  },
  {
   "cell_type": "code",
   "execution_count": 14,
   "metadata": {},
   "outputs": [
    {
     "name": "stderr",
     "output_type": "stream",
     "text": [
      "4846it [03:05, 26.13it/s]\n"
     ]
    }
   ],
   "source": [
    "morph = MorphAnalyzer()\n",
    "\n",
    "for i, doc in tqdm(enumerate(corpus)):\n",
    "    tokens = word_tokenize(doc)\n",
    "    filtered = [word for word in tokens if word not in stop_words]\n",
    "    lemmatized = [morph.normal_forms(token)[0] for token in filtered]\n",
    "    corpus[i] = lemmatized"
   ]
  },
  {
   "cell_type": "code",
   "execution_count": 15,
   "metadata": {},
   "outputs": [],
   "source": [
    "corpus = [' '.join(doc) for doc in corpus]"
   ]
  },
  {
   "cell_type": "markdown",
   "metadata": {},
   "source": [
    "Векторизую с помощью TfidfVectorizer"
   ]
  },
  {
   "cell_type": "code",
   "execution_count": 16,
   "metadata": {},
   "outputs": [],
   "source": [
    "vectorizer = TfidfVectorizer()\n",
    "X_train, X_test, y_train, y_test = train_test_split(corpus,\n",
    "                                                   y,\n",
    "                                                   test_size=0.4,\n",
    "                                                   random_state=54)"
   ]
  },
  {
   "cell_type": "code",
   "execution_count": 17,
   "metadata": {},
   "outputs": [],
   "source": [
    "vectorizer.fit(X_train)\n",
    "\n",
    "X_train_tfidf = vectorizer.transform(X_train)\n",
    "X_test_tfidf = vectorizer.transform(X_test)"
   ]
  },
  {
   "cell_type": "markdown",
   "metadata": {},
   "source": [
    "## Подбор моделей и предсказывание категорий"
   ]
  },
  {
   "cell_type": "code",
   "execution_count": 18,
   "metadata": {},
   "outputs": [],
   "source": [
    "from sklearn.ensemble import RandomForestClassifier\n",
    "from sklearn.linear_model import LogisticRegression\n",
    "from sklearn.naive_bayes import GaussianNB\n",
    "from catboost import CatBoostClassifier\n",
    "from sklearn.neighbors import KNeighborsClassifier\n",
    "from sklearn.metrics import accuracy_score\n",
    "from sklearn.svm import SVC"
   ]
  },
  {
   "cell_type": "markdown",
   "metadata": {},
   "source": [
    "Запускаю модели с дефолтными параметрами"
   ]
  },
  {
   "cell_type": "code",
   "execution_count": 40,
   "metadata": {},
   "outputs": [
    {
     "name": "stdout",
     "output_type": "stream",
     "text": [
      "Random Forest accuracy: 0.7643115007735947\n"
     ]
    }
   ],
   "source": [
    "rf = RandomForestClassifier()\n",
    "rf.fit(X_train_tfidf, y_train)\n",
    "rf_preds = rf.predict(X_test_tfidf)\n",
    "rf_acc = accuracy_score(y_test, rf_preds)\n",
    "print(f'Random Forest accuracy: {rf_acc}')"
   ]
  },
  {
   "cell_type": "markdown",
   "metadata": {},
   "source": [
    "Важность слов по мнению уважаемого алгоритма RandomForestClassifier"
   ]
  },
  {
   "cell_type": "code",
   "execution_count": 58,
   "metadata": {},
   "outputs": [
    {
     "data": {
      "text/html": [
       "<div>\n",
       "<style scoped>\n",
       "    .dataframe tbody tr th:only-of-type {\n",
       "        vertical-align: middle;\n",
       "    }\n",
       "\n",
       "    .dataframe tbody tr th {\n",
       "        vertical-align: top;\n",
       "    }\n",
       "\n",
       "    .dataframe thead th {\n",
       "        text-align: right;\n",
       "    }\n",
       "</style>\n",
       "<table border=\"1\" class=\"dataframe\">\n",
       "  <thead>\n",
       "    <tr style=\"text-align: right;\">\n",
       "      <th></th>\n",
       "      <th>features</th>\n",
       "      <th>importances</th>\n",
       "    </tr>\n",
       "  </thead>\n",
       "  <tbody>\n",
       "    <tr>\n",
       "      <th>5651</th>\n",
       "      <td>банк</td>\n",
       "      <td>0.014202</td>\n",
       "    </tr>\n",
       "    <tr>\n",
       "      <th>31395</th>\n",
       "      <td>цб</td>\n",
       "      <td>0.007491</td>\n",
       "    </tr>\n",
       "    <tr>\n",
       "      <th>16122</th>\n",
       "      <td>матч</td>\n",
       "      <td>0.006253</td>\n",
       "    </tr>\n",
       "    <tr>\n",
       "      <th>14557</th>\n",
       "      <td>кредитный</td>\n",
       "      <td>0.005687</td>\n",
       "    </tr>\n",
       "    <tr>\n",
       "      <th>13956</th>\n",
       "      <td>компания</td>\n",
       "      <td>0.005627</td>\n",
       "    </tr>\n",
       "    <tr>\n",
       "      <th>29520</th>\n",
       "      <td>турнир</td>\n",
       "      <td>0.005591</td>\n",
       "    </tr>\n",
       "    <tr>\n",
       "      <th>31670</th>\n",
       "      <td>чемпионат</td>\n",
       "      <td>0.005251</td>\n",
       "    </tr>\n",
       "    <tr>\n",
       "      <th>13867</th>\n",
       "      <td>команда</td>\n",
       "      <td>0.005034</td>\n",
       "    </tr>\n",
       "    <tr>\n",
       "      <th>32399</th>\n",
       "      <td>экономика</td>\n",
       "      <td>0.004077</td>\n",
       "    </tr>\n",
       "    <tr>\n",
       "      <th>25463</th>\n",
       "      <td>россиянин</td>\n",
       "      <td>0.003603</td>\n",
       "    </tr>\n",
       "  </tbody>\n",
       "</table>\n",
       "</div>"
      ],
      "text/plain": [
       "        features  importances\n",
       "5651        банк     0.014202\n",
       "31395         цб     0.007491\n",
       "16122       матч     0.006253\n",
       "14557  кредитный     0.005687\n",
       "13956   компания     0.005627\n",
       "29520     турнир     0.005591\n",
       "31670  чемпионат     0.005251\n",
       "13867    команда     0.005034\n",
       "32399  экономика     0.004077\n",
       "25463  россиянин     0.003603"
      ]
     },
     "execution_count": 58,
     "metadata": {},
     "output_type": "execute_result"
    }
   ],
   "source": [
    "feature_names = vectorizer.get_feature_names_out()\n",
    "feature_imp = rf.feature_importances_\n",
    "imp_words = [(feature_names[i], feature_imp[i]) for i in range(len(feature_imp))]\n",
    "rf_imp_df = pd.DataFrame(imp_words, columns=['features', 'importances'])\n",
    "rf_imp_df = rf_imp_df.sort_values(by='importances', ascending=False)\n",
    "rf_imp_df[:10]"
   ]
  },
  {
   "cell_type": "code",
   "execution_count": 60,
   "metadata": {},
   "outputs": [
    {
     "name": "stdout",
     "output_type": "stream",
     "text": [
      "Catboost accuracy: 0.7705002578648789\n"
     ]
    }
   ],
   "source": [
    "cb = CatBoostClassifier(iterations=100, silent=True)\n",
    "cb.fit(X_train_tfidf, y_train)\n",
    "cb_preds = cb.predict(X_test_tfidf)\n",
    "cb_acc = accuracy_score(y_test, cb_preds)\n",
    "print(f'Catboost accuracy: {cb_acc}')"
   ]
  },
  {
   "cell_type": "markdown",
   "metadata": {},
   "source": [
    "Важность слов по мнению уважаемого алгоритма CatBoostClassifier"
   ]
  },
  {
   "cell_type": "code",
   "execution_count": 61,
   "metadata": {},
   "outputs": [
    {
     "data": {
      "text/html": [
       "<div>\n",
       "<style scoped>\n",
       "    .dataframe tbody tr th:only-of-type {\n",
       "        vertical-align: middle;\n",
       "    }\n",
       "\n",
       "    .dataframe tbody tr th {\n",
       "        vertical-align: top;\n",
       "    }\n",
       "\n",
       "    .dataframe thead th {\n",
       "        text-align: right;\n",
       "    }\n",
       "</style>\n",
       "<table border=\"1\" class=\"dataframe\">\n",
       "  <thead>\n",
       "    <tr style=\"text-align: right;\">\n",
       "      <th></th>\n",
       "      <th>features</th>\n",
       "      <th>importances</th>\n",
       "    </tr>\n",
       "  </thead>\n",
       "  <tbody>\n",
       "    <tr>\n",
       "      <th>5651</th>\n",
       "      <td>банк</td>\n",
       "      <td>16.883219</td>\n",
       "    </tr>\n",
       "    <tr>\n",
       "      <th>16122</th>\n",
       "      <td>матч</td>\n",
       "      <td>9.857625</td>\n",
       "    </tr>\n",
       "    <tr>\n",
       "      <th>13956</th>\n",
       "      <td>компания</td>\n",
       "      <td>5.361587</td>\n",
       "    </tr>\n",
       "    <tr>\n",
       "      <th>31395</th>\n",
       "      <td>цб</td>\n",
       "      <td>2.769498</td>\n",
       "    </tr>\n",
       "    <tr>\n",
       "      <th>16789</th>\n",
       "      <td>млрд</td>\n",
       "      <td>1.887911</td>\n",
       "    </tr>\n",
       "    <tr>\n",
       "      <th>22270</th>\n",
       "      <td>пользователь</td>\n",
       "      <td>1.878975</td>\n",
       "    </tr>\n",
       "    <tr>\n",
       "      <th>32399</th>\n",
       "      <td>экономика</td>\n",
       "      <td>1.707147</td>\n",
       "    </tr>\n",
       "    <tr>\n",
       "      <th>28766</th>\n",
       "      <td>тема</td>\n",
       "      <td>1.695806</td>\n",
       "    </tr>\n",
       "    <tr>\n",
       "      <th>31669</th>\n",
       "      <td>чемпион</td>\n",
       "      <td>1.539189</td>\n",
       "    </tr>\n",
       "    <tr>\n",
       "      <th>25470</th>\n",
       "      <td>рост</td>\n",
       "      <td>1.438963</td>\n",
       "    </tr>\n",
       "  </tbody>\n",
       "</table>\n",
       "</div>"
      ],
      "text/plain": [
       "           features  importances\n",
       "5651           банк    16.883219\n",
       "16122          матч     9.857625\n",
       "13956      компания     5.361587\n",
       "31395            цб     2.769498\n",
       "16789          млрд     1.887911\n",
       "22270  пользователь     1.878975\n",
       "32399     экономика     1.707147\n",
       "28766          тема     1.695806\n",
       "31669       чемпион     1.539189\n",
       "25470          рост     1.438963"
      ]
     },
     "execution_count": 61,
     "metadata": {},
     "output_type": "execute_result"
    }
   ],
   "source": [
    "feature_names = vectorizer.get_feature_names_out()\n",
    "feature_imp = cb.feature_importances_\n",
    "imp_words = [(feature_names[i], feature_imp[i]) for i in range(len(feature_imp))]\n",
    "cb_imp_df = pd.DataFrame(imp_words, columns=['features', 'importances'])\n",
    "cb_imp_df = cb_imp_df.sort_values(by='importances', ascending=False)\n",
    "cb_imp_df[:10]"
   ]
  },
  {
   "cell_type": "code",
   "execution_count": 21,
   "metadata": {},
   "outputs": [
    {
     "name": "stdout",
     "output_type": "stream",
     "text": [
      "Logistic Regression accuracy: 0.8359979370809696\n"
     ]
    }
   ],
   "source": [
    "lr = LogisticRegression()\n",
    "lr.fit(X_train_tfidf, y_train)\n",
    "lr_preds = lr.predict(X_test_tfidf)\n",
    "lr_acc = accuracy_score(y_test, lr_preds)\n",
    "print(f'Logistic Regression accuracy: {lr_acc}')"
   ]
  },
  {
   "cell_type": "code",
   "execution_count": 22,
   "metadata": {},
   "outputs": [
    {
     "name": "stdout",
     "output_type": "stream",
     "text": [
      "Naive Bayes accuracy: 0.7493553378029912\n"
     ]
    }
   ],
   "source": [
    "nb = GaussianNB()\n",
    "nb.fit(X_train_tfidf.toarray(), y_train)\n",
    "nb_preds = nb.predict(X_test_tfidf.toarray())\n",
    "nb_acc = accuracy_score(y_test, nb_preds)\n",
    "print(f'Naive Bayes accuracy: {nb_acc}')"
   ]
  },
  {
   "cell_type": "code",
   "execution_count": 23,
   "metadata": {},
   "outputs": [
    {
     "name": "stdout",
     "output_type": "stream",
     "text": [
      "SVC accuracy: 0.8215575038679732\n"
     ]
    }
   ],
   "source": [
    "svc = SVC()\n",
    "svc.fit(X_train_tfidf, y_train)\n",
    "svc_preds = svc.predict(X_test_tfidf)\n",
    "svc_acc = accuracy_score(y_test, svc_preds)\n",
    "print(f'SVC accuracy: {svc_acc}')"
   ]
  },
  {
   "cell_type": "code",
   "execution_count": 24,
   "metadata": {},
   "outputs": [
    {
     "name": "stdout",
     "output_type": "stream",
     "text": [
      "KNN accuracy: 0.7931923671995874\n"
     ]
    }
   ],
   "source": [
    "knn = KNeighborsClassifier()\n",
    "knn.fit(X_train_tfidf, y_train)\n",
    "knn_preds = knn.predict(X_test_tfidf)\n",
    "knn_acc = accuracy_score(y_test, knn_preds)\n",
    "print(f'KNN accuracy: {knn_acc}')"
   ]
  },
  {
   "cell_type": "code",
   "execution_count": 25,
   "metadata": {},
   "outputs": [],
   "source": [
    "# algs = [(RandomForestClassifier(), 'Random Forest'),\n",
    "#         (CatBoostClassifier(iterations=100, silent=True), 'Catboost'),\n",
    "#         (LogisticRegression(), 'Logistic Regression'),\n",
    "#         ]"
   ]
  },
  {
   "cell_type": "markdown",
   "metadata": {},
   "source": [
    "Поиск оптимальных параметров для моделей с помощью Optuna"
   ]
  },
  {
   "cell_type": "code",
   "execution_count": 74,
   "metadata": {},
   "outputs": [],
   "source": [
    "def optimize_parameters(model_name: str, n_trials: int):\n",
    "        \n",
    "    def objective(trial):\n",
    "        if model_name == 'RF':\n",
    "            rf_max_depth = trial.suggest_int(\"rf_max_depth\", 2, 32, log=True)\n",
    "            rf_n_estimators = trial.suggest_int(\"rf_n_estimators\", 50, 300, log=True)\n",
    "            classifier = RandomForestClassifier(n_estimators=rf_n_estimators, max_depth=rf_max_depth)\n",
    "        elif model_name == 'CatBoost':\n",
    "            cb_iterarions = trial.suggest_int(\"cb_iterations\", 50, 300, log=True)\n",
    "            cb_learning_rate = trial.suggest_float(\"cb_learning_rate\", 0.01, 0.5, log=True)\n",
    "            cb_depth = trial.suggest_int(\"cb_depth\", 1, 10, log=True)\n",
    "            classifier = CatBoostClassifier(iterations=cb_iterarions, learning_rate=cb_learning_rate,\n",
    "                                            depth=cb_depth, silent=True)\n",
    "        elif model_name == 'LogReg':\n",
    "            lr_penalty = trial.suggest_categorical(\"cb_penalty\", ['l1', 'l2'])\n",
    "            classifier = LogisticRegression(penalty=lr_penalty, solver='liblinear')\n",
    "        elif model_name == 'SVC':\n",
    "            svc_c = trial.suggest_float(\"svc_c\", 0.1, 100, log=True)\n",
    "            svc_kernel = trial.suggest_categorical(\"svc_kernel\", ['linear', 'rbf', 'sigmoid'])\n",
    "            classifier = SVC(C=svc_c, kernel=svc_kernel)\n",
    "        elif model_name == 'KNN':\n",
    "            knn_n_neighbors = trial.suggest_int(\"knn_n_neighbors\", 2, 30, log=True)\n",
    "            classifier = KNeighborsClassifier(n_neighbors=knn_n_neighbors)\n",
    "            \n",
    "        classifier.fit(X_train_tfidf, y_train)\n",
    "        y_pred = classifier.predict(X_test_tfidf)\n",
    "        acc = accuracy_score(y_test, y_pred)\n",
    "        \n",
    "        return acc\n",
    "    \n",
    "    study = optuna.create_study(direction='maximize')\n",
    "    study.optimize(objective, n_trials=n_trials)\n",
    "    print(model_name + ':')\n",
    "    print(\"Best accuracy:\", study.best_trial.value)\n",
    "    print(\"Best hyperparameters:\", study.best_params)\n",
    "    optimization_history_plot = vis.plot_optimization_history(study)\n",
    "    optimization_history_plot.show()\n",
    "    print('-----------------------------\\n')"
   ]
  },
  {
   "cell_type": "code",
   "execution_count": 75,
   "metadata": {},
   "outputs": [
    {
     "name": "stderr",
     "output_type": "stream",
     "text": [
      "[I 2024-01-29 17:29:00,691] A new study created in memory with name: no-name-69b434b2-5127-47d2-892e-38fdc162e356\n",
      "[I 2024-01-29 17:29:01,384] Trial 0 finished with value: 0.8344507478081485 and parameters: {'cb_penalty': 'l2'}. Best is trial 0 with value: 0.8344507478081485.\n",
      "[I 2024-01-29 17:29:01,634] Trial 1 finished with value: 0.7952552862300155 and parameters: {'cb_penalty': 'l1'}. Best is trial 0 with value: 0.8344507478081485.\n"
     ]
    },
    {
     "name": "stdout",
     "output_type": "stream",
     "text": [
      "LogReg:\n",
      "Best accuracy: 0.8344507478081485\n",
      "Best hyperparameters: {'cb_penalty': 'l2'}\n"
     ]
    },
    {
     "data": {
      "application/vnd.plotly.v1+json": {
       "config": {
        "plotlyServerURL": "https://plot.ly"
       },
       "data": [
        {
         "mode": "markers",
         "name": "Objective Value",
         "type": "scatter",
         "x": [
          0,
          1
         ],
         "y": [
          0.8344507478081485,
          0.7952552862300155
         ]
        },
        {
         "name": "Best Value",
         "type": "scatter",
         "x": [
          0,
          1
         ],
         "y": [
          0.8344507478081485,
          0.8344507478081485
         ]
        }
       ],
       "layout": {
        "template": {
         "data": {
          "bar": [
           {
            "error_x": {
             "color": "#2a3f5f"
            },
            "error_y": {
             "color": "#2a3f5f"
            },
            "marker": {
             "line": {
              "color": "#E5ECF6",
              "width": 0.5
             },
             "pattern": {
              "fillmode": "overlay",
              "size": 10,
              "solidity": 0.2
             }
            },
            "type": "bar"
           }
          ],
          "barpolar": [
           {
            "marker": {
             "line": {
              "color": "#E5ECF6",
              "width": 0.5
             },
             "pattern": {
              "fillmode": "overlay",
              "size": 10,
              "solidity": 0.2
             }
            },
            "type": "barpolar"
           }
          ],
          "carpet": [
           {
            "aaxis": {
             "endlinecolor": "#2a3f5f",
             "gridcolor": "white",
             "linecolor": "white",
             "minorgridcolor": "white",
             "startlinecolor": "#2a3f5f"
            },
            "baxis": {
             "endlinecolor": "#2a3f5f",
             "gridcolor": "white",
             "linecolor": "white",
             "minorgridcolor": "white",
             "startlinecolor": "#2a3f5f"
            },
            "type": "carpet"
           }
          ],
          "choropleth": [
           {
            "colorbar": {
             "outlinewidth": 0,
             "ticks": ""
            },
            "type": "choropleth"
           }
          ],
          "contour": [
           {
            "colorbar": {
             "outlinewidth": 0,
             "ticks": ""
            },
            "colorscale": [
             [
              0,
              "#0d0887"
             ],
             [
              0.1111111111111111,
              "#46039f"
             ],
             [
              0.2222222222222222,
              "#7201a8"
             ],
             [
              0.3333333333333333,
              "#9c179e"
             ],
             [
              0.4444444444444444,
              "#bd3786"
             ],
             [
              0.5555555555555556,
              "#d8576b"
             ],
             [
              0.6666666666666666,
              "#ed7953"
             ],
             [
              0.7777777777777778,
              "#fb9f3a"
             ],
             [
              0.8888888888888888,
              "#fdca26"
             ],
             [
              1,
              "#f0f921"
             ]
            ],
            "type": "contour"
           }
          ],
          "contourcarpet": [
           {
            "colorbar": {
             "outlinewidth": 0,
             "ticks": ""
            },
            "type": "contourcarpet"
           }
          ],
          "heatmap": [
           {
            "colorbar": {
             "outlinewidth": 0,
             "ticks": ""
            },
            "colorscale": [
             [
              0,
              "#0d0887"
             ],
             [
              0.1111111111111111,
              "#46039f"
             ],
             [
              0.2222222222222222,
              "#7201a8"
             ],
             [
              0.3333333333333333,
              "#9c179e"
             ],
             [
              0.4444444444444444,
              "#bd3786"
             ],
             [
              0.5555555555555556,
              "#d8576b"
             ],
             [
              0.6666666666666666,
              "#ed7953"
             ],
             [
              0.7777777777777778,
              "#fb9f3a"
             ],
             [
              0.8888888888888888,
              "#fdca26"
             ],
             [
              1,
              "#f0f921"
             ]
            ],
            "type": "heatmap"
           }
          ],
          "heatmapgl": [
           {
            "colorbar": {
             "outlinewidth": 0,
             "ticks": ""
            },
            "colorscale": [
             [
              0,
              "#0d0887"
             ],
             [
              0.1111111111111111,
              "#46039f"
             ],
             [
              0.2222222222222222,
              "#7201a8"
             ],
             [
              0.3333333333333333,
              "#9c179e"
             ],
             [
              0.4444444444444444,
              "#bd3786"
             ],
             [
              0.5555555555555556,
              "#d8576b"
             ],
             [
              0.6666666666666666,
              "#ed7953"
             ],
             [
              0.7777777777777778,
              "#fb9f3a"
             ],
             [
              0.8888888888888888,
              "#fdca26"
             ],
             [
              1,
              "#f0f921"
             ]
            ],
            "type": "heatmapgl"
           }
          ],
          "histogram": [
           {
            "marker": {
             "pattern": {
              "fillmode": "overlay",
              "size": 10,
              "solidity": 0.2
             }
            },
            "type": "histogram"
           }
          ],
          "histogram2d": [
           {
            "colorbar": {
             "outlinewidth": 0,
             "ticks": ""
            },
            "colorscale": [
             [
              0,
              "#0d0887"
             ],
             [
              0.1111111111111111,
              "#46039f"
             ],
             [
              0.2222222222222222,
              "#7201a8"
             ],
             [
              0.3333333333333333,
              "#9c179e"
             ],
             [
              0.4444444444444444,
              "#bd3786"
             ],
             [
              0.5555555555555556,
              "#d8576b"
             ],
             [
              0.6666666666666666,
              "#ed7953"
             ],
             [
              0.7777777777777778,
              "#fb9f3a"
             ],
             [
              0.8888888888888888,
              "#fdca26"
             ],
             [
              1,
              "#f0f921"
             ]
            ],
            "type": "histogram2d"
           }
          ],
          "histogram2dcontour": [
           {
            "colorbar": {
             "outlinewidth": 0,
             "ticks": ""
            },
            "colorscale": [
             [
              0,
              "#0d0887"
             ],
             [
              0.1111111111111111,
              "#46039f"
             ],
             [
              0.2222222222222222,
              "#7201a8"
             ],
             [
              0.3333333333333333,
              "#9c179e"
             ],
             [
              0.4444444444444444,
              "#bd3786"
             ],
             [
              0.5555555555555556,
              "#d8576b"
             ],
             [
              0.6666666666666666,
              "#ed7953"
             ],
             [
              0.7777777777777778,
              "#fb9f3a"
             ],
             [
              0.8888888888888888,
              "#fdca26"
             ],
             [
              1,
              "#f0f921"
             ]
            ],
            "type": "histogram2dcontour"
           }
          ],
          "mesh3d": [
           {
            "colorbar": {
             "outlinewidth": 0,
             "ticks": ""
            },
            "type": "mesh3d"
           }
          ],
          "parcoords": [
           {
            "line": {
             "colorbar": {
              "outlinewidth": 0,
              "ticks": ""
             }
            },
            "type": "parcoords"
           }
          ],
          "pie": [
           {
            "automargin": true,
            "type": "pie"
           }
          ],
          "scatter": [
           {
            "fillpattern": {
             "fillmode": "overlay",
             "size": 10,
             "solidity": 0.2
            },
            "type": "scatter"
           }
          ],
          "scatter3d": [
           {
            "line": {
             "colorbar": {
              "outlinewidth": 0,
              "ticks": ""
             }
            },
            "marker": {
             "colorbar": {
              "outlinewidth": 0,
              "ticks": ""
             }
            },
            "type": "scatter3d"
           }
          ],
          "scattercarpet": [
           {
            "marker": {
             "colorbar": {
              "outlinewidth": 0,
              "ticks": ""
             }
            },
            "type": "scattercarpet"
           }
          ],
          "scattergeo": [
           {
            "marker": {
             "colorbar": {
              "outlinewidth": 0,
              "ticks": ""
             }
            },
            "type": "scattergeo"
           }
          ],
          "scattergl": [
           {
            "marker": {
             "colorbar": {
              "outlinewidth": 0,
              "ticks": ""
             }
            },
            "type": "scattergl"
           }
          ],
          "scattermapbox": [
           {
            "marker": {
             "colorbar": {
              "outlinewidth": 0,
              "ticks": ""
             }
            },
            "type": "scattermapbox"
           }
          ],
          "scatterpolar": [
           {
            "marker": {
             "colorbar": {
              "outlinewidth": 0,
              "ticks": ""
             }
            },
            "type": "scatterpolar"
           }
          ],
          "scatterpolargl": [
           {
            "marker": {
             "colorbar": {
              "outlinewidth": 0,
              "ticks": ""
             }
            },
            "type": "scatterpolargl"
           }
          ],
          "scatterternary": [
           {
            "marker": {
             "colorbar": {
              "outlinewidth": 0,
              "ticks": ""
             }
            },
            "type": "scatterternary"
           }
          ],
          "surface": [
           {
            "colorbar": {
             "outlinewidth": 0,
             "ticks": ""
            },
            "colorscale": [
             [
              0,
              "#0d0887"
             ],
             [
              0.1111111111111111,
              "#46039f"
             ],
             [
              0.2222222222222222,
              "#7201a8"
             ],
             [
              0.3333333333333333,
              "#9c179e"
             ],
             [
              0.4444444444444444,
              "#bd3786"
             ],
             [
              0.5555555555555556,
              "#d8576b"
             ],
             [
              0.6666666666666666,
              "#ed7953"
             ],
             [
              0.7777777777777778,
              "#fb9f3a"
             ],
             [
              0.8888888888888888,
              "#fdca26"
             ],
             [
              1,
              "#f0f921"
             ]
            ],
            "type": "surface"
           }
          ],
          "table": [
           {
            "cells": {
             "fill": {
              "color": "#EBF0F8"
             },
             "line": {
              "color": "white"
             }
            },
            "header": {
             "fill": {
              "color": "#C8D4E3"
             },
             "line": {
              "color": "white"
             }
            },
            "type": "table"
           }
          ]
         },
         "layout": {
          "annotationdefaults": {
           "arrowcolor": "#2a3f5f",
           "arrowhead": 0,
           "arrowwidth": 1
          },
          "autotypenumbers": "strict",
          "coloraxis": {
           "colorbar": {
            "outlinewidth": 0,
            "ticks": ""
           }
          },
          "colorscale": {
           "diverging": [
            [
             0,
             "#8e0152"
            ],
            [
             0.1,
             "#c51b7d"
            ],
            [
             0.2,
             "#de77ae"
            ],
            [
             0.3,
             "#f1b6da"
            ],
            [
             0.4,
             "#fde0ef"
            ],
            [
             0.5,
             "#f7f7f7"
            ],
            [
             0.6,
             "#e6f5d0"
            ],
            [
             0.7,
             "#b8e186"
            ],
            [
             0.8,
             "#7fbc41"
            ],
            [
             0.9,
             "#4d9221"
            ],
            [
             1,
             "#276419"
            ]
           ],
           "sequential": [
            [
             0,
             "#0d0887"
            ],
            [
             0.1111111111111111,
             "#46039f"
            ],
            [
             0.2222222222222222,
             "#7201a8"
            ],
            [
             0.3333333333333333,
             "#9c179e"
            ],
            [
             0.4444444444444444,
             "#bd3786"
            ],
            [
             0.5555555555555556,
             "#d8576b"
            ],
            [
             0.6666666666666666,
             "#ed7953"
            ],
            [
             0.7777777777777778,
             "#fb9f3a"
            ],
            [
             0.8888888888888888,
             "#fdca26"
            ],
            [
             1,
             "#f0f921"
            ]
           ],
           "sequentialminus": [
            [
             0,
             "#0d0887"
            ],
            [
             0.1111111111111111,
             "#46039f"
            ],
            [
             0.2222222222222222,
             "#7201a8"
            ],
            [
             0.3333333333333333,
             "#9c179e"
            ],
            [
             0.4444444444444444,
             "#bd3786"
            ],
            [
             0.5555555555555556,
             "#d8576b"
            ],
            [
             0.6666666666666666,
             "#ed7953"
            ],
            [
             0.7777777777777778,
             "#fb9f3a"
            ],
            [
             0.8888888888888888,
             "#fdca26"
            ],
            [
             1,
             "#f0f921"
            ]
           ]
          },
          "colorway": [
           "#636efa",
           "#EF553B",
           "#00cc96",
           "#ab63fa",
           "#FFA15A",
           "#19d3f3",
           "#FF6692",
           "#B6E880",
           "#FF97FF",
           "#FECB52"
          ],
          "font": {
           "color": "#2a3f5f"
          },
          "geo": {
           "bgcolor": "white",
           "lakecolor": "white",
           "landcolor": "#E5ECF6",
           "showlakes": true,
           "showland": true,
           "subunitcolor": "white"
          },
          "hoverlabel": {
           "align": "left"
          },
          "hovermode": "closest",
          "mapbox": {
           "style": "light"
          },
          "paper_bgcolor": "white",
          "plot_bgcolor": "#E5ECF6",
          "polar": {
           "angularaxis": {
            "gridcolor": "white",
            "linecolor": "white",
            "ticks": ""
           },
           "bgcolor": "#E5ECF6",
           "radialaxis": {
            "gridcolor": "white",
            "linecolor": "white",
            "ticks": ""
           }
          },
          "scene": {
           "xaxis": {
            "backgroundcolor": "#E5ECF6",
            "gridcolor": "white",
            "gridwidth": 2,
            "linecolor": "white",
            "showbackground": true,
            "ticks": "",
            "zerolinecolor": "white"
           },
           "yaxis": {
            "backgroundcolor": "#E5ECF6",
            "gridcolor": "white",
            "gridwidth": 2,
            "linecolor": "white",
            "showbackground": true,
            "ticks": "",
            "zerolinecolor": "white"
           },
           "zaxis": {
            "backgroundcolor": "#E5ECF6",
            "gridcolor": "white",
            "gridwidth": 2,
            "linecolor": "white",
            "showbackground": true,
            "ticks": "",
            "zerolinecolor": "white"
           }
          },
          "shapedefaults": {
           "line": {
            "color": "#2a3f5f"
           }
          },
          "ternary": {
           "aaxis": {
            "gridcolor": "white",
            "linecolor": "white",
            "ticks": ""
           },
           "baxis": {
            "gridcolor": "white",
            "linecolor": "white",
            "ticks": ""
           },
           "bgcolor": "#E5ECF6",
           "caxis": {
            "gridcolor": "white",
            "linecolor": "white",
            "ticks": ""
           }
          },
          "title": {
           "x": 0.05
          },
          "xaxis": {
           "automargin": true,
           "gridcolor": "white",
           "linecolor": "white",
           "ticks": "",
           "title": {
            "standoff": 15
           },
           "zerolinecolor": "white",
           "zerolinewidth": 2
          },
          "yaxis": {
           "automargin": true,
           "gridcolor": "white",
           "linecolor": "white",
           "ticks": "",
           "title": {
            "standoff": 15
           },
           "zerolinecolor": "white",
           "zerolinewidth": 2
          }
         }
        },
        "title": {
         "text": "Optimization History Plot"
        },
        "xaxis": {
         "title": {
          "text": "Trial"
         }
        },
        "yaxis": {
         "title": {
          "text": "Objective Value"
         }
        }
       }
      },
      "text/html": [
       "<div>                            <div id=\"364ca9ed-8368-4a3e-ab2a-3071caa9bc88\" class=\"plotly-graph-div\" style=\"height:525px; width:100%;\"></div>            <script type=\"text/javascript\">                require([\"plotly\"], function(Plotly) {                    window.PLOTLYENV=window.PLOTLYENV || {};                                    if (document.getElementById(\"364ca9ed-8368-4a3e-ab2a-3071caa9bc88\")) {                    Plotly.newPlot(                        \"364ca9ed-8368-4a3e-ab2a-3071caa9bc88\",                        [{\"mode\":\"markers\",\"name\":\"Objective Value\",\"x\":[0,1],\"y\":[0.8344507478081485,0.7952552862300155],\"type\":\"scatter\"},{\"name\":\"Best Value\",\"x\":[0,1],\"y\":[0.8344507478081485,0.8344507478081485],\"type\":\"scatter\"}],                        {\"title\":{\"text\":\"Optimization History Plot\"},\"xaxis\":{\"title\":{\"text\":\"Trial\"}},\"yaxis\":{\"title\":{\"text\":\"Objective Value\"}},\"template\":{\"data\":{\"histogram2dcontour\":[{\"type\":\"histogram2dcontour\",\"colorbar\":{\"outlinewidth\":0,\"ticks\":\"\"},\"colorscale\":[[0.0,\"#0d0887\"],[0.1111111111111111,\"#46039f\"],[0.2222222222222222,\"#7201a8\"],[0.3333333333333333,\"#9c179e\"],[0.4444444444444444,\"#bd3786\"],[0.5555555555555556,\"#d8576b\"],[0.6666666666666666,\"#ed7953\"],[0.7777777777777778,\"#fb9f3a\"],[0.8888888888888888,\"#fdca26\"],[1.0,\"#f0f921\"]]}],\"choropleth\":[{\"type\":\"choropleth\",\"colorbar\":{\"outlinewidth\":0,\"ticks\":\"\"}}],\"histogram2d\":[{\"type\":\"histogram2d\",\"colorbar\":{\"outlinewidth\":0,\"ticks\":\"\"},\"colorscale\":[[0.0,\"#0d0887\"],[0.1111111111111111,\"#46039f\"],[0.2222222222222222,\"#7201a8\"],[0.3333333333333333,\"#9c179e\"],[0.4444444444444444,\"#bd3786\"],[0.5555555555555556,\"#d8576b\"],[0.6666666666666666,\"#ed7953\"],[0.7777777777777778,\"#fb9f3a\"],[0.8888888888888888,\"#fdca26\"],[1.0,\"#f0f921\"]]}],\"heatmap\":[{\"type\":\"heatmap\",\"colorbar\":{\"outlinewidth\":0,\"ticks\":\"\"},\"colorscale\":[[0.0,\"#0d0887\"],[0.1111111111111111,\"#46039f\"],[0.2222222222222222,\"#7201a8\"],[0.3333333333333333,\"#9c179e\"],[0.4444444444444444,\"#bd3786\"],[0.5555555555555556,\"#d8576b\"],[0.6666666666666666,\"#ed7953\"],[0.7777777777777778,\"#fb9f3a\"],[0.8888888888888888,\"#fdca26\"],[1.0,\"#f0f921\"]]}],\"heatmapgl\":[{\"type\":\"heatmapgl\",\"colorbar\":{\"outlinewidth\":0,\"ticks\":\"\"},\"colorscale\":[[0.0,\"#0d0887\"],[0.1111111111111111,\"#46039f\"],[0.2222222222222222,\"#7201a8\"],[0.3333333333333333,\"#9c179e\"],[0.4444444444444444,\"#bd3786\"],[0.5555555555555556,\"#d8576b\"],[0.6666666666666666,\"#ed7953\"],[0.7777777777777778,\"#fb9f3a\"],[0.8888888888888888,\"#fdca26\"],[1.0,\"#f0f921\"]]}],\"contourcarpet\":[{\"type\":\"contourcarpet\",\"colorbar\":{\"outlinewidth\":0,\"ticks\":\"\"}}],\"contour\":[{\"type\":\"contour\",\"colorbar\":{\"outlinewidth\":0,\"ticks\":\"\"},\"colorscale\":[[0.0,\"#0d0887\"],[0.1111111111111111,\"#46039f\"],[0.2222222222222222,\"#7201a8\"],[0.3333333333333333,\"#9c179e\"],[0.4444444444444444,\"#bd3786\"],[0.5555555555555556,\"#d8576b\"],[0.6666666666666666,\"#ed7953\"],[0.7777777777777778,\"#fb9f3a\"],[0.8888888888888888,\"#fdca26\"],[1.0,\"#f0f921\"]]}],\"surface\":[{\"type\":\"surface\",\"colorbar\":{\"outlinewidth\":0,\"ticks\":\"\"},\"colorscale\":[[0.0,\"#0d0887\"],[0.1111111111111111,\"#46039f\"],[0.2222222222222222,\"#7201a8\"],[0.3333333333333333,\"#9c179e\"],[0.4444444444444444,\"#bd3786\"],[0.5555555555555556,\"#d8576b\"],[0.6666666666666666,\"#ed7953\"],[0.7777777777777778,\"#fb9f3a\"],[0.8888888888888888,\"#fdca26\"],[1.0,\"#f0f921\"]]}],\"mesh3d\":[{\"type\":\"mesh3d\",\"colorbar\":{\"outlinewidth\":0,\"ticks\":\"\"}}],\"scatter\":[{\"fillpattern\":{\"fillmode\":\"overlay\",\"size\":10,\"solidity\":0.2},\"type\":\"scatter\"}],\"parcoords\":[{\"type\":\"parcoords\",\"line\":{\"colorbar\":{\"outlinewidth\":0,\"ticks\":\"\"}}}],\"scatterpolargl\":[{\"type\":\"scatterpolargl\",\"marker\":{\"colorbar\":{\"outlinewidth\":0,\"ticks\":\"\"}}}],\"bar\":[{\"error_x\":{\"color\":\"#2a3f5f\"},\"error_y\":{\"color\":\"#2a3f5f\"},\"marker\":{\"line\":{\"color\":\"#E5ECF6\",\"width\":0.5},\"pattern\":{\"fillmode\":\"overlay\",\"size\":10,\"solidity\":0.2}},\"type\":\"bar\"}],\"scattergeo\":[{\"type\":\"scattergeo\",\"marker\":{\"colorbar\":{\"outlinewidth\":0,\"ticks\":\"\"}}}],\"scatterpolar\":[{\"type\":\"scatterpolar\",\"marker\":{\"colorbar\":{\"outlinewidth\":0,\"ticks\":\"\"}}}],\"histogram\":[{\"marker\":{\"pattern\":{\"fillmode\":\"overlay\",\"size\":10,\"solidity\":0.2}},\"type\":\"histogram\"}],\"scattergl\":[{\"type\":\"scattergl\",\"marker\":{\"colorbar\":{\"outlinewidth\":0,\"ticks\":\"\"}}}],\"scatter3d\":[{\"type\":\"scatter3d\",\"line\":{\"colorbar\":{\"outlinewidth\":0,\"ticks\":\"\"}},\"marker\":{\"colorbar\":{\"outlinewidth\":0,\"ticks\":\"\"}}}],\"scattermapbox\":[{\"type\":\"scattermapbox\",\"marker\":{\"colorbar\":{\"outlinewidth\":0,\"ticks\":\"\"}}}],\"scatterternary\":[{\"type\":\"scatterternary\",\"marker\":{\"colorbar\":{\"outlinewidth\":0,\"ticks\":\"\"}}}],\"scattercarpet\":[{\"type\":\"scattercarpet\",\"marker\":{\"colorbar\":{\"outlinewidth\":0,\"ticks\":\"\"}}}],\"carpet\":[{\"aaxis\":{\"endlinecolor\":\"#2a3f5f\",\"gridcolor\":\"white\",\"linecolor\":\"white\",\"minorgridcolor\":\"white\",\"startlinecolor\":\"#2a3f5f\"},\"baxis\":{\"endlinecolor\":\"#2a3f5f\",\"gridcolor\":\"white\",\"linecolor\":\"white\",\"minorgridcolor\":\"white\",\"startlinecolor\":\"#2a3f5f\"},\"type\":\"carpet\"}],\"table\":[{\"cells\":{\"fill\":{\"color\":\"#EBF0F8\"},\"line\":{\"color\":\"white\"}},\"header\":{\"fill\":{\"color\":\"#C8D4E3\"},\"line\":{\"color\":\"white\"}},\"type\":\"table\"}],\"barpolar\":[{\"marker\":{\"line\":{\"color\":\"#E5ECF6\",\"width\":0.5},\"pattern\":{\"fillmode\":\"overlay\",\"size\":10,\"solidity\":0.2}},\"type\":\"barpolar\"}],\"pie\":[{\"automargin\":true,\"type\":\"pie\"}]},\"layout\":{\"autotypenumbers\":\"strict\",\"colorway\":[\"#636efa\",\"#EF553B\",\"#00cc96\",\"#ab63fa\",\"#FFA15A\",\"#19d3f3\",\"#FF6692\",\"#B6E880\",\"#FF97FF\",\"#FECB52\"],\"font\":{\"color\":\"#2a3f5f\"},\"hovermode\":\"closest\",\"hoverlabel\":{\"align\":\"left\"},\"paper_bgcolor\":\"white\",\"plot_bgcolor\":\"#E5ECF6\",\"polar\":{\"bgcolor\":\"#E5ECF6\",\"angularaxis\":{\"gridcolor\":\"white\",\"linecolor\":\"white\",\"ticks\":\"\"},\"radialaxis\":{\"gridcolor\":\"white\",\"linecolor\":\"white\",\"ticks\":\"\"}},\"ternary\":{\"bgcolor\":\"#E5ECF6\",\"aaxis\":{\"gridcolor\":\"white\",\"linecolor\":\"white\",\"ticks\":\"\"},\"baxis\":{\"gridcolor\":\"white\",\"linecolor\":\"white\",\"ticks\":\"\"},\"caxis\":{\"gridcolor\":\"white\",\"linecolor\":\"white\",\"ticks\":\"\"}},\"coloraxis\":{\"colorbar\":{\"outlinewidth\":0,\"ticks\":\"\"}},\"colorscale\":{\"sequential\":[[0.0,\"#0d0887\"],[0.1111111111111111,\"#46039f\"],[0.2222222222222222,\"#7201a8\"],[0.3333333333333333,\"#9c179e\"],[0.4444444444444444,\"#bd3786\"],[0.5555555555555556,\"#d8576b\"],[0.6666666666666666,\"#ed7953\"],[0.7777777777777778,\"#fb9f3a\"],[0.8888888888888888,\"#fdca26\"],[1.0,\"#f0f921\"]],\"sequentialminus\":[[0.0,\"#0d0887\"],[0.1111111111111111,\"#46039f\"],[0.2222222222222222,\"#7201a8\"],[0.3333333333333333,\"#9c179e\"],[0.4444444444444444,\"#bd3786\"],[0.5555555555555556,\"#d8576b\"],[0.6666666666666666,\"#ed7953\"],[0.7777777777777778,\"#fb9f3a\"],[0.8888888888888888,\"#fdca26\"],[1.0,\"#f0f921\"]],\"diverging\":[[0,\"#8e0152\"],[0.1,\"#c51b7d\"],[0.2,\"#de77ae\"],[0.3,\"#f1b6da\"],[0.4,\"#fde0ef\"],[0.5,\"#f7f7f7\"],[0.6,\"#e6f5d0\"],[0.7,\"#b8e186\"],[0.8,\"#7fbc41\"],[0.9,\"#4d9221\"],[1,\"#276419\"]]},\"xaxis\":{\"gridcolor\":\"white\",\"linecolor\":\"white\",\"ticks\":\"\",\"title\":{\"standoff\":15},\"zerolinecolor\":\"white\",\"automargin\":true,\"zerolinewidth\":2},\"yaxis\":{\"gridcolor\":\"white\",\"linecolor\":\"white\",\"ticks\":\"\",\"title\":{\"standoff\":15},\"zerolinecolor\":\"white\",\"automargin\":true,\"zerolinewidth\":2},\"scene\":{\"xaxis\":{\"backgroundcolor\":\"#E5ECF6\",\"gridcolor\":\"white\",\"linecolor\":\"white\",\"showbackground\":true,\"ticks\":\"\",\"zerolinecolor\":\"white\",\"gridwidth\":2},\"yaxis\":{\"backgroundcolor\":\"#E5ECF6\",\"gridcolor\":\"white\",\"linecolor\":\"white\",\"showbackground\":true,\"ticks\":\"\",\"zerolinecolor\":\"white\",\"gridwidth\":2},\"zaxis\":{\"backgroundcolor\":\"#E5ECF6\",\"gridcolor\":\"white\",\"linecolor\":\"white\",\"showbackground\":true,\"ticks\":\"\",\"zerolinecolor\":\"white\",\"gridwidth\":2}},\"shapedefaults\":{\"line\":{\"color\":\"#2a3f5f\"}},\"annotationdefaults\":{\"arrowcolor\":\"#2a3f5f\",\"arrowhead\":0,\"arrowwidth\":1},\"geo\":{\"bgcolor\":\"white\",\"landcolor\":\"#E5ECF6\",\"subunitcolor\":\"white\",\"showland\":true,\"showlakes\":true,\"lakecolor\":\"white\"},\"title\":{\"x\":0.05},\"mapbox\":{\"style\":\"light\"}}}},                        {\"responsive\": true}                    ).then(function(){\n",
       "                            \n",
       "var gd = document.getElementById('364ca9ed-8368-4a3e-ab2a-3071caa9bc88');\n",
       "var x = new MutationObserver(function (mutations, observer) {{\n",
       "        var display = window.getComputedStyle(gd).display;\n",
       "        if (!display || display === 'none') {{\n",
       "            console.log([gd, 'removed!']);\n",
       "            Plotly.purge(gd);\n",
       "            observer.disconnect();\n",
       "        }}\n",
       "}});\n",
       "\n",
       "// Listen for the removal of the full notebook cells\n",
       "var notebookContainer = gd.closest('#notebook-container');\n",
       "if (notebookContainer) {{\n",
       "    x.observe(notebookContainer, {childList: true});\n",
       "}}\n",
       "\n",
       "// Listen for the clearing of the current output cell\n",
       "var outputEl = gd.closest('.output');\n",
       "if (outputEl) {{\n",
       "    x.observe(outputEl, {childList: true});\n",
       "}}\n",
       "\n",
       "                        })                };                });            </script>        </div>"
      ]
     },
     "metadata": {},
     "output_type": "display_data"
    },
    {
     "name": "stdout",
     "output_type": "stream",
     "text": [
      "-----------------------------\n",
      "\n"
     ]
    }
   ],
   "source": [
    "optimize_parameters('LogReg', 2)"
   ]
  },
  {
   "cell_type": "code",
   "execution_count": 76,
   "metadata": {},
   "outputs": [
    {
     "name": "stderr",
     "output_type": "stream",
     "text": [
      "[I 2024-01-29 17:29:14,636] A new study created in memory with name: no-name-211c7df2-4c66-441d-ac92-4b7c1b5e6c9e\n",
      "[I 2024-01-29 17:29:28,331] Trial 0 finished with value: 0.8231046931407943 and parameters: {'svc_c': 2.221709450057012, 'svc_kernel': 'sigmoid'}. Best is trial 0 with value: 0.8231046931407943.\n",
      "[I 2024-01-29 17:29:45,531] Trial 1 finished with value: 0.8246518824136153 and parameters: {'svc_c': 0.2730019729152613, 'svc_kernel': 'sigmoid'}. Best is trial 1 with value: 0.8246518824136153.\n",
      "[I 2024-01-29 17:29:59,512] Trial 2 finished with value: 0.8287777204744714 and parameters: {'svc_c': 1.5643079358538086, 'svc_kernel': 'sigmoid'}. Best is trial 2 with value: 0.8287777204744714.\n",
      "[I 2024-01-29 17:30:22,984] Trial 3 finished with value: 0.815368746776689 and parameters: {'svc_c': 0.45801286481286024, 'svc_kernel': 'rbf'}. Best is trial 2 with value: 0.8287777204744714.\n",
      "[I 2024-01-29 17:30:41,012] Trial 4 finished with value: 0.8133058277462609 and parameters: {'svc_c': 30.460754979574265, 'svc_kernel': 'linear'}. Best is trial 2 with value: 0.8287777204744714.\n",
      "[I 2024-01-29 17:30:59,796] Trial 5 finished with value: 0.8158844765342961 and parameters: {'svc_c': 0.21360781708953394, 'svc_kernel': 'linear'}. Best is trial 2 with value: 0.8287777204744714.\n",
      "[I 2024-01-29 17:31:18,046] Trial 6 finished with value: 0.8107271789582259 and parameters: {'svc_c': 0.2089154938648521, 'svc_kernel': 'sigmoid'}. Best is trial 2 with value: 0.8287777204744714.\n",
      "[I 2024-01-29 17:31:32,189] Trial 7 finished with value: 0.8292934502320783 and parameters: {'svc_c': 0.7610731397141952, 'svc_kernel': 'sigmoid'}. Best is trial 7 with value: 0.8292934502320783.\n",
      "[I 2024-01-29 17:31:49,778] Trial 8 finished with value: 0.8174316658071171 and parameters: {'svc_c': 3.5129382717690687, 'svc_kernel': 'linear'}. Best is trial 7 with value: 0.8292934502320783.\n",
      "[I 2024-01-29 17:32:03,799] Trial 9 finished with value: 0.8040226921093347 and parameters: {'svc_c': 8.056872774059133, 'svc_kernel': 'sigmoid'}. Best is trial 7 with value: 0.8292934502320783.\n",
      "[I 2024-01-29 17:32:29,750] Trial 10 finished with value: 0.4151624548736462 and parameters: {'svc_c': 0.10075192357763167, 'svc_kernel': 'rbf'}. Best is trial 7 with value: 0.8292934502320783.\n",
      "[I 2024-01-29 17:32:43,649] Trial 11 finished with value: 0.8277462609592573 and parameters: {'svc_c': 0.9803433399654343, 'svc_kernel': 'sigmoid'}. Best is trial 7 with value: 0.8292934502320783.\n",
      "[I 2024-01-29 17:32:57,672] Trial 12 finished with value: 0.8282619907168643 and parameters: {'svc_c': 1.0279714144986882, 'svc_kernel': 'sigmoid'}. Best is trial 7 with value: 0.8292934502320783.\n",
      "[I 2024-01-29 17:33:11,073] Trial 13 finished with value: 0.7833935018050542 and parameters: {'svc_c': 97.14307713407594, 'svc_kernel': 'sigmoid'}. Best is trial 7 with value: 0.8292934502320783.\n",
      "[I 2024-01-29 17:33:24,798] Trial 14 finished with value: 0.8282619907168643 and parameters: {'svc_c': 0.9974170157927378, 'svc_kernel': 'sigmoid'}. Best is trial 7 with value: 0.8292934502320783.\n",
      "[I 2024-01-29 17:33:49,133] Trial 15 finished with value: 0.8282619907168643 and parameters: {'svc_c': 5.142163701239633, 'svc_kernel': 'rbf'}. Best is trial 7 with value: 0.8292934502320783.\n",
      "[I 2024-01-29 17:34:02,654] Trial 16 finished with value: 0.8277462609592573 and parameters: {'svc_c': 1.771598889659711, 'svc_kernel': 'sigmoid'}. Best is trial 7 with value: 0.8292934502320783.\n",
      "[I 2024-01-29 17:34:17,185] Trial 17 finished with value: 0.8303249097472925 and parameters: {'svc_c': 0.5865848242743009, 'svc_kernel': 'sigmoid'}. Best is trial 17 with value: 0.8303249097472925.\n",
      "[I 2024-01-29 17:34:33,184] Trial 18 finished with value: 0.8277462609592573 and parameters: {'svc_c': 0.520840436278894, 'svc_kernel': 'linear'}. Best is trial 17 with value: 0.8303249097472925.\n",
      "[I 2024-01-29 17:34:56,530] Trial 19 finished with value: 0.8200103145951522 and parameters: {'svc_c': 0.5881026113768628, 'svc_kernel': 'rbf'}. Best is trial 17 with value: 0.8303249097472925.\n",
      "[I 2024-01-29 17:35:10,887] Trial 20 finished with value: 0.8194945848375451 and parameters: {'svc_c': 3.062412630681067, 'svc_kernel': 'sigmoid'}. Best is trial 17 with value: 0.8303249097472925.\n",
      "[I 2024-01-29 17:35:24,787] Trial 21 finished with value: 0.8282619907168643 and parameters: {'svc_c': 1.4601693514064606, 'svc_kernel': 'sigmoid'}. Best is trial 17 with value: 0.8303249097472925.\n",
      "[I 2024-01-29 17:35:40,132] Trial 22 finished with value: 0.8303249097472925 and parameters: {'svc_c': 0.6114787393368858, 'svc_kernel': 'sigmoid'}. Best is trial 17 with value: 0.8303249097472925.\n",
      "[I 2024-01-29 17:35:54,959] Trial 23 finished with value: 0.8303249097472925 and parameters: {'svc_c': 0.6140186757140828, 'svc_kernel': 'sigmoid'}. Best is trial 17 with value: 0.8303249097472925.\n",
      "[I 2024-01-29 17:36:11,479] Trial 24 finished with value: 0.8246518824136153 and parameters: {'svc_c': 0.3197851924140945, 'svc_kernel': 'sigmoid'}. Best is trial 17 with value: 0.8303249097472925.\n",
      "[I 2024-01-29 17:36:26,876] Trial 25 finished with value: 0.8272305312016504 and parameters: {'svc_c': 0.4718691044265368, 'svc_kernel': 'sigmoid'}. Best is trial 17 with value: 0.8303249097472925.\n",
      "[I 2024-01-29 17:36:46,741] Trial 26 finished with value: 0.7952552862300155 and parameters: {'svc_c': 0.1405621200907983, 'svc_kernel': 'sigmoid'}. Best is trial 17 with value: 0.8303249097472925.\n",
      "[I 2024-01-29 17:37:02,874] Trial 27 finished with value: 0.8267148014440433 and parameters: {'svc_c': 0.4442698372858985, 'svc_kernel': 'sigmoid'}. Best is trial 17 with value: 0.8303249097472925.\n",
      "[I 2024-01-29 17:37:20,630] Trial 28 finished with value: 0.8282619907168643 and parameters: {'svc_c': 0.31872520215253053, 'svc_kernel': 'linear'}. Best is trial 17 with value: 0.8303249097472925.\n",
      "[I 2024-01-29 17:37:45,329] Trial 29 finished with value: 0.8236204228984012 and parameters: {'svc_c': 0.7483312147652298, 'svc_kernel': 'rbf'}. Best is trial 17 with value: 0.8303249097472925.\n",
      "[I 2024-01-29 17:38:04,221] Trial 30 finished with value: 0.8071170706549768 and parameters: {'svc_c': 0.18006657824038644, 'svc_kernel': 'sigmoid'}. Best is trial 17 with value: 0.8303249097472925.\n",
      "[I 2024-01-29 17:38:18,563] Trial 31 finished with value: 0.8298091799896854 and parameters: {'svc_c': 0.8759721115089673, 'svc_kernel': 'sigmoid'}. Best is trial 17 with value: 0.8303249097472925.\n",
      "[I 2024-01-29 17:38:34,681] Trial 32 finished with value: 0.8256833419288293 and parameters: {'svc_c': 0.37293215859070067, 'svc_kernel': 'sigmoid'}. Best is trial 17 with value: 0.8303249097472925.\n",
      "[I 2024-01-29 17:38:49,064] Trial 33 finished with value: 0.8298091799896854 and parameters: {'svc_c': 1.3709276561962962, 'svc_kernel': 'sigmoid'}. Best is trial 17 with value: 0.8303249097472925.\n",
      "[I 2024-01-29 17:39:06,533] Trial 34 finished with value: 0.8231046931407943 and parameters: {'svc_c': 0.26655921885529454, 'svc_kernel': 'sigmoid'}. Best is trial 17 with value: 0.8303249097472925.\n",
      "[I 2024-01-29 17:39:21,455] Trial 35 finished with value: 0.8298091799896854 and parameters: {'svc_c': 0.5827668391325386, 'svc_kernel': 'sigmoid'}. Best is trial 17 with value: 0.8303249097472925.\n",
      "[I 2024-01-29 17:39:34,962] Trial 36 finished with value: 0.8241361526560083 and parameters: {'svc_c': 2.0647081284754423, 'svc_kernel': 'sigmoid'}. Best is trial 17 with value: 0.8303249097472925.\n",
      "[I 2024-01-29 17:39:49,210] Trial 37 finished with value: 0.8308406395048994 and parameters: {'svc_c': 0.8028881909896927, 'svc_kernel': 'sigmoid'}. Best is trial 37 with value: 0.8308406395048994.\n",
      "[I 2024-01-29 17:40:05,865] Trial 38 finished with value: 0.8267148014440433 and parameters: {'svc_c': 0.3323535579323844, 'svc_kernel': 'linear'}. Best is trial 37 with value: 0.8308406395048994.\n",
      "[I 2024-01-29 17:40:20,173] Trial 39 finished with value: 0.8292934502320783 and parameters: {'svc_c': 0.6641045695530744, 'svc_kernel': 'sigmoid'}. Best is trial 37 with value: 0.8308406395048994.\n",
      "[I 2024-01-29 17:40:44,625] Trial 40 finished with value: 0.8256833419288293 and parameters: {'svc_c': 1.2458132118354577, 'svc_kernel': 'rbf'}. Best is trial 37 with value: 0.8308406395048994.\n",
      "[I 2024-01-29 17:40:58,414] Trial 41 finished with value: 0.8303249097472925 and parameters: {'svc_c': 0.9188307770313874, 'svc_kernel': 'sigmoid'}. Best is trial 37 with value: 0.8308406395048994.\n",
      "[I 2024-01-29 17:41:12,791] Trial 42 finished with value: 0.8308406395048994 and parameters: {'svc_c': 0.6068117731907667, 'svc_kernel': 'sigmoid'}. Best is trial 37 with value: 0.8308406395048994.\n",
      "[I 2024-01-29 17:41:27,163] Trial 43 finished with value: 0.8303249097472925 and parameters: {'svc_c': 0.6493131312850543, 'svc_kernel': 'sigmoid'}. Best is trial 37 with value: 0.8308406395048994.\n",
      "[I 2024-01-29 17:41:44,448] Trial 44 finished with value: 0.8194945848375451 and parameters: {'svc_c': 0.23579439992782067, 'svc_kernel': 'sigmoid'}. Best is trial 37 with value: 0.8308406395048994.\n",
      "[I 2024-01-29 17:41:59,661] Trial 45 finished with value: 0.8267148014440433 and parameters: {'svc_c': 0.4166947521621331, 'svc_kernel': 'sigmoid'}. Best is trial 37 with value: 0.8308406395048994.\n",
      "[I 2024-01-29 17:42:13,330] Trial 46 finished with value: 0.8303249097472925 and parameters: {'svc_c': 1.3256049525742795, 'svc_kernel': 'sigmoid'}. Best is trial 37 with value: 0.8308406395048994.\n",
      "[I 2024-01-29 17:42:28,708] Trial 47 finished with value: 0.8287777204744714 and parameters: {'svc_c': 0.7491505940014499, 'svc_kernel': 'linear'}. Best is trial 37 with value: 0.8308406395048994.\n",
      "[I 2024-01-29 17:42:44,165] Trial 48 finished with value: 0.8272305312016504 and parameters: {'svc_c': 0.4137042718927224, 'svc_kernel': 'sigmoid'}. Best is trial 37 with value: 0.8308406395048994.\n",
      "[I 2024-01-29 17:43:01,262] Trial 49 finished with value: 0.8210417741103662 and parameters: {'svc_c': 0.24539327016470278, 'svc_kernel': 'sigmoid'}. Best is trial 37 with value: 0.8308406395048994.\n",
      "[I 2024-01-29 17:43:26,434] Trial 50 finished with value: 0.8267148014440433 and parameters: {'svc_c': 2.217486522533585, 'svc_kernel': 'rbf'}. Best is trial 37 with value: 0.8308406395048994.\n",
      "[I 2024-01-29 17:43:40,461] Trial 51 finished with value: 0.8308406395048994 and parameters: {'svc_c': 0.8009126445746285, 'svc_kernel': 'sigmoid'}. Best is trial 37 with value: 0.8308406395048994.\n",
      "[I 2024-01-29 17:43:54,266] Trial 52 finished with value: 0.8282619907168643 and parameters: {'svc_c': 1.150599378178116, 'svc_kernel': 'sigmoid'}. Best is trial 37 with value: 0.8308406395048994.\n",
      "[I 2024-01-29 17:44:09,201] Trial 53 finished with value: 0.8292934502320783 and parameters: {'svc_c': 0.5653152152765962, 'svc_kernel': 'sigmoid'}. Best is trial 37 with value: 0.8308406395048994.\n",
      "[I 2024-01-29 17:44:22,990] Trial 54 finished with value: 0.8298091799896854 and parameters: {'svc_c': 0.8918309640795428, 'svc_kernel': 'sigmoid'}. Best is trial 37 with value: 0.8308406395048994.\n",
      "[I 2024-01-29 17:44:37,663] Trial 55 finished with value: 0.8261990716864364 and parameters: {'svc_c': 0.5217901293617038, 'svc_kernel': 'sigmoid'}. Best is trial 37 with value: 0.8308406395048994.\n",
      "[I 2024-01-29 17:44:50,952] Trial 56 finished with value: 0.8267148014440433 and parameters: {'svc_c': 1.680563171096143, 'svc_kernel': 'sigmoid'}. Best is trial 37 with value: 0.8308406395048994.\n",
      "[I 2024-01-29 17:45:04,735] Trial 57 finished with value: 0.8277462609592573 and parameters: {'svc_c': 1.04266820259978, 'svc_kernel': 'sigmoid'}. Best is trial 37 with value: 0.8308406395048994.\n",
      "[I 2024-01-29 17:45:19,706] Trial 58 finished with value: 0.8292934502320783 and parameters: {'svc_c': 0.7316361706079576, 'svc_kernel': 'linear'}. Best is trial 37 with value: 0.8308406395048994.\n",
      "[I 2024-01-29 17:45:34,621] Trial 59 finished with value: 0.8272305312016504 and parameters: {'svc_c': 0.47472084011863824, 'svc_kernel': 'sigmoid'}. Best is trial 37 with value: 0.8308406395048994.\n",
      "[I 2024-01-29 17:45:50,567] Trial 60 finished with value: 0.8256833419288293 and parameters: {'svc_c': 0.3265914064785627, 'svc_kernel': 'sigmoid'}. Best is trial 37 with value: 0.8308406395048994.\n",
      "[I 2024-01-29 17:46:04,333] Trial 61 finished with value: 0.8272305312016504 and parameters: {'svc_c': 1.0700164461428376, 'svc_kernel': 'sigmoid'}. Best is trial 37 with value: 0.8308406395048994.\n",
      "[I 2024-01-29 17:46:18,080] Trial 62 finished with value: 0.8303249097472925 and parameters: {'svc_c': 0.9101622862063187, 'svc_kernel': 'sigmoid'}. Best is trial 37 with value: 0.8308406395048994.\n",
      "[I 2024-01-29 17:46:32,196] Trial 63 finished with value: 0.8303249097472925 and parameters: {'svc_c': 0.8080053789050029, 'svc_kernel': 'sigmoid'}. Best is trial 37 with value: 0.8308406395048994.\n",
      "[I 2024-01-29 17:46:46,629] Trial 64 finished with value: 0.8303249097472925 and parameters: {'svc_c': 0.5928628391943795, 'svc_kernel': 'sigmoid'}. Best is trial 37 with value: 0.8308406395048994.\n",
      "[I 2024-01-29 17:47:11,124] Trial 65 finished with value: 0.8246518824136153 and parameters: {'svc_c': 1.5918271194067548, 'svc_kernel': 'rbf'}. Best is trial 37 with value: 0.8308406395048994.\n",
      "[I 2024-01-29 17:47:25,850] Trial 66 finished with value: 0.8272305312016504 and parameters: {'svc_c': 0.458562141145945, 'svc_kernel': 'sigmoid'}. Best is trial 37 with value: 0.8308406395048994.\n",
      "[I 2024-01-29 17:47:41,079] Trial 67 finished with value: 0.8261990716864364 and parameters: {'svc_c': 0.37821381294063283, 'svc_kernel': 'sigmoid'}. Best is trial 37 with value: 0.8308406395048994.\n",
      "[I 2024-01-29 17:47:54,805] Trial 68 finished with value: 0.8287777204744714 and parameters: {'svc_c': 0.751985061713805, 'svc_kernel': 'sigmoid'}. Best is trial 37 with value: 0.8308406395048994.\n",
      "[I 2024-01-29 17:48:08,163] Trial 69 finished with value: 0.8303249097472925 and parameters: {'svc_c': 1.2364815826669222, 'svc_kernel': 'sigmoid'}. Best is trial 37 with value: 0.8308406395048994.\n",
      "[I 2024-01-29 17:48:24,252] Trial 70 finished with value: 0.8261990716864364 and parameters: {'svc_c': 0.9644459511736918, 'svc_kernel': 'linear'}. Best is trial 37 with value: 0.8308406395048994.\n",
      "[I 2024-01-29 17:48:39,372] Trial 71 finished with value: 0.8303249097472925 and parameters: {'svc_c': 0.6222494905331232, 'svc_kernel': 'sigmoid'}. Best is trial 37 with value: 0.8308406395048994.\n",
      "[I 2024-01-29 17:48:53,904] Trial 72 finished with value: 0.8292934502320783 and parameters: {'svc_c': 0.6697985335853776, 'svc_kernel': 'sigmoid'}. Best is trial 37 with value: 0.8308406395048994.\n",
      "[I 2024-01-29 17:49:09,001] Trial 73 finished with value: 0.8267148014440433 and parameters: {'svc_c': 0.5154588577683855, 'svc_kernel': 'sigmoid'}. Best is trial 37 with value: 0.8308406395048994.\n",
      "[I 2024-01-29 17:49:25,719] Trial 74 finished with value: 0.8256833419288293 and parameters: {'svc_c': 0.29256616993049167, 'svc_kernel': 'sigmoid'}. Best is trial 37 with value: 0.8308406395048994.\n",
      "[I 2024-01-29 17:49:39,564] Trial 75 finished with value: 0.8298091799896854 and parameters: {'svc_c': 0.8194004823148258, 'svc_kernel': 'sigmoid'}. Best is trial 37 with value: 0.8308406395048994.\n",
      "[I 2024-01-29 17:49:54,912] Trial 76 finished with value: 0.8261990716864364 and parameters: {'svc_c': 0.37852732943485756, 'svc_kernel': 'sigmoid'}. Best is trial 37 with value: 0.8308406395048994.\n",
      "[I 2024-01-29 17:50:08,982] Trial 77 finished with value: 0.8298091799896854 and parameters: {'svc_c': 0.6558234238825529, 'svc_kernel': 'sigmoid'}. Best is trial 37 with value: 0.8308406395048994.\n",
      "[I 2024-01-29 17:50:33,256] Trial 78 finished with value: 0.8241361526560083 and parameters: {'svc_c': 1.4902859138134346, 'svc_kernel': 'rbf'}. Best is trial 37 with value: 0.8308406395048994.\n",
      "[I 2024-01-29 17:50:46,717] Trial 79 finished with value: 0.8272305312016504 and parameters: {'svc_c': 1.0925463806317055, 'svc_kernel': 'sigmoid'}. Best is trial 37 with value: 0.8308406395048994.\n",
      "[I 2024-01-29 17:51:01,261] Trial 80 finished with value: 0.8267148014440433 and parameters: {'svc_c': 0.5079978388779892, 'svc_kernel': 'sigmoid'}. Best is trial 37 with value: 0.8308406395048994.\n",
      "[I 2024-01-29 17:51:14,661] Trial 81 finished with value: 0.8287777204744714 and parameters: {'svc_c': 1.1788735289974441, 'svc_kernel': 'sigmoid'}. Best is trial 37 with value: 0.8308406395048994.\n",
      "[I 2024-01-29 17:51:28,656] Trial 82 finished with value: 0.8298091799896854 and parameters: {'svc_c': 0.9068280104545825, 'svc_kernel': 'sigmoid'}. Best is trial 37 with value: 0.8308406395048994.\n",
      "[I 2024-01-29 17:51:42,133] Trial 83 finished with value: 0.8313563692625064 and parameters: {'svc_c': 1.2850081963767133, 'svc_kernel': 'sigmoid'}. Best is trial 83 with value: 0.8313563692625064.\n",
      "[I 2024-01-29 17:51:56,445] Trial 84 finished with value: 0.8303249097472925 and parameters: {'svc_c': 0.6109847523292178, 'svc_kernel': 'sigmoid'}. Best is trial 83 with value: 0.8313563692625064.\n",
      "[I 2024-01-29 17:52:09,653] Trial 85 finished with value: 0.8256833419288293 and parameters: {'svc_c': 1.8849193190179878, 'svc_kernel': 'sigmoid'}. Best is trial 83 with value: 0.8313563692625064.\n",
      "[I 2024-01-29 17:52:23,435] Trial 86 finished with value: 0.8292934502320783 and parameters: {'svc_c': 0.7644971874363585, 'svc_kernel': 'sigmoid'}. Best is trial 83 with value: 0.8313563692625064.\n",
      "[I 2024-01-29 17:52:39,410] Trial 87 finished with value: 0.8277462609592573 and parameters: {'svc_c': 1.3457054951709415, 'svc_kernel': 'linear'}. Best is trial 83 with value: 0.8313563692625064.\n",
      "[I 2024-01-29 17:52:54,520] Trial 88 finished with value: 0.8272305312016504 and parameters: {'svc_c': 0.4085739597621935, 'svc_kernel': 'sigmoid'}. Best is trial 83 with value: 0.8313563692625064.\n",
      "[I 2024-01-29 17:53:08,969] Trial 89 finished with value: 0.8277462609592573 and parameters: {'svc_c': 0.5389363506717045, 'svc_kernel': 'sigmoid'}. Best is trial 83 with value: 0.8313563692625064.\n",
      "[I 2024-01-29 17:53:22,421] Trial 90 finished with value: 0.8282619907168643 and parameters: {'svc_c': 1.0136650305701167, 'svc_kernel': 'sigmoid'}. Best is trial 83 with value: 0.8313563692625064.\n",
      "[I 2024-01-29 17:53:35,758] Trial 91 finished with value: 0.8292934502320783 and parameters: {'svc_c': 1.3509694783476338, 'svc_kernel': 'sigmoid'}. Best is trial 83 with value: 0.8313563692625064.\n",
      "[I 2024-01-29 17:53:49,649] Trial 92 finished with value: 0.8292934502320783 and parameters: {'svc_c': 0.8479981329144566, 'svc_kernel': 'sigmoid'}. Best is trial 83 with value: 0.8313563692625064.\n",
      "[I 2024-01-29 17:54:03,714] Trial 93 finished with value: 0.8292934502320783 and parameters: {'svc_c': 0.6661570101541157, 'svc_kernel': 'sigmoid'}. Best is trial 83 with value: 0.8313563692625064.\n",
      "[I 2024-01-29 17:54:17,071] Trial 94 finished with value: 0.8272305312016504 and parameters: {'svc_c': 1.6341175728842592, 'svc_kernel': 'sigmoid'}. Best is trial 83 with value: 0.8313563692625064.\n",
      "[I 2024-01-29 17:54:30,241] Trial 95 finished with value: 0.8220732336255802 and parameters: {'svc_c': 2.43923751017502, 'svc_kernel': 'sigmoid'}. Best is trial 83 with value: 0.8313563692625064.\n",
      "[I 2024-01-29 17:54:54,603] Trial 96 finished with value: 0.8261990716864364 and parameters: {'svc_c': 1.1552689353335481, 'svc_kernel': 'rbf'}. Best is trial 83 with value: 0.8313563692625064.\n",
      "[I 2024-01-29 17:55:08,387] Trial 97 finished with value: 0.8292934502320783 and parameters: {'svc_c': 0.9407657201508312, 'svc_kernel': 'sigmoid'}. Best is trial 83 with value: 0.8313563692625064.\n",
      "[I 2024-01-29 17:55:22,362] Trial 98 finished with value: 0.8298091799896854 and parameters: {'svc_c': 0.7011496706114412, 'svc_kernel': 'sigmoid'}. Best is trial 83 with value: 0.8313563692625064.\n",
      "[I 2024-01-29 17:55:36,666] Trial 99 finished with value: 0.8298091799896854 and parameters: {'svc_c': 0.5996675968741617, 'svc_kernel': 'sigmoid'}. Best is trial 83 with value: 0.8313563692625064.\n"
     ]
    },
    {
     "name": "stdout",
     "output_type": "stream",
     "text": [
      "SVC:\n",
      "Best accuracy: 0.8313563692625064\n",
      "Best hyperparameters: {'svc_c': 1.2850081963767133, 'svc_kernel': 'sigmoid'}\n"
     ]
    },
    {
     "data": {
      "application/vnd.plotly.v1+json": {
       "config": {
        "plotlyServerURL": "https://plot.ly"
       },
       "data": [
        {
         "mode": "markers",
         "name": "Objective Value",
         "type": "scatter",
         "x": [
          0,
          1,
          2,
          3,
          4,
          5,
          6,
          7,
          8,
          9,
          10,
          11,
          12,
          13,
          14,
          15,
          16,
          17,
          18,
          19,
          20,
          21,
          22,
          23,
          24,
          25,
          26,
          27,
          28,
          29,
          30,
          31,
          32,
          33,
          34,
          35,
          36,
          37,
          38,
          39,
          40,
          41,
          42,
          43,
          44,
          45,
          46,
          47,
          48,
          49,
          50,
          51,
          52,
          53,
          54,
          55,
          56,
          57,
          58,
          59,
          60,
          61,
          62,
          63,
          64,
          65,
          66,
          67,
          68,
          69,
          70,
          71,
          72,
          73,
          74,
          75,
          76,
          77,
          78,
          79,
          80,
          81,
          82,
          83,
          84,
          85,
          86,
          87,
          88,
          89,
          90,
          91,
          92,
          93,
          94,
          95,
          96,
          97,
          98,
          99
         ],
         "y": [
          0.8231046931407943,
          0.8246518824136153,
          0.8287777204744714,
          0.815368746776689,
          0.8133058277462609,
          0.8158844765342961,
          0.8107271789582259,
          0.8292934502320783,
          0.8174316658071171,
          0.8040226921093347,
          0.4151624548736462,
          0.8277462609592573,
          0.8282619907168643,
          0.7833935018050542,
          0.8282619907168643,
          0.8282619907168643,
          0.8277462609592573,
          0.8303249097472925,
          0.8277462609592573,
          0.8200103145951522,
          0.8194945848375451,
          0.8282619907168643,
          0.8303249097472925,
          0.8303249097472925,
          0.8246518824136153,
          0.8272305312016504,
          0.7952552862300155,
          0.8267148014440433,
          0.8282619907168643,
          0.8236204228984012,
          0.8071170706549768,
          0.8298091799896854,
          0.8256833419288293,
          0.8298091799896854,
          0.8231046931407943,
          0.8298091799896854,
          0.8241361526560083,
          0.8308406395048994,
          0.8267148014440433,
          0.8292934502320783,
          0.8256833419288293,
          0.8303249097472925,
          0.8308406395048994,
          0.8303249097472925,
          0.8194945848375451,
          0.8267148014440433,
          0.8303249097472925,
          0.8287777204744714,
          0.8272305312016504,
          0.8210417741103662,
          0.8267148014440433,
          0.8308406395048994,
          0.8282619907168643,
          0.8292934502320783,
          0.8298091799896854,
          0.8261990716864364,
          0.8267148014440433,
          0.8277462609592573,
          0.8292934502320783,
          0.8272305312016504,
          0.8256833419288293,
          0.8272305312016504,
          0.8303249097472925,
          0.8303249097472925,
          0.8303249097472925,
          0.8246518824136153,
          0.8272305312016504,
          0.8261990716864364,
          0.8287777204744714,
          0.8303249097472925,
          0.8261990716864364,
          0.8303249097472925,
          0.8292934502320783,
          0.8267148014440433,
          0.8256833419288293,
          0.8298091799896854,
          0.8261990716864364,
          0.8298091799896854,
          0.8241361526560083,
          0.8272305312016504,
          0.8267148014440433,
          0.8287777204744714,
          0.8298091799896854,
          0.8313563692625064,
          0.8303249097472925,
          0.8256833419288293,
          0.8292934502320783,
          0.8277462609592573,
          0.8272305312016504,
          0.8277462609592573,
          0.8282619907168643,
          0.8292934502320783,
          0.8292934502320783,
          0.8292934502320783,
          0.8272305312016504,
          0.8220732336255802,
          0.8261990716864364,
          0.8292934502320783,
          0.8298091799896854,
          0.8298091799896854
         ]
        },
        {
         "name": "Best Value",
         "type": "scatter",
         "x": [
          0,
          1,
          2,
          3,
          4,
          5,
          6,
          7,
          8,
          9,
          10,
          11,
          12,
          13,
          14,
          15,
          16,
          17,
          18,
          19,
          20,
          21,
          22,
          23,
          24,
          25,
          26,
          27,
          28,
          29,
          30,
          31,
          32,
          33,
          34,
          35,
          36,
          37,
          38,
          39,
          40,
          41,
          42,
          43,
          44,
          45,
          46,
          47,
          48,
          49,
          50,
          51,
          52,
          53,
          54,
          55,
          56,
          57,
          58,
          59,
          60,
          61,
          62,
          63,
          64,
          65,
          66,
          67,
          68,
          69,
          70,
          71,
          72,
          73,
          74,
          75,
          76,
          77,
          78,
          79,
          80,
          81,
          82,
          83,
          84,
          85,
          86,
          87,
          88,
          89,
          90,
          91,
          92,
          93,
          94,
          95,
          96,
          97,
          98,
          99
         ],
         "y": [
          0.8231046931407943,
          0.8246518824136153,
          0.8287777204744714,
          0.8287777204744714,
          0.8287777204744714,
          0.8287777204744714,
          0.8287777204744714,
          0.8292934502320783,
          0.8292934502320783,
          0.8292934502320783,
          0.8292934502320783,
          0.8292934502320783,
          0.8292934502320783,
          0.8292934502320783,
          0.8292934502320783,
          0.8292934502320783,
          0.8292934502320783,
          0.8303249097472925,
          0.8303249097472925,
          0.8303249097472925,
          0.8303249097472925,
          0.8303249097472925,
          0.8303249097472925,
          0.8303249097472925,
          0.8303249097472925,
          0.8303249097472925,
          0.8303249097472925,
          0.8303249097472925,
          0.8303249097472925,
          0.8303249097472925,
          0.8303249097472925,
          0.8303249097472925,
          0.8303249097472925,
          0.8303249097472925,
          0.8303249097472925,
          0.8303249097472925,
          0.8303249097472925,
          0.8308406395048994,
          0.8308406395048994,
          0.8308406395048994,
          0.8308406395048994,
          0.8308406395048994,
          0.8308406395048994,
          0.8308406395048994,
          0.8308406395048994,
          0.8308406395048994,
          0.8308406395048994,
          0.8308406395048994,
          0.8308406395048994,
          0.8308406395048994,
          0.8308406395048994,
          0.8308406395048994,
          0.8308406395048994,
          0.8308406395048994,
          0.8308406395048994,
          0.8308406395048994,
          0.8308406395048994,
          0.8308406395048994,
          0.8308406395048994,
          0.8308406395048994,
          0.8308406395048994,
          0.8308406395048994,
          0.8308406395048994,
          0.8308406395048994,
          0.8308406395048994,
          0.8308406395048994,
          0.8308406395048994,
          0.8308406395048994,
          0.8308406395048994,
          0.8308406395048994,
          0.8308406395048994,
          0.8308406395048994,
          0.8308406395048994,
          0.8308406395048994,
          0.8308406395048994,
          0.8308406395048994,
          0.8308406395048994,
          0.8308406395048994,
          0.8308406395048994,
          0.8308406395048994,
          0.8308406395048994,
          0.8308406395048994,
          0.8308406395048994,
          0.8313563692625064,
          0.8313563692625064,
          0.8313563692625064,
          0.8313563692625064,
          0.8313563692625064,
          0.8313563692625064,
          0.8313563692625064,
          0.8313563692625064,
          0.8313563692625064,
          0.8313563692625064,
          0.8313563692625064,
          0.8313563692625064,
          0.8313563692625064,
          0.8313563692625064,
          0.8313563692625064,
          0.8313563692625064,
          0.8313563692625064
         ]
        }
       ],
       "layout": {
        "template": {
         "data": {
          "bar": [
           {
            "error_x": {
             "color": "#2a3f5f"
            },
            "error_y": {
             "color": "#2a3f5f"
            },
            "marker": {
             "line": {
              "color": "#E5ECF6",
              "width": 0.5
             },
             "pattern": {
              "fillmode": "overlay",
              "size": 10,
              "solidity": 0.2
             }
            },
            "type": "bar"
           }
          ],
          "barpolar": [
           {
            "marker": {
             "line": {
              "color": "#E5ECF6",
              "width": 0.5
             },
             "pattern": {
              "fillmode": "overlay",
              "size": 10,
              "solidity": 0.2
             }
            },
            "type": "barpolar"
           }
          ],
          "carpet": [
           {
            "aaxis": {
             "endlinecolor": "#2a3f5f",
             "gridcolor": "white",
             "linecolor": "white",
             "minorgridcolor": "white",
             "startlinecolor": "#2a3f5f"
            },
            "baxis": {
             "endlinecolor": "#2a3f5f",
             "gridcolor": "white",
             "linecolor": "white",
             "minorgridcolor": "white",
             "startlinecolor": "#2a3f5f"
            },
            "type": "carpet"
           }
          ],
          "choropleth": [
           {
            "colorbar": {
             "outlinewidth": 0,
             "ticks": ""
            },
            "type": "choropleth"
           }
          ],
          "contour": [
           {
            "colorbar": {
             "outlinewidth": 0,
             "ticks": ""
            },
            "colorscale": [
             [
              0,
              "#0d0887"
             ],
             [
              0.1111111111111111,
              "#46039f"
             ],
             [
              0.2222222222222222,
              "#7201a8"
             ],
             [
              0.3333333333333333,
              "#9c179e"
             ],
             [
              0.4444444444444444,
              "#bd3786"
             ],
             [
              0.5555555555555556,
              "#d8576b"
             ],
             [
              0.6666666666666666,
              "#ed7953"
             ],
             [
              0.7777777777777778,
              "#fb9f3a"
             ],
             [
              0.8888888888888888,
              "#fdca26"
             ],
             [
              1,
              "#f0f921"
             ]
            ],
            "type": "contour"
           }
          ],
          "contourcarpet": [
           {
            "colorbar": {
             "outlinewidth": 0,
             "ticks": ""
            },
            "type": "contourcarpet"
           }
          ],
          "heatmap": [
           {
            "colorbar": {
             "outlinewidth": 0,
             "ticks": ""
            },
            "colorscale": [
             [
              0,
              "#0d0887"
             ],
             [
              0.1111111111111111,
              "#46039f"
             ],
             [
              0.2222222222222222,
              "#7201a8"
             ],
             [
              0.3333333333333333,
              "#9c179e"
             ],
             [
              0.4444444444444444,
              "#bd3786"
             ],
             [
              0.5555555555555556,
              "#d8576b"
             ],
             [
              0.6666666666666666,
              "#ed7953"
             ],
             [
              0.7777777777777778,
              "#fb9f3a"
             ],
             [
              0.8888888888888888,
              "#fdca26"
             ],
             [
              1,
              "#f0f921"
             ]
            ],
            "type": "heatmap"
           }
          ],
          "heatmapgl": [
           {
            "colorbar": {
             "outlinewidth": 0,
             "ticks": ""
            },
            "colorscale": [
             [
              0,
              "#0d0887"
             ],
             [
              0.1111111111111111,
              "#46039f"
             ],
             [
              0.2222222222222222,
              "#7201a8"
             ],
             [
              0.3333333333333333,
              "#9c179e"
             ],
             [
              0.4444444444444444,
              "#bd3786"
             ],
             [
              0.5555555555555556,
              "#d8576b"
             ],
             [
              0.6666666666666666,
              "#ed7953"
             ],
             [
              0.7777777777777778,
              "#fb9f3a"
             ],
             [
              0.8888888888888888,
              "#fdca26"
             ],
             [
              1,
              "#f0f921"
             ]
            ],
            "type": "heatmapgl"
           }
          ],
          "histogram": [
           {
            "marker": {
             "pattern": {
              "fillmode": "overlay",
              "size": 10,
              "solidity": 0.2
             }
            },
            "type": "histogram"
           }
          ],
          "histogram2d": [
           {
            "colorbar": {
             "outlinewidth": 0,
             "ticks": ""
            },
            "colorscale": [
             [
              0,
              "#0d0887"
             ],
             [
              0.1111111111111111,
              "#46039f"
             ],
             [
              0.2222222222222222,
              "#7201a8"
             ],
             [
              0.3333333333333333,
              "#9c179e"
             ],
             [
              0.4444444444444444,
              "#bd3786"
             ],
             [
              0.5555555555555556,
              "#d8576b"
             ],
             [
              0.6666666666666666,
              "#ed7953"
             ],
             [
              0.7777777777777778,
              "#fb9f3a"
             ],
             [
              0.8888888888888888,
              "#fdca26"
             ],
             [
              1,
              "#f0f921"
             ]
            ],
            "type": "histogram2d"
           }
          ],
          "histogram2dcontour": [
           {
            "colorbar": {
             "outlinewidth": 0,
             "ticks": ""
            },
            "colorscale": [
             [
              0,
              "#0d0887"
             ],
             [
              0.1111111111111111,
              "#46039f"
             ],
             [
              0.2222222222222222,
              "#7201a8"
             ],
             [
              0.3333333333333333,
              "#9c179e"
             ],
             [
              0.4444444444444444,
              "#bd3786"
             ],
             [
              0.5555555555555556,
              "#d8576b"
             ],
             [
              0.6666666666666666,
              "#ed7953"
             ],
             [
              0.7777777777777778,
              "#fb9f3a"
             ],
             [
              0.8888888888888888,
              "#fdca26"
             ],
             [
              1,
              "#f0f921"
             ]
            ],
            "type": "histogram2dcontour"
           }
          ],
          "mesh3d": [
           {
            "colorbar": {
             "outlinewidth": 0,
             "ticks": ""
            },
            "type": "mesh3d"
           }
          ],
          "parcoords": [
           {
            "line": {
             "colorbar": {
              "outlinewidth": 0,
              "ticks": ""
             }
            },
            "type": "parcoords"
           }
          ],
          "pie": [
           {
            "automargin": true,
            "type": "pie"
           }
          ],
          "scatter": [
           {
            "fillpattern": {
             "fillmode": "overlay",
             "size": 10,
             "solidity": 0.2
            },
            "type": "scatter"
           }
          ],
          "scatter3d": [
           {
            "line": {
             "colorbar": {
              "outlinewidth": 0,
              "ticks": ""
             }
            },
            "marker": {
             "colorbar": {
              "outlinewidth": 0,
              "ticks": ""
             }
            },
            "type": "scatter3d"
           }
          ],
          "scattercarpet": [
           {
            "marker": {
             "colorbar": {
              "outlinewidth": 0,
              "ticks": ""
             }
            },
            "type": "scattercarpet"
           }
          ],
          "scattergeo": [
           {
            "marker": {
             "colorbar": {
              "outlinewidth": 0,
              "ticks": ""
             }
            },
            "type": "scattergeo"
           }
          ],
          "scattergl": [
           {
            "marker": {
             "colorbar": {
              "outlinewidth": 0,
              "ticks": ""
             }
            },
            "type": "scattergl"
           }
          ],
          "scattermapbox": [
           {
            "marker": {
             "colorbar": {
              "outlinewidth": 0,
              "ticks": ""
             }
            },
            "type": "scattermapbox"
           }
          ],
          "scatterpolar": [
           {
            "marker": {
             "colorbar": {
              "outlinewidth": 0,
              "ticks": ""
             }
            },
            "type": "scatterpolar"
           }
          ],
          "scatterpolargl": [
           {
            "marker": {
             "colorbar": {
              "outlinewidth": 0,
              "ticks": ""
             }
            },
            "type": "scatterpolargl"
           }
          ],
          "scatterternary": [
           {
            "marker": {
             "colorbar": {
              "outlinewidth": 0,
              "ticks": ""
             }
            },
            "type": "scatterternary"
           }
          ],
          "surface": [
           {
            "colorbar": {
             "outlinewidth": 0,
             "ticks": ""
            },
            "colorscale": [
             [
              0,
              "#0d0887"
             ],
             [
              0.1111111111111111,
              "#46039f"
             ],
             [
              0.2222222222222222,
              "#7201a8"
             ],
             [
              0.3333333333333333,
              "#9c179e"
             ],
             [
              0.4444444444444444,
              "#bd3786"
             ],
             [
              0.5555555555555556,
              "#d8576b"
             ],
             [
              0.6666666666666666,
              "#ed7953"
             ],
             [
              0.7777777777777778,
              "#fb9f3a"
             ],
             [
              0.8888888888888888,
              "#fdca26"
             ],
             [
              1,
              "#f0f921"
             ]
            ],
            "type": "surface"
           }
          ],
          "table": [
           {
            "cells": {
             "fill": {
              "color": "#EBF0F8"
             },
             "line": {
              "color": "white"
             }
            },
            "header": {
             "fill": {
              "color": "#C8D4E3"
             },
             "line": {
              "color": "white"
             }
            },
            "type": "table"
           }
          ]
         },
         "layout": {
          "annotationdefaults": {
           "arrowcolor": "#2a3f5f",
           "arrowhead": 0,
           "arrowwidth": 1
          },
          "autotypenumbers": "strict",
          "coloraxis": {
           "colorbar": {
            "outlinewidth": 0,
            "ticks": ""
           }
          },
          "colorscale": {
           "diverging": [
            [
             0,
             "#8e0152"
            ],
            [
             0.1,
             "#c51b7d"
            ],
            [
             0.2,
             "#de77ae"
            ],
            [
             0.3,
             "#f1b6da"
            ],
            [
             0.4,
             "#fde0ef"
            ],
            [
             0.5,
             "#f7f7f7"
            ],
            [
             0.6,
             "#e6f5d0"
            ],
            [
             0.7,
             "#b8e186"
            ],
            [
             0.8,
             "#7fbc41"
            ],
            [
             0.9,
             "#4d9221"
            ],
            [
             1,
             "#276419"
            ]
           ],
           "sequential": [
            [
             0,
             "#0d0887"
            ],
            [
             0.1111111111111111,
             "#46039f"
            ],
            [
             0.2222222222222222,
             "#7201a8"
            ],
            [
             0.3333333333333333,
             "#9c179e"
            ],
            [
             0.4444444444444444,
             "#bd3786"
            ],
            [
             0.5555555555555556,
             "#d8576b"
            ],
            [
             0.6666666666666666,
             "#ed7953"
            ],
            [
             0.7777777777777778,
             "#fb9f3a"
            ],
            [
             0.8888888888888888,
             "#fdca26"
            ],
            [
             1,
             "#f0f921"
            ]
           ],
           "sequentialminus": [
            [
             0,
             "#0d0887"
            ],
            [
             0.1111111111111111,
             "#46039f"
            ],
            [
             0.2222222222222222,
             "#7201a8"
            ],
            [
             0.3333333333333333,
             "#9c179e"
            ],
            [
             0.4444444444444444,
             "#bd3786"
            ],
            [
             0.5555555555555556,
             "#d8576b"
            ],
            [
             0.6666666666666666,
             "#ed7953"
            ],
            [
             0.7777777777777778,
             "#fb9f3a"
            ],
            [
             0.8888888888888888,
             "#fdca26"
            ],
            [
             1,
             "#f0f921"
            ]
           ]
          },
          "colorway": [
           "#636efa",
           "#EF553B",
           "#00cc96",
           "#ab63fa",
           "#FFA15A",
           "#19d3f3",
           "#FF6692",
           "#B6E880",
           "#FF97FF",
           "#FECB52"
          ],
          "font": {
           "color": "#2a3f5f"
          },
          "geo": {
           "bgcolor": "white",
           "lakecolor": "white",
           "landcolor": "#E5ECF6",
           "showlakes": true,
           "showland": true,
           "subunitcolor": "white"
          },
          "hoverlabel": {
           "align": "left"
          },
          "hovermode": "closest",
          "mapbox": {
           "style": "light"
          },
          "paper_bgcolor": "white",
          "plot_bgcolor": "#E5ECF6",
          "polar": {
           "angularaxis": {
            "gridcolor": "white",
            "linecolor": "white",
            "ticks": ""
           },
           "bgcolor": "#E5ECF6",
           "radialaxis": {
            "gridcolor": "white",
            "linecolor": "white",
            "ticks": ""
           }
          },
          "scene": {
           "xaxis": {
            "backgroundcolor": "#E5ECF6",
            "gridcolor": "white",
            "gridwidth": 2,
            "linecolor": "white",
            "showbackground": true,
            "ticks": "",
            "zerolinecolor": "white"
           },
           "yaxis": {
            "backgroundcolor": "#E5ECF6",
            "gridcolor": "white",
            "gridwidth": 2,
            "linecolor": "white",
            "showbackground": true,
            "ticks": "",
            "zerolinecolor": "white"
           },
           "zaxis": {
            "backgroundcolor": "#E5ECF6",
            "gridcolor": "white",
            "gridwidth": 2,
            "linecolor": "white",
            "showbackground": true,
            "ticks": "",
            "zerolinecolor": "white"
           }
          },
          "shapedefaults": {
           "line": {
            "color": "#2a3f5f"
           }
          },
          "ternary": {
           "aaxis": {
            "gridcolor": "white",
            "linecolor": "white",
            "ticks": ""
           },
           "baxis": {
            "gridcolor": "white",
            "linecolor": "white",
            "ticks": ""
           },
           "bgcolor": "#E5ECF6",
           "caxis": {
            "gridcolor": "white",
            "linecolor": "white",
            "ticks": ""
           }
          },
          "title": {
           "x": 0.05
          },
          "xaxis": {
           "automargin": true,
           "gridcolor": "white",
           "linecolor": "white",
           "ticks": "",
           "title": {
            "standoff": 15
           },
           "zerolinecolor": "white",
           "zerolinewidth": 2
          },
          "yaxis": {
           "automargin": true,
           "gridcolor": "white",
           "linecolor": "white",
           "ticks": "",
           "title": {
            "standoff": 15
           },
           "zerolinecolor": "white",
           "zerolinewidth": 2
          }
         }
        },
        "title": {
         "text": "Optimization History Plot"
        },
        "xaxis": {
         "title": {
          "text": "Trial"
         }
        },
        "yaxis": {
         "title": {
          "text": "Objective Value"
         }
        }
       }
      },
      "text/html": [
       "<div>                            <div id=\"79e99739-4231-4912-bac4-2d0e1f1438e9\" class=\"plotly-graph-div\" style=\"height:525px; width:100%;\"></div>            <script type=\"text/javascript\">                require([\"plotly\"], function(Plotly) {                    window.PLOTLYENV=window.PLOTLYENV || {};                                    if (document.getElementById(\"79e99739-4231-4912-bac4-2d0e1f1438e9\")) {                    Plotly.newPlot(                        \"79e99739-4231-4912-bac4-2d0e1f1438e9\",                        [{\"mode\":\"markers\",\"name\":\"Objective Value\",\"x\":[0,1,2,3,4,5,6,7,8,9,10,11,12,13,14,15,16,17,18,19,20,21,22,23,24,25,26,27,28,29,30,31,32,33,34,35,36,37,38,39,40,41,42,43,44,45,46,47,48,49,50,51,52,53,54,55,56,57,58,59,60,61,62,63,64,65,66,67,68,69,70,71,72,73,74,75,76,77,78,79,80,81,82,83,84,85,86,87,88,89,90,91,92,93,94,95,96,97,98,99],\"y\":[0.8231046931407943,0.8246518824136153,0.8287777204744714,0.815368746776689,0.8133058277462609,0.8158844765342961,0.8107271789582259,0.8292934502320783,0.8174316658071171,0.8040226921093347,0.4151624548736462,0.8277462609592573,0.8282619907168643,0.7833935018050542,0.8282619907168643,0.8282619907168643,0.8277462609592573,0.8303249097472925,0.8277462609592573,0.8200103145951522,0.8194945848375451,0.8282619907168643,0.8303249097472925,0.8303249097472925,0.8246518824136153,0.8272305312016504,0.7952552862300155,0.8267148014440433,0.8282619907168643,0.8236204228984012,0.8071170706549768,0.8298091799896854,0.8256833419288293,0.8298091799896854,0.8231046931407943,0.8298091799896854,0.8241361526560083,0.8308406395048994,0.8267148014440433,0.8292934502320783,0.8256833419288293,0.8303249097472925,0.8308406395048994,0.8303249097472925,0.8194945848375451,0.8267148014440433,0.8303249097472925,0.8287777204744714,0.8272305312016504,0.8210417741103662,0.8267148014440433,0.8308406395048994,0.8282619907168643,0.8292934502320783,0.8298091799896854,0.8261990716864364,0.8267148014440433,0.8277462609592573,0.8292934502320783,0.8272305312016504,0.8256833419288293,0.8272305312016504,0.8303249097472925,0.8303249097472925,0.8303249097472925,0.8246518824136153,0.8272305312016504,0.8261990716864364,0.8287777204744714,0.8303249097472925,0.8261990716864364,0.8303249097472925,0.8292934502320783,0.8267148014440433,0.8256833419288293,0.8298091799896854,0.8261990716864364,0.8298091799896854,0.8241361526560083,0.8272305312016504,0.8267148014440433,0.8287777204744714,0.8298091799896854,0.8313563692625064,0.8303249097472925,0.8256833419288293,0.8292934502320783,0.8277462609592573,0.8272305312016504,0.8277462609592573,0.8282619907168643,0.8292934502320783,0.8292934502320783,0.8292934502320783,0.8272305312016504,0.8220732336255802,0.8261990716864364,0.8292934502320783,0.8298091799896854,0.8298091799896854],\"type\":\"scatter\"},{\"name\":\"Best Value\",\"x\":[0,1,2,3,4,5,6,7,8,9,10,11,12,13,14,15,16,17,18,19,20,21,22,23,24,25,26,27,28,29,30,31,32,33,34,35,36,37,38,39,40,41,42,43,44,45,46,47,48,49,50,51,52,53,54,55,56,57,58,59,60,61,62,63,64,65,66,67,68,69,70,71,72,73,74,75,76,77,78,79,80,81,82,83,84,85,86,87,88,89,90,91,92,93,94,95,96,97,98,99],\"y\":[0.8231046931407943,0.8246518824136153,0.8287777204744714,0.8287777204744714,0.8287777204744714,0.8287777204744714,0.8287777204744714,0.8292934502320783,0.8292934502320783,0.8292934502320783,0.8292934502320783,0.8292934502320783,0.8292934502320783,0.8292934502320783,0.8292934502320783,0.8292934502320783,0.8292934502320783,0.8303249097472925,0.8303249097472925,0.8303249097472925,0.8303249097472925,0.8303249097472925,0.8303249097472925,0.8303249097472925,0.8303249097472925,0.8303249097472925,0.8303249097472925,0.8303249097472925,0.8303249097472925,0.8303249097472925,0.8303249097472925,0.8303249097472925,0.8303249097472925,0.8303249097472925,0.8303249097472925,0.8303249097472925,0.8303249097472925,0.8308406395048994,0.8308406395048994,0.8308406395048994,0.8308406395048994,0.8308406395048994,0.8308406395048994,0.8308406395048994,0.8308406395048994,0.8308406395048994,0.8308406395048994,0.8308406395048994,0.8308406395048994,0.8308406395048994,0.8308406395048994,0.8308406395048994,0.8308406395048994,0.8308406395048994,0.8308406395048994,0.8308406395048994,0.8308406395048994,0.8308406395048994,0.8308406395048994,0.8308406395048994,0.8308406395048994,0.8308406395048994,0.8308406395048994,0.8308406395048994,0.8308406395048994,0.8308406395048994,0.8308406395048994,0.8308406395048994,0.8308406395048994,0.8308406395048994,0.8308406395048994,0.8308406395048994,0.8308406395048994,0.8308406395048994,0.8308406395048994,0.8308406395048994,0.8308406395048994,0.8308406395048994,0.8308406395048994,0.8308406395048994,0.8308406395048994,0.8308406395048994,0.8308406395048994,0.8313563692625064,0.8313563692625064,0.8313563692625064,0.8313563692625064,0.8313563692625064,0.8313563692625064,0.8313563692625064,0.8313563692625064,0.8313563692625064,0.8313563692625064,0.8313563692625064,0.8313563692625064,0.8313563692625064,0.8313563692625064,0.8313563692625064,0.8313563692625064,0.8313563692625064],\"type\":\"scatter\"}],                        {\"title\":{\"text\":\"Optimization History Plot\"},\"xaxis\":{\"title\":{\"text\":\"Trial\"}},\"yaxis\":{\"title\":{\"text\":\"Objective Value\"}},\"template\":{\"data\":{\"histogram2dcontour\":[{\"type\":\"histogram2dcontour\",\"colorbar\":{\"outlinewidth\":0,\"ticks\":\"\"},\"colorscale\":[[0.0,\"#0d0887\"],[0.1111111111111111,\"#46039f\"],[0.2222222222222222,\"#7201a8\"],[0.3333333333333333,\"#9c179e\"],[0.4444444444444444,\"#bd3786\"],[0.5555555555555556,\"#d8576b\"],[0.6666666666666666,\"#ed7953\"],[0.7777777777777778,\"#fb9f3a\"],[0.8888888888888888,\"#fdca26\"],[1.0,\"#f0f921\"]]}],\"choropleth\":[{\"type\":\"choropleth\",\"colorbar\":{\"outlinewidth\":0,\"ticks\":\"\"}}],\"histogram2d\":[{\"type\":\"histogram2d\",\"colorbar\":{\"outlinewidth\":0,\"ticks\":\"\"},\"colorscale\":[[0.0,\"#0d0887\"],[0.1111111111111111,\"#46039f\"],[0.2222222222222222,\"#7201a8\"],[0.3333333333333333,\"#9c179e\"],[0.4444444444444444,\"#bd3786\"],[0.5555555555555556,\"#d8576b\"],[0.6666666666666666,\"#ed7953\"],[0.7777777777777778,\"#fb9f3a\"],[0.8888888888888888,\"#fdca26\"],[1.0,\"#f0f921\"]]}],\"heatmap\":[{\"type\":\"heatmap\",\"colorbar\":{\"outlinewidth\":0,\"ticks\":\"\"},\"colorscale\":[[0.0,\"#0d0887\"],[0.1111111111111111,\"#46039f\"],[0.2222222222222222,\"#7201a8\"],[0.3333333333333333,\"#9c179e\"],[0.4444444444444444,\"#bd3786\"],[0.5555555555555556,\"#d8576b\"],[0.6666666666666666,\"#ed7953\"],[0.7777777777777778,\"#fb9f3a\"],[0.8888888888888888,\"#fdca26\"],[1.0,\"#f0f921\"]]}],\"heatmapgl\":[{\"type\":\"heatmapgl\",\"colorbar\":{\"outlinewidth\":0,\"ticks\":\"\"},\"colorscale\":[[0.0,\"#0d0887\"],[0.1111111111111111,\"#46039f\"],[0.2222222222222222,\"#7201a8\"],[0.3333333333333333,\"#9c179e\"],[0.4444444444444444,\"#bd3786\"],[0.5555555555555556,\"#d8576b\"],[0.6666666666666666,\"#ed7953\"],[0.7777777777777778,\"#fb9f3a\"],[0.8888888888888888,\"#fdca26\"],[1.0,\"#f0f921\"]]}],\"contourcarpet\":[{\"type\":\"contourcarpet\",\"colorbar\":{\"outlinewidth\":0,\"ticks\":\"\"}}],\"contour\":[{\"type\":\"contour\",\"colorbar\":{\"outlinewidth\":0,\"ticks\":\"\"},\"colorscale\":[[0.0,\"#0d0887\"],[0.1111111111111111,\"#46039f\"],[0.2222222222222222,\"#7201a8\"],[0.3333333333333333,\"#9c179e\"],[0.4444444444444444,\"#bd3786\"],[0.5555555555555556,\"#d8576b\"],[0.6666666666666666,\"#ed7953\"],[0.7777777777777778,\"#fb9f3a\"],[0.8888888888888888,\"#fdca26\"],[1.0,\"#f0f921\"]]}],\"surface\":[{\"type\":\"surface\",\"colorbar\":{\"outlinewidth\":0,\"ticks\":\"\"},\"colorscale\":[[0.0,\"#0d0887\"],[0.1111111111111111,\"#46039f\"],[0.2222222222222222,\"#7201a8\"],[0.3333333333333333,\"#9c179e\"],[0.4444444444444444,\"#bd3786\"],[0.5555555555555556,\"#d8576b\"],[0.6666666666666666,\"#ed7953\"],[0.7777777777777778,\"#fb9f3a\"],[0.8888888888888888,\"#fdca26\"],[1.0,\"#f0f921\"]]}],\"mesh3d\":[{\"type\":\"mesh3d\",\"colorbar\":{\"outlinewidth\":0,\"ticks\":\"\"}}],\"scatter\":[{\"fillpattern\":{\"fillmode\":\"overlay\",\"size\":10,\"solidity\":0.2},\"type\":\"scatter\"}],\"parcoords\":[{\"type\":\"parcoords\",\"line\":{\"colorbar\":{\"outlinewidth\":0,\"ticks\":\"\"}}}],\"scatterpolargl\":[{\"type\":\"scatterpolargl\",\"marker\":{\"colorbar\":{\"outlinewidth\":0,\"ticks\":\"\"}}}],\"bar\":[{\"error_x\":{\"color\":\"#2a3f5f\"},\"error_y\":{\"color\":\"#2a3f5f\"},\"marker\":{\"line\":{\"color\":\"#E5ECF6\",\"width\":0.5},\"pattern\":{\"fillmode\":\"overlay\",\"size\":10,\"solidity\":0.2}},\"type\":\"bar\"}],\"scattergeo\":[{\"type\":\"scattergeo\",\"marker\":{\"colorbar\":{\"outlinewidth\":0,\"ticks\":\"\"}}}],\"scatterpolar\":[{\"type\":\"scatterpolar\",\"marker\":{\"colorbar\":{\"outlinewidth\":0,\"ticks\":\"\"}}}],\"histogram\":[{\"marker\":{\"pattern\":{\"fillmode\":\"overlay\",\"size\":10,\"solidity\":0.2}},\"type\":\"histogram\"}],\"scattergl\":[{\"type\":\"scattergl\",\"marker\":{\"colorbar\":{\"outlinewidth\":0,\"ticks\":\"\"}}}],\"scatter3d\":[{\"type\":\"scatter3d\",\"line\":{\"colorbar\":{\"outlinewidth\":0,\"ticks\":\"\"}},\"marker\":{\"colorbar\":{\"outlinewidth\":0,\"ticks\":\"\"}}}],\"scattermapbox\":[{\"type\":\"scattermapbox\",\"marker\":{\"colorbar\":{\"outlinewidth\":0,\"ticks\":\"\"}}}],\"scatterternary\":[{\"type\":\"scatterternary\",\"marker\":{\"colorbar\":{\"outlinewidth\":0,\"ticks\":\"\"}}}],\"scattercarpet\":[{\"type\":\"scattercarpet\",\"marker\":{\"colorbar\":{\"outlinewidth\":0,\"ticks\":\"\"}}}],\"carpet\":[{\"aaxis\":{\"endlinecolor\":\"#2a3f5f\",\"gridcolor\":\"white\",\"linecolor\":\"white\",\"minorgridcolor\":\"white\",\"startlinecolor\":\"#2a3f5f\"},\"baxis\":{\"endlinecolor\":\"#2a3f5f\",\"gridcolor\":\"white\",\"linecolor\":\"white\",\"minorgridcolor\":\"white\",\"startlinecolor\":\"#2a3f5f\"},\"type\":\"carpet\"}],\"table\":[{\"cells\":{\"fill\":{\"color\":\"#EBF0F8\"},\"line\":{\"color\":\"white\"}},\"header\":{\"fill\":{\"color\":\"#C8D4E3\"},\"line\":{\"color\":\"white\"}},\"type\":\"table\"}],\"barpolar\":[{\"marker\":{\"line\":{\"color\":\"#E5ECF6\",\"width\":0.5},\"pattern\":{\"fillmode\":\"overlay\",\"size\":10,\"solidity\":0.2}},\"type\":\"barpolar\"}],\"pie\":[{\"automargin\":true,\"type\":\"pie\"}]},\"layout\":{\"autotypenumbers\":\"strict\",\"colorway\":[\"#636efa\",\"#EF553B\",\"#00cc96\",\"#ab63fa\",\"#FFA15A\",\"#19d3f3\",\"#FF6692\",\"#B6E880\",\"#FF97FF\",\"#FECB52\"],\"font\":{\"color\":\"#2a3f5f\"},\"hovermode\":\"closest\",\"hoverlabel\":{\"align\":\"left\"},\"paper_bgcolor\":\"white\",\"plot_bgcolor\":\"#E5ECF6\",\"polar\":{\"bgcolor\":\"#E5ECF6\",\"angularaxis\":{\"gridcolor\":\"white\",\"linecolor\":\"white\",\"ticks\":\"\"},\"radialaxis\":{\"gridcolor\":\"white\",\"linecolor\":\"white\",\"ticks\":\"\"}},\"ternary\":{\"bgcolor\":\"#E5ECF6\",\"aaxis\":{\"gridcolor\":\"white\",\"linecolor\":\"white\",\"ticks\":\"\"},\"baxis\":{\"gridcolor\":\"white\",\"linecolor\":\"white\",\"ticks\":\"\"},\"caxis\":{\"gridcolor\":\"white\",\"linecolor\":\"white\",\"ticks\":\"\"}},\"coloraxis\":{\"colorbar\":{\"outlinewidth\":0,\"ticks\":\"\"}},\"colorscale\":{\"sequential\":[[0.0,\"#0d0887\"],[0.1111111111111111,\"#46039f\"],[0.2222222222222222,\"#7201a8\"],[0.3333333333333333,\"#9c179e\"],[0.4444444444444444,\"#bd3786\"],[0.5555555555555556,\"#d8576b\"],[0.6666666666666666,\"#ed7953\"],[0.7777777777777778,\"#fb9f3a\"],[0.8888888888888888,\"#fdca26\"],[1.0,\"#f0f921\"]],\"sequentialminus\":[[0.0,\"#0d0887\"],[0.1111111111111111,\"#46039f\"],[0.2222222222222222,\"#7201a8\"],[0.3333333333333333,\"#9c179e\"],[0.4444444444444444,\"#bd3786\"],[0.5555555555555556,\"#d8576b\"],[0.6666666666666666,\"#ed7953\"],[0.7777777777777778,\"#fb9f3a\"],[0.8888888888888888,\"#fdca26\"],[1.0,\"#f0f921\"]],\"diverging\":[[0,\"#8e0152\"],[0.1,\"#c51b7d\"],[0.2,\"#de77ae\"],[0.3,\"#f1b6da\"],[0.4,\"#fde0ef\"],[0.5,\"#f7f7f7\"],[0.6,\"#e6f5d0\"],[0.7,\"#b8e186\"],[0.8,\"#7fbc41\"],[0.9,\"#4d9221\"],[1,\"#276419\"]]},\"xaxis\":{\"gridcolor\":\"white\",\"linecolor\":\"white\",\"ticks\":\"\",\"title\":{\"standoff\":15},\"zerolinecolor\":\"white\",\"automargin\":true,\"zerolinewidth\":2},\"yaxis\":{\"gridcolor\":\"white\",\"linecolor\":\"white\",\"ticks\":\"\",\"title\":{\"standoff\":15},\"zerolinecolor\":\"white\",\"automargin\":true,\"zerolinewidth\":2},\"scene\":{\"xaxis\":{\"backgroundcolor\":\"#E5ECF6\",\"gridcolor\":\"white\",\"linecolor\":\"white\",\"showbackground\":true,\"ticks\":\"\",\"zerolinecolor\":\"white\",\"gridwidth\":2},\"yaxis\":{\"backgroundcolor\":\"#E5ECF6\",\"gridcolor\":\"white\",\"linecolor\":\"white\",\"showbackground\":true,\"ticks\":\"\",\"zerolinecolor\":\"white\",\"gridwidth\":2},\"zaxis\":{\"backgroundcolor\":\"#E5ECF6\",\"gridcolor\":\"white\",\"linecolor\":\"white\",\"showbackground\":true,\"ticks\":\"\",\"zerolinecolor\":\"white\",\"gridwidth\":2}},\"shapedefaults\":{\"line\":{\"color\":\"#2a3f5f\"}},\"annotationdefaults\":{\"arrowcolor\":\"#2a3f5f\",\"arrowhead\":0,\"arrowwidth\":1},\"geo\":{\"bgcolor\":\"white\",\"landcolor\":\"#E5ECF6\",\"subunitcolor\":\"white\",\"showland\":true,\"showlakes\":true,\"lakecolor\":\"white\"},\"title\":{\"x\":0.05},\"mapbox\":{\"style\":\"light\"}}}},                        {\"responsive\": true}                    ).then(function(){\n",
       "                            \n",
       "var gd = document.getElementById('79e99739-4231-4912-bac4-2d0e1f1438e9');\n",
       "var x = new MutationObserver(function (mutations, observer) {{\n",
       "        var display = window.getComputedStyle(gd).display;\n",
       "        if (!display || display === 'none') {{\n",
       "            console.log([gd, 'removed!']);\n",
       "            Plotly.purge(gd);\n",
       "            observer.disconnect();\n",
       "        }}\n",
       "}});\n",
       "\n",
       "// Listen for the removal of the full notebook cells\n",
       "var notebookContainer = gd.closest('#notebook-container');\n",
       "if (notebookContainer) {{\n",
       "    x.observe(notebookContainer, {childList: true});\n",
       "}}\n",
       "\n",
       "// Listen for the clearing of the current output cell\n",
       "var outputEl = gd.closest('.output');\n",
       "if (outputEl) {{\n",
       "    x.observe(outputEl, {childList: true});\n",
       "}}\n",
       "\n",
       "                        })                };                });            </script>        </div>"
      ]
     },
     "metadata": {},
     "output_type": "display_data"
    },
    {
     "name": "stdout",
     "output_type": "stream",
     "text": [
      "-----------------------------\n",
      "\n"
     ]
    }
   ],
   "source": [
    "optimize_parameters('SVC', 100)"
   ]
  },
  {
   "cell_type": "code",
   "execution_count": 77,
   "metadata": {},
   "outputs": [
    {
     "name": "stderr",
     "output_type": "stream",
     "text": [
      "[I 2024-01-29 17:55:36,684] A new study created in memory with name: no-name-e8d113ba-9bff-42cc-8a85-132ee84c5b6b\n",
      "[I 2024-01-29 17:56:15,548] Trial 0 finished with value: 0.7875193398659103 and parameters: {'knn_n_neighbors': 13}. Best is trial 0 with value: 0.7875193398659103.\n",
      "[I 2024-01-29 17:56:55,114] Trial 1 finished with value: 0.7447137699845281 and parameters: {'knn_n_neighbors': 2}. Best is trial 0 with value: 0.7875193398659103.\n",
      "[I 2024-01-29 17:57:33,870] Trial 2 finished with value: 0.7833935018050542 and parameters: {'knn_n_neighbors': 8}. Best is trial 0 with value: 0.7875193398659103.\n",
      "[I 2024-01-29 17:58:12,656] Trial 3 finished with value: 0.7870036101083032 and parameters: {'knn_n_neighbors': 14}. Best is trial 0 with value: 0.7875193398659103.\n",
      "[I 2024-01-29 17:58:51,286] Trial 4 finished with value: 0.7931923671995874 and parameters: {'knn_n_neighbors': 9}. Best is trial 4 with value: 0.7931923671995874.\n",
      "[I 2024-01-29 17:59:30,263] Trial 5 finished with value: 0.7833935018050542 and parameters: {'knn_n_neighbors': 6}. Best is trial 4 with value: 0.7931923671995874.\n",
      "[I 2024-01-29 18:00:08,702] Trial 6 finished with value: 0.7870036101083032 and parameters: {'knn_n_neighbors': 18}. Best is trial 4 with value: 0.7931923671995874.\n",
      "[I 2024-01-29 18:00:47,973] Trial 7 finished with value: 0.780814853017019 and parameters: {'knn_n_neighbors': 3}. Best is trial 4 with value: 0.7931923671995874.\n",
      "[I 2024-01-29 18:01:26,540] Trial 8 finished with value: 0.7859721505930892 and parameters: {'knn_n_neighbors': 7}. Best is trial 4 with value: 0.7931923671995874.\n",
      "[I 2024-01-29 18:02:04,157] Trial 9 finished with value: 0.7906137184115524 and parameters: {'knn_n_neighbors': 11}. Best is trial 4 with value: 0.7931923671995874.\n",
      "[I 2024-01-29 18:02:42,270] Trial 10 finished with value: 0.7931923671995874 and parameters: {'knn_n_neighbors': 30}. Best is trial 4 with value: 0.7931923671995874.\n",
      "[I 2024-01-29 18:03:21,014] Trial 11 finished with value: 0.7931923671995874 and parameters: {'knn_n_neighbors': 30}. Best is trial 4 with value: 0.7931923671995874.\n",
      "[I 2024-01-29 18:04:00,171] Trial 12 finished with value: 0.7895822588963384 and parameters: {'knn_n_neighbors': 25}. Best is trial 4 with value: 0.7931923671995874.\n",
      "[I 2024-01-29 18:04:37,827] Trial 13 finished with value: 0.7885507993811243 and parameters: {'knn_n_neighbors': 21}. Best is trial 4 with value: 0.7931923671995874.\n",
      "[I 2024-01-29 18:05:15,311] Trial 14 finished with value: 0.7931923671995874 and parameters: {'knn_n_neighbors': 30}. Best is trial 4 with value: 0.7931923671995874.\n",
      "[I 2024-01-29 18:05:53,685] Trial 15 finished with value: 0.7900979886539453 and parameters: {'knn_n_neighbors': 17}. Best is trial 4 with value: 0.7931923671995874.\n",
      "[I 2024-01-29 18:06:31,628] Trial 16 finished with value: 0.7931923671995874 and parameters: {'knn_n_neighbors': 5}. Best is trial 4 with value: 0.7931923671995874.\n",
      "[I 2024-01-29 18:07:11,300] Trial 17 finished with value: 0.7854564208354822 and parameters: {'knn_n_neighbors': 10}. Best is trial 4 with value: 0.7931923671995874.\n",
      "[I 2024-01-29 18:07:52,065] Trial 18 finished with value: 0.7890665291387313 and parameters: {'knn_n_neighbors': 20}. Best is trial 4 with value: 0.7931923671995874.\n",
      "[I 2024-01-29 18:08:31,251] Trial 19 finished with value: 0.7900979886539453 and parameters: {'knn_n_neighbors': 15}. Best is trial 4 with value: 0.7931923671995874.\n",
      "[I 2024-01-29 18:09:11,320] Trial 20 finished with value: 0.7854564208354822 and parameters: {'knn_n_neighbors': 10}. Best is trial 4 with value: 0.7931923671995874.\n",
      "[I 2024-01-29 18:09:49,998] Trial 21 finished with value: 0.7880350696235173 and parameters: {'knn_n_neighbors': 27}. Best is trial 4 with value: 0.7931923671995874.\n",
      "[I 2024-01-29 18:10:29,625] Trial 22 finished with value: 0.7931923671995874 and parameters: {'knn_n_neighbors': 30}. Best is trial 4 with value: 0.7931923671995874.\n",
      "[I 2024-01-29 18:11:08,090] Trial 23 finished with value: 0.7870036101083032 and parameters: {'knn_n_neighbors': 22}. Best is trial 4 with value: 0.7931923671995874.\n",
      "[I 2024-01-29 18:11:48,002] Trial 24 finished with value: 0.7885507993811243 and parameters: {'knn_n_neighbors': 21}. Best is trial 4 with value: 0.7931923671995874.\n",
      "[I 2024-01-29 18:12:28,729] Trial 25 finished with value: 0.7890665291387313 and parameters: {'knn_n_neighbors': 16}. Best is trial 4 with value: 0.7931923671995874.\n",
      "[I 2024-01-29 18:13:07,985] Trial 26 finished with value: 0.7931923671995874 and parameters: {'knn_n_neighbors': 30}. Best is trial 4 with value: 0.7931923671995874.\n",
      "[I 2024-01-29 18:13:48,051] Trial 27 finished with value: 0.7895822588963384 and parameters: {'knn_n_neighbors': 25}. Best is trial 4 with value: 0.7931923671995874.\n",
      "[I 2024-01-29 18:14:28,192] Trial 28 finished with value: 0.7849406910778752 and parameters: {'knn_n_neighbors': 12}. Best is trial 4 with value: 0.7931923671995874.\n",
      "[I 2024-01-29 18:15:07,030] Trial 29 finished with value: 0.7875193398659103 and parameters: {'knn_n_neighbors': 13}. Best is trial 4 with value: 0.7931923671995874.\n",
      "[I 2024-01-29 18:15:46,111] Trial 30 finished with value: 0.7900979886539453 and parameters: {'knn_n_neighbors': 17}. Best is trial 4 with value: 0.7931923671995874.\n",
      "[I 2024-01-29 18:16:24,607] Trial 31 finished with value: 0.7931923671995874 and parameters: {'knn_n_neighbors': 30}. Best is trial 4 with value: 0.7931923671995874.\n",
      "[I 2024-01-29 18:17:06,103] Trial 32 finished with value: 0.7859721505930892 and parameters: {'knn_n_neighbors': 24}. Best is trial 4 with value: 0.7931923671995874.\n",
      "[I 2024-01-29 18:17:47,200] Trial 33 finished with value: 0.7931923671995874 and parameters: {'knn_n_neighbors': 19}. Best is trial 4 with value: 0.7931923671995874.\n",
      "[I 2024-01-29 18:18:26,577] Trial 34 finished with value: 0.7885507993811243 and parameters: {'knn_n_neighbors': 26}. Best is trial 4 with value: 0.7931923671995874.\n",
      "[I 2024-01-29 18:19:06,493] Trial 35 finished with value: 0.7900979886539453 and parameters: {'knn_n_neighbors': 15}. Best is trial 4 with value: 0.7931923671995874.\n",
      "[I 2024-01-29 18:19:45,140] Trial 36 finished with value: 0.7870036101083032 and parameters: {'knn_n_neighbors': 22}. Best is trial 4 with value: 0.7931923671995874.\n",
      "[I 2024-01-29 18:20:25,874] Trial 37 finished with value: 0.7870036101083032 and parameters: {'knn_n_neighbors': 18}. Best is trial 4 with value: 0.7931923671995874.\n",
      "[I 2024-01-29 18:21:06,662] Trial 38 finished with value: 0.7870036101083032 and parameters: {'knn_n_neighbors': 14}. Best is trial 4 with value: 0.7931923671995874.\n",
      "[I 2024-01-29 18:21:45,778] Trial 39 finished with value: 0.7931923671995874 and parameters: {'knn_n_neighbors': 9}. Best is trial 4 with value: 0.7931923671995874.\n",
      "[I 2024-01-29 18:22:24,771] Trial 40 finished with value: 0.7895822588963384 and parameters: {'knn_n_neighbors': 25}. Best is trial 4 with value: 0.7931923671995874.\n",
      "[I 2024-01-29 18:23:03,926] Trial 41 finished with value: 0.7931923671995874 and parameters: {'knn_n_neighbors': 5}. Best is trial 4 with value: 0.7931923671995874.\n",
      "[I 2024-01-29 18:23:43,203] Trial 42 finished with value: 0.7931923671995874 and parameters: {'knn_n_neighbors': 5}. Best is trial 4 with value: 0.7931923671995874.\n",
      "[I 2024-01-29 18:24:22,320] Trial 43 finished with value: 0.7833935018050542 and parameters: {'knn_n_neighbors': 8}. Best is trial 4 with value: 0.7931923671995874.\n",
      "[I 2024-01-29 18:25:01,320] Trial 44 finished with value: 0.780814853017019 and parameters: {'knn_n_neighbors': 3}. Best is trial 4 with value: 0.7931923671995874.\n",
      "[I 2024-01-29 18:25:40,735] Trial 45 finished with value: 0.7849406910778752 and parameters: {'knn_n_neighbors': 12}. Best is trial 4 with value: 0.7931923671995874.\n",
      "[I 2024-01-29 18:26:20,471] Trial 46 finished with value: 0.7870036101083032 and parameters: {'knn_n_neighbors': 18}. Best is trial 4 with value: 0.7931923671995874.\n",
      "[I 2024-01-29 18:27:00,197] Trial 47 finished with value: 0.7870036101083032 and parameters: {'knn_n_neighbors': 22}. Best is trial 4 with value: 0.7931923671995874.\n",
      "[I 2024-01-29 18:27:39,396] Trial 48 finished with value: 0.7921609076843734 and parameters: {'knn_n_neighbors': 28}. Best is trial 4 with value: 0.7931923671995874.\n",
      "[I 2024-01-29 18:28:18,857] Trial 49 finished with value: 0.7859721505930892 and parameters: {'knn_n_neighbors': 24}. Best is trial 4 with value: 0.7931923671995874.\n"
     ]
    },
    {
     "name": "stdout",
     "output_type": "stream",
     "text": [
      "KNN:\n",
      "Best accuracy: 0.7931923671995874\n",
      "Best hyperparameters: {'knn_n_neighbors': 9}\n"
     ]
    },
    {
     "data": {
      "application/vnd.plotly.v1+json": {
       "config": {
        "plotlyServerURL": "https://plot.ly"
       },
       "data": [
        {
         "mode": "markers",
         "name": "Objective Value",
         "type": "scatter",
         "x": [
          0,
          1,
          2,
          3,
          4,
          5,
          6,
          7,
          8,
          9,
          10,
          11,
          12,
          13,
          14,
          15,
          16,
          17,
          18,
          19,
          20,
          21,
          22,
          23,
          24,
          25,
          26,
          27,
          28,
          29,
          30,
          31,
          32,
          33,
          34,
          35,
          36,
          37,
          38,
          39,
          40,
          41,
          42,
          43,
          44,
          45,
          46,
          47,
          48,
          49
         ],
         "y": [
          0.7875193398659103,
          0.7447137699845281,
          0.7833935018050542,
          0.7870036101083032,
          0.7931923671995874,
          0.7833935018050542,
          0.7870036101083032,
          0.780814853017019,
          0.7859721505930892,
          0.7906137184115524,
          0.7931923671995874,
          0.7931923671995874,
          0.7895822588963384,
          0.7885507993811243,
          0.7931923671995874,
          0.7900979886539453,
          0.7931923671995874,
          0.7854564208354822,
          0.7890665291387313,
          0.7900979886539453,
          0.7854564208354822,
          0.7880350696235173,
          0.7931923671995874,
          0.7870036101083032,
          0.7885507993811243,
          0.7890665291387313,
          0.7931923671995874,
          0.7895822588963384,
          0.7849406910778752,
          0.7875193398659103,
          0.7900979886539453,
          0.7931923671995874,
          0.7859721505930892,
          0.7931923671995874,
          0.7885507993811243,
          0.7900979886539453,
          0.7870036101083032,
          0.7870036101083032,
          0.7870036101083032,
          0.7931923671995874,
          0.7895822588963384,
          0.7931923671995874,
          0.7931923671995874,
          0.7833935018050542,
          0.780814853017019,
          0.7849406910778752,
          0.7870036101083032,
          0.7870036101083032,
          0.7921609076843734,
          0.7859721505930892
         ]
        },
        {
         "name": "Best Value",
         "type": "scatter",
         "x": [
          0,
          1,
          2,
          3,
          4,
          5,
          6,
          7,
          8,
          9,
          10,
          11,
          12,
          13,
          14,
          15,
          16,
          17,
          18,
          19,
          20,
          21,
          22,
          23,
          24,
          25,
          26,
          27,
          28,
          29,
          30,
          31,
          32,
          33,
          34,
          35,
          36,
          37,
          38,
          39,
          40,
          41,
          42,
          43,
          44,
          45,
          46,
          47,
          48,
          49
         ],
         "y": [
          0.7875193398659103,
          0.7875193398659103,
          0.7875193398659103,
          0.7875193398659103,
          0.7931923671995874,
          0.7931923671995874,
          0.7931923671995874,
          0.7931923671995874,
          0.7931923671995874,
          0.7931923671995874,
          0.7931923671995874,
          0.7931923671995874,
          0.7931923671995874,
          0.7931923671995874,
          0.7931923671995874,
          0.7931923671995874,
          0.7931923671995874,
          0.7931923671995874,
          0.7931923671995874,
          0.7931923671995874,
          0.7931923671995874,
          0.7931923671995874,
          0.7931923671995874,
          0.7931923671995874,
          0.7931923671995874,
          0.7931923671995874,
          0.7931923671995874,
          0.7931923671995874,
          0.7931923671995874,
          0.7931923671995874,
          0.7931923671995874,
          0.7931923671995874,
          0.7931923671995874,
          0.7931923671995874,
          0.7931923671995874,
          0.7931923671995874,
          0.7931923671995874,
          0.7931923671995874,
          0.7931923671995874,
          0.7931923671995874,
          0.7931923671995874,
          0.7931923671995874,
          0.7931923671995874,
          0.7931923671995874,
          0.7931923671995874,
          0.7931923671995874,
          0.7931923671995874,
          0.7931923671995874,
          0.7931923671995874,
          0.7931923671995874
         ]
        }
       ],
       "layout": {
        "template": {
         "data": {
          "bar": [
           {
            "error_x": {
             "color": "#2a3f5f"
            },
            "error_y": {
             "color": "#2a3f5f"
            },
            "marker": {
             "line": {
              "color": "#E5ECF6",
              "width": 0.5
             },
             "pattern": {
              "fillmode": "overlay",
              "size": 10,
              "solidity": 0.2
             }
            },
            "type": "bar"
           }
          ],
          "barpolar": [
           {
            "marker": {
             "line": {
              "color": "#E5ECF6",
              "width": 0.5
             },
             "pattern": {
              "fillmode": "overlay",
              "size": 10,
              "solidity": 0.2
             }
            },
            "type": "barpolar"
           }
          ],
          "carpet": [
           {
            "aaxis": {
             "endlinecolor": "#2a3f5f",
             "gridcolor": "white",
             "linecolor": "white",
             "minorgridcolor": "white",
             "startlinecolor": "#2a3f5f"
            },
            "baxis": {
             "endlinecolor": "#2a3f5f",
             "gridcolor": "white",
             "linecolor": "white",
             "minorgridcolor": "white",
             "startlinecolor": "#2a3f5f"
            },
            "type": "carpet"
           }
          ],
          "choropleth": [
           {
            "colorbar": {
             "outlinewidth": 0,
             "ticks": ""
            },
            "type": "choropleth"
           }
          ],
          "contour": [
           {
            "colorbar": {
             "outlinewidth": 0,
             "ticks": ""
            },
            "colorscale": [
             [
              0,
              "#0d0887"
             ],
             [
              0.1111111111111111,
              "#46039f"
             ],
             [
              0.2222222222222222,
              "#7201a8"
             ],
             [
              0.3333333333333333,
              "#9c179e"
             ],
             [
              0.4444444444444444,
              "#bd3786"
             ],
             [
              0.5555555555555556,
              "#d8576b"
             ],
             [
              0.6666666666666666,
              "#ed7953"
             ],
             [
              0.7777777777777778,
              "#fb9f3a"
             ],
             [
              0.8888888888888888,
              "#fdca26"
             ],
             [
              1,
              "#f0f921"
             ]
            ],
            "type": "contour"
           }
          ],
          "contourcarpet": [
           {
            "colorbar": {
             "outlinewidth": 0,
             "ticks": ""
            },
            "type": "contourcarpet"
           }
          ],
          "heatmap": [
           {
            "colorbar": {
             "outlinewidth": 0,
             "ticks": ""
            },
            "colorscale": [
             [
              0,
              "#0d0887"
             ],
             [
              0.1111111111111111,
              "#46039f"
             ],
             [
              0.2222222222222222,
              "#7201a8"
             ],
             [
              0.3333333333333333,
              "#9c179e"
             ],
             [
              0.4444444444444444,
              "#bd3786"
             ],
             [
              0.5555555555555556,
              "#d8576b"
             ],
             [
              0.6666666666666666,
              "#ed7953"
             ],
             [
              0.7777777777777778,
              "#fb9f3a"
             ],
             [
              0.8888888888888888,
              "#fdca26"
             ],
             [
              1,
              "#f0f921"
             ]
            ],
            "type": "heatmap"
           }
          ],
          "heatmapgl": [
           {
            "colorbar": {
             "outlinewidth": 0,
             "ticks": ""
            },
            "colorscale": [
             [
              0,
              "#0d0887"
             ],
             [
              0.1111111111111111,
              "#46039f"
             ],
             [
              0.2222222222222222,
              "#7201a8"
             ],
             [
              0.3333333333333333,
              "#9c179e"
             ],
             [
              0.4444444444444444,
              "#bd3786"
             ],
             [
              0.5555555555555556,
              "#d8576b"
             ],
             [
              0.6666666666666666,
              "#ed7953"
             ],
             [
              0.7777777777777778,
              "#fb9f3a"
             ],
             [
              0.8888888888888888,
              "#fdca26"
             ],
             [
              1,
              "#f0f921"
             ]
            ],
            "type": "heatmapgl"
           }
          ],
          "histogram": [
           {
            "marker": {
             "pattern": {
              "fillmode": "overlay",
              "size": 10,
              "solidity": 0.2
             }
            },
            "type": "histogram"
           }
          ],
          "histogram2d": [
           {
            "colorbar": {
             "outlinewidth": 0,
             "ticks": ""
            },
            "colorscale": [
             [
              0,
              "#0d0887"
             ],
             [
              0.1111111111111111,
              "#46039f"
             ],
             [
              0.2222222222222222,
              "#7201a8"
             ],
             [
              0.3333333333333333,
              "#9c179e"
             ],
             [
              0.4444444444444444,
              "#bd3786"
             ],
             [
              0.5555555555555556,
              "#d8576b"
             ],
             [
              0.6666666666666666,
              "#ed7953"
             ],
             [
              0.7777777777777778,
              "#fb9f3a"
             ],
             [
              0.8888888888888888,
              "#fdca26"
             ],
             [
              1,
              "#f0f921"
             ]
            ],
            "type": "histogram2d"
           }
          ],
          "histogram2dcontour": [
           {
            "colorbar": {
             "outlinewidth": 0,
             "ticks": ""
            },
            "colorscale": [
             [
              0,
              "#0d0887"
             ],
             [
              0.1111111111111111,
              "#46039f"
             ],
             [
              0.2222222222222222,
              "#7201a8"
             ],
             [
              0.3333333333333333,
              "#9c179e"
             ],
             [
              0.4444444444444444,
              "#bd3786"
             ],
             [
              0.5555555555555556,
              "#d8576b"
             ],
             [
              0.6666666666666666,
              "#ed7953"
             ],
             [
              0.7777777777777778,
              "#fb9f3a"
             ],
             [
              0.8888888888888888,
              "#fdca26"
             ],
             [
              1,
              "#f0f921"
             ]
            ],
            "type": "histogram2dcontour"
           }
          ],
          "mesh3d": [
           {
            "colorbar": {
             "outlinewidth": 0,
             "ticks": ""
            },
            "type": "mesh3d"
           }
          ],
          "parcoords": [
           {
            "line": {
             "colorbar": {
              "outlinewidth": 0,
              "ticks": ""
             }
            },
            "type": "parcoords"
           }
          ],
          "pie": [
           {
            "automargin": true,
            "type": "pie"
           }
          ],
          "scatter": [
           {
            "fillpattern": {
             "fillmode": "overlay",
             "size": 10,
             "solidity": 0.2
            },
            "type": "scatter"
           }
          ],
          "scatter3d": [
           {
            "line": {
             "colorbar": {
              "outlinewidth": 0,
              "ticks": ""
             }
            },
            "marker": {
             "colorbar": {
              "outlinewidth": 0,
              "ticks": ""
             }
            },
            "type": "scatter3d"
           }
          ],
          "scattercarpet": [
           {
            "marker": {
             "colorbar": {
              "outlinewidth": 0,
              "ticks": ""
             }
            },
            "type": "scattercarpet"
           }
          ],
          "scattergeo": [
           {
            "marker": {
             "colorbar": {
              "outlinewidth": 0,
              "ticks": ""
             }
            },
            "type": "scattergeo"
           }
          ],
          "scattergl": [
           {
            "marker": {
             "colorbar": {
              "outlinewidth": 0,
              "ticks": ""
             }
            },
            "type": "scattergl"
           }
          ],
          "scattermapbox": [
           {
            "marker": {
             "colorbar": {
              "outlinewidth": 0,
              "ticks": ""
             }
            },
            "type": "scattermapbox"
           }
          ],
          "scatterpolar": [
           {
            "marker": {
             "colorbar": {
              "outlinewidth": 0,
              "ticks": ""
             }
            },
            "type": "scatterpolar"
           }
          ],
          "scatterpolargl": [
           {
            "marker": {
             "colorbar": {
              "outlinewidth": 0,
              "ticks": ""
             }
            },
            "type": "scatterpolargl"
           }
          ],
          "scatterternary": [
           {
            "marker": {
             "colorbar": {
              "outlinewidth": 0,
              "ticks": ""
             }
            },
            "type": "scatterternary"
           }
          ],
          "surface": [
           {
            "colorbar": {
             "outlinewidth": 0,
             "ticks": ""
            },
            "colorscale": [
             [
              0,
              "#0d0887"
             ],
             [
              0.1111111111111111,
              "#46039f"
             ],
             [
              0.2222222222222222,
              "#7201a8"
             ],
             [
              0.3333333333333333,
              "#9c179e"
             ],
             [
              0.4444444444444444,
              "#bd3786"
             ],
             [
              0.5555555555555556,
              "#d8576b"
             ],
             [
              0.6666666666666666,
              "#ed7953"
             ],
             [
              0.7777777777777778,
              "#fb9f3a"
             ],
             [
              0.8888888888888888,
              "#fdca26"
             ],
             [
              1,
              "#f0f921"
             ]
            ],
            "type": "surface"
           }
          ],
          "table": [
           {
            "cells": {
             "fill": {
              "color": "#EBF0F8"
             },
             "line": {
              "color": "white"
             }
            },
            "header": {
             "fill": {
              "color": "#C8D4E3"
             },
             "line": {
              "color": "white"
             }
            },
            "type": "table"
           }
          ]
         },
         "layout": {
          "annotationdefaults": {
           "arrowcolor": "#2a3f5f",
           "arrowhead": 0,
           "arrowwidth": 1
          },
          "autotypenumbers": "strict",
          "coloraxis": {
           "colorbar": {
            "outlinewidth": 0,
            "ticks": ""
           }
          },
          "colorscale": {
           "diverging": [
            [
             0,
             "#8e0152"
            ],
            [
             0.1,
             "#c51b7d"
            ],
            [
             0.2,
             "#de77ae"
            ],
            [
             0.3,
             "#f1b6da"
            ],
            [
             0.4,
             "#fde0ef"
            ],
            [
             0.5,
             "#f7f7f7"
            ],
            [
             0.6,
             "#e6f5d0"
            ],
            [
             0.7,
             "#b8e186"
            ],
            [
             0.8,
             "#7fbc41"
            ],
            [
             0.9,
             "#4d9221"
            ],
            [
             1,
             "#276419"
            ]
           ],
           "sequential": [
            [
             0,
             "#0d0887"
            ],
            [
             0.1111111111111111,
             "#46039f"
            ],
            [
             0.2222222222222222,
             "#7201a8"
            ],
            [
             0.3333333333333333,
             "#9c179e"
            ],
            [
             0.4444444444444444,
             "#bd3786"
            ],
            [
             0.5555555555555556,
             "#d8576b"
            ],
            [
             0.6666666666666666,
             "#ed7953"
            ],
            [
             0.7777777777777778,
             "#fb9f3a"
            ],
            [
             0.8888888888888888,
             "#fdca26"
            ],
            [
             1,
             "#f0f921"
            ]
           ],
           "sequentialminus": [
            [
             0,
             "#0d0887"
            ],
            [
             0.1111111111111111,
             "#46039f"
            ],
            [
             0.2222222222222222,
             "#7201a8"
            ],
            [
             0.3333333333333333,
             "#9c179e"
            ],
            [
             0.4444444444444444,
             "#bd3786"
            ],
            [
             0.5555555555555556,
             "#d8576b"
            ],
            [
             0.6666666666666666,
             "#ed7953"
            ],
            [
             0.7777777777777778,
             "#fb9f3a"
            ],
            [
             0.8888888888888888,
             "#fdca26"
            ],
            [
             1,
             "#f0f921"
            ]
           ]
          },
          "colorway": [
           "#636efa",
           "#EF553B",
           "#00cc96",
           "#ab63fa",
           "#FFA15A",
           "#19d3f3",
           "#FF6692",
           "#B6E880",
           "#FF97FF",
           "#FECB52"
          ],
          "font": {
           "color": "#2a3f5f"
          },
          "geo": {
           "bgcolor": "white",
           "lakecolor": "white",
           "landcolor": "#E5ECF6",
           "showlakes": true,
           "showland": true,
           "subunitcolor": "white"
          },
          "hoverlabel": {
           "align": "left"
          },
          "hovermode": "closest",
          "mapbox": {
           "style": "light"
          },
          "paper_bgcolor": "white",
          "plot_bgcolor": "#E5ECF6",
          "polar": {
           "angularaxis": {
            "gridcolor": "white",
            "linecolor": "white",
            "ticks": ""
           },
           "bgcolor": "#E5ECF6",
           "radialaxis": {
            "gridcolor": "white",
            "linecolor": "white",
            "ticks": ""
           }
          },
          "scene": {
           "xaxis": {
            "backgroundcolor": "#E5ECF6",
            "gridcolor": "white",
            "gridwidth": 2,
            "linecolor": "white",
            "showbackground": true,
            "ticks": "",
            "zerolinecolor": "white"
           },
           "yaxis": {
            "backgroundcolor": "#E5ECF6",
            "gridcolor": "white",
            "gridwidth": 2,
            "linecolor": "white",
            "showbackground": true,
            "ticks": "",
            "zerolinecolor": "white"
           },
           "zaxis": {
            "backgroundcolor": "#E5ECF6",
            "gridcolor": "white",
            "gridwidth": 2,
            "linecolor": "white",
            "showbackground": true,
            "ticks": "",
            "zerolinecolor": "white"
           }
          },
          "shapedefaults": {
           "line": {
            "color": "#2a3f5f"
           }
          },
          "ternary": {
           "aaxis": {
            "gridcolor": "white",
            "linecolor": "white",
            "ticks": ""
           },
           "baxis": {
            "gridcolor": "white",
            "linecolor": "white",
            "ticks": ""
           },
           "bgcolor": "#E5ECF6",
           "caxis": {
            "gridcolor": "white",
            "linecolor": "white",
            "ticks": ""
           }
          },
          "title": {
           "x": 0.05
          },
          "xaxis": {
           "automargin": true,
           "gridcolor": "white",
           "linecolor": "white",
           "ticks": "",
           "title": {
            "standoff": 15
           },
           "zerolinecolor": "white",
           "zerolinewidth": 2
          },
          "yaxis": {
           "automargin": true,
           "gridcolor": "white",
           "linecolor": "white",
           "ticks": "",
           "title": {
            "standoff": 15
           },
           "zerolinecolor": "white",
           "zerolinewidth": 2
          }
         }
        },
        "title": {
         "text": "Optimization History Plot"
        },
        "xaxis": {
         "title": {
          "text": "Trial"
         }
        },
        "yaxis": {
         "title": {
          "text": "Objective Value"
         }
        }
       }
      },
      "text/html": [
       "<div>                            <div id=\"dfd0ebe0-988d-409a-b99b-01a532865b5e\" class=\"plotly-graph-div\" style=\"height:525px; width:100%;\"></div>            <script type=\"text/javascript\">                require([\"plotly\"], function(Plotly) {                    window.PLOTLYENV=window.PLOTLYENV || {};                                    if (document.getElementById(\"dfd0ebe0-988d-409a-b99b-01a532865b5e\")) {                    Plotly.newPlot(                        \"dfd0ebe0-988d-409a-b99b-01a532865b5e\",                        [{\"mode\":\"markers\",\"name\":\"Objective Value\",\"x\":[0,1,2,3,4,5,6,7,8,9,10,11,12,13,14,15,16,17,18,19,20,21,22,23,24,25,26,27,28,29,30,31,32,33,34,35,36,37,38,39,40,41,42,43,44,45,46,47,48,49],\"y\":[0.7875193398659103,0.7447137699845281,0.7833935018050542,0.7870036101083032,0.7931923671995874,0.7833935018050542,0.7870036101083032,0.780814853017019,0.7859721505930892,0.7906137184115524,0.7931923671995874,0.7931923671995874,0.7895822588963384,0.7885507993811243,0.7931923671995874,0.7900979886539453,0.7931923671995874,0.7854564208354822,0.7890665291387313,0.7900979886539453,0.7854564208354822,0.7880350696235173,0.7931923671995874,0.7870036101083032,0.7885507993811243,0.7890665291387313,0.7931923671995874,0.7895822588963384,0.7849406910778752,0.7875193398659103,0.7900979886539453,0.7931923671995874,0.7859721505930892,0.7931923671995874,0.7885507993811243,0.7900979886539453,0.7870036101083032,0.7870036101083032,0.7870036101083032,0.7931923671995874,0.7895822588963384,0.7931923671995874,0.7931923671995874,0.7833935018050542,0.780814853017019,0.7849406910778752,0.7870036101083032,0.7870036101083032,0.7921609076843734,0.7859721505930892],\"type\":\"scatter\"},{\"name\":\"Best Value\",\"x\":[0,1,2,3,4,5,6,7,8,9,10,11,12,13,14,15,16,17,18,19,20,21,22,23,24,25,26,27,28,29,30,31,32,33,34,35,36,37,38,39,40,41,42,43,44,45,46,47,48,49],\"y\":[0.7875193398659103,0.7875193398659103,0.7875193398659103,0.7875193398659103,0.7931923671995874,0.7931923671995874,0.7931923671995874,0.7931923671995874,0.7931923671995874,0.7931923671995874,0.7931923671995874,0.7931923671995874,0.7931923671995874,0.7931923671995874,0.7931923671995874,0.7931923671995874,0.7931923671995874,0.7931923671995874,0.7931923671995874,0.7931923671995874,0.7931923671995874,0.7931923671995874,0.7931923671995874,0.7931923671995874,0.7931923671995874,0.7931923671995874,0.7931923671995874,0.7931923671995874,0.7931923671995874,0.7931923671995874,0.7931923671995874,0.7931923671995874,0.7931923671995874,0.7931923671995874,0.7931923671995874,0.7931923671995874,0.7931923671995874,0.7931923671995874,0.7931923671995874,0.7931923671995874,0.7931923671995874,0.7931923671995874,0.7931923671995874,0.7931923671995874,0.7931923671995874,0.7931923671995874,0.7931923671995874,0.7931923671995874,0.7931923671995874,0.7931923671995874],\"type\":\"scatter\"}],                        {\"title\":{\"text\":\"Optimization History Plot\"},\"xaxis\":{\"title\":{\"text\":\"Trial\"}},\"yaxis\":{\"title\":{\"text\":\"Objective Value\"}},\"template\":{\"data\":{\"histogram2dcontour\":[{\"type\":\"histogram2dcontour\",\"colorbar\":{\"outlinewidth\":0,\"ticks\":\"\"},\"colorscale\":[[0.0,\"#0d0887\"],[0.1111111111111111,\"#46039f\"],[0.2222222222222222,\"#7201a8\"],[0.3333333333333333,\"#9c179e\"],[0.4444444444444444,\"#bd3786\"],[0.5555555555555556,\"#d8576b\"],[0.6666666666666666,\"#ed7953\"],[0.7777777777777778,\"#fb9f3a\"],[0.8888888888888888,\"#fdca26\"],[1.0,\"#f0f921\"]]}],\"choropleth\":[{\"type\":\"choropleth\",\"colorbar\":{\"outlinewidth\":0,\"ticks\":\"\"}}],\"histogram2d\":[{\"type\":\"histogram2d\",\"colorbar\":{\"outlinewidth\":0,\"ticks\":\"\"},\"colorscale\":[[0.0,\"#0d0887\"],[0.1111111111111111,\"#46039f\"],[0.2222222222222222,\"#7201a8\"],[0.3333333333333333,\"#9c179e\"],[0.4444444444444444,\"#bd3786\"],[0.5555555555555556,\"#d8576b\"],[0.6666666666666666,\"#ed7953\"],[0.7777777777777778,\"#fb9f3a\"],[0.8888888888888888,\"#fdca26\"],[1.0,\"#f0f921\"]]}],\"heatmap\":[{\"type\":\"heatmap\",\"colorbar\":{\"outlinewidth\":0,\"ticks\":\"\"},\"colorscale\":[[0.0,\"#0d0887\"],[0.1111111111111111,\"#46039f\"],[0.2222222222222222,\"#7201a8\"],[0.3333333333333333,\"#9c179e\"],[0.4444444444444444,\"#bd3786\"],[0.5555555555555556,\"#d8576b\"],[0.6666666666666666,\"#ed7953\"],[0.7777777777777778,\"#fb9f3a\"],[0.8888888888888888,\"#fdca26\"],[1.0,\"#f0f921\"]]}],\"heatmapgl\":[{\"type\":\"heatmapgl\",\"colorbar\":{\"outlinewidth\":0,\"ticks\":\"\"},\"colorscale\":[[0.0,\"#0d0887\"],[0.1111111111111111,\"#46039f\"],[0.2222222222222222,\"#7201a8\"],[0.3333333333333333,\"#9c179e\"],[0.4444444444444444,\"#bd3786\"],[0.5555555555555556,\"#d8576b\"],[0.6666666666666666,\"#ed7953\"],[0.7777777777777778,\"#fb9f3a\"],[0.8888888888888888,\"#fdca26\"],[1.0,\"#f0f921\"]]}],\"contourcarpet\":[{\"type\":\"contourcarpet\",\"colorbar\":{\"outlinewidth\":0,\"ticks\":\"\"}}],\"contour\":[{\"type\":\"contour\",\"colorbar\":{\"outlinewidth\":0,\"ticks\":\"\"},\"colorscale\":[[0.0,\"#0d0887\"],[0.1111111111111111,\"#46039f\"],[0.2222222222222222,\"#7201a8\"],[0.3333333333333333,\"#9c179e\"],[0.4444444444444444,\"#bd3786\"],[0.5555555555555556,\"#d8576b\"],[0.6666666666666666,\"#ed7953\"],[0.7777777777777778,\"#fb9f3a\"],[0.8888888888888888,\"#fdca26\"],[1.0,\"#f0f921\"]]}],\"surface\":[{\"type\":\"surface\",\"colorbar\":{\"outlinewidth\":0,\"ticks\":\"\"},\"colorscale\":[[0.0,\"#0d0887\"],[0.1111111111111111,\"#46039f\"],[0.2222222222222222,\"#7201a8\"],[0.3333333333333333,\"#9c179e\"],[0.4444444444444444,\"#bd3786\"],[0.5555555555555556,\"#d8576b\"],[0.6666666666666666,\"#ed7953\"],[0.7777777777777778,\"#fb9f3a\"],[0.8888888888888888,\"#fdca26\"],[1.0,\"#f0f921\"]]}],\"mesh3d\":[{\"type\":\"mesh3d\",\"colorbar\":{\"outlinewidth\":0,\"ticks\":\"\"}}],\"scatter\":[{\"fillpattern\":{\"fillmode\":\"overlay\",\"size\":10,\"solidity\":0.2},\"type\":\"scatter\"}],\"parcoords\":[{\"type\":\"parcoords\",\"line\":{\"colorbar\":{\"outlinewidth\":0,\"ticks\":\"\"}}}],\"scatterpolargl\":[{\"type\":\"scatterpolargl\",\"marker\":{\"colorbar\":{\"outlinewidth\":0,\"ticks\":\"\"}}}],\"bar\":[{\"error_x\":{\"color\":\"#2a3f5f\"},\"error_y\":{\"color\":\"#2a3f5f\"},\"marker\":{\"line\":{\"color\":\"#E5ECF6\",\"width\":0.5},\"pattern\":{\"fillmode\":\"overlay\",\"size\":10,\"solidity\":0.2}},\"type\":\"bar\"}],\"scattergeo\":[{\"type\":\"scattergeo\",\"marker\":{\"colorbar\":{\"outlinewidth\":0,\"ticks\":\"\"}}}],\"scatterpolar\":[{\"type\":\"scatterpolar\",\"marker\":{\"colorbar\":{\"outlinewidth\":0,\"ticks\":\"\"}}}],\"histogram\":[{\"marker\":{\"pattern\":{\"fillmode\":\"overlay\",\"size\":10,\"solidity\":0.2}},\"type\":\"histogram\"}],\"scattergl\":[{\"type\":\"scattergl\",\"marker\":{\"colorbar\":{\"outlinewidth\":0,\"ticks\":\"\"}}}],\"scatter3d\":[{\"type\":\"scatter3d\",\"line\":{\"colorbar\":{\"outlinewidth\":0,\"ticks\":\"\"}},\"marker\":{\"colorbar\":{\"outlinewidth\":0,\"ticks\":\"\"}}}],\"scattermapbox\":[{\"type\":\"scattermapbox\",\"marker\":{\"colorbar\":{\"outlinewidth\":0,\"ticks\":\"\"}}}],\"scatterternary\":[{\"type\":\"scatterternary\",\"marker\":{\"colorbar\":{\"outlinewidth\":0,\"ticks\":\"\"}}}],\"scattercarpet\":[{\"type\":\"scattercarpet\",\"marker\":{\"colorbar\":{\"outlinewidth\":0,\"ticks\":\"\"}}}],\"carpet\":[{\"aaxis\":{\"endlinecolor\":\"#2a3f5f\",\"gridcolor\":\"white\",\"linecolor\":\"white\",\"minorgridcolor\":\"white\",\"startlinecolor\":\"#2a3f5f\"},\"baxis\":{\"endlinecolor\":\"#2a3f5f\",\"gridcolor\":\"white\",\"linecolor\":\"white\",\"minorgridcolor\":\"white\",\"startlinecolor\":\"#2a3f5f\"},\"type\":\"carpet\"}],\"table\":[{\"cells\":{\"fill\":{\"color\":\"#EBF0F8\"},\"line\":{\"color\":\"white\"}},\"header\":{\"fill\":{\"color\":\"#C8D4E3\"},\"line\":{\"color\":\"white\"}},\"type\":\"table\"}],\"barpolar\":[{\"marker\":{\"line\":{\"color\":\"#E5ECF6\",\"width\":0.5},\"pattern\":{\"fillmode\":\"overlay\",\"size\":10,\"solidity\":0.2}},\"type\":\"barpolar\"}],\"pie\":[{\"automargin\":true,\"type\":\"pie\"}]},\"layout\":{\"autotypenumbers\":\"strict\",\"colorway\":[\"#636efa\",\"#EF553B\",\"#00cc96\",\"#ab63fa\",\"#FFA15A\",\"#19d3f3\",\"#FF6692\",\"#B6E880\",\"#FF97FF\",\"#FECB52\"],\"font\":{\"color\":\"#2a3f5f\"},\"hovermode\":\"closest\",\"hoverlabel\":{\"align\":\"left\"},\"paper_bgcolor\":\"white\",\"plot_bgcolor\":\"#E5ECF6\",\"polar\":{\"bgcolor\":\"#E5ECF6\",\"angularaxis\":{\"gridcolor\":\"white\",\"linecolor\":\"white\",\"ticks\":\"\"},\"radialaxis\":{\"gridcolor\":\"white\",\"linecolor\":\"white\",\"ticks\":\"\"}},\"ternary\":{\"bgcolor\":\"#E5ECF6\",\"aaxis\":{\"gridcolor\":\"white\",\"linecolor\":\"white\",\"ticks\":\"\"},\"baxis\":{\"gridcolor\":\"white\",\"linecolor\":\"white\",\"ticks\":\"\"},\"caxis\":{\"gridcolor\":\"white\",\"linecolor\":\"white\",\"ticks\":\"\"}},\"coloraxis\":{\"colorbar\":{\"outlinewidth\":0,\"ticks\":\"\"}},\"colorscale\":{\"sequential\":[[0.0,\"#0d0887\"],[0.1111111111111111,\"#46039f\"],[0.2222222222222222,\"#7201a8\"],[0.3333333333333333,\"#9c179e\"],[0.4444444444444444,\"#bd3786\"],[0.5555555555555556,\"#d8576b\"],[0.6666666666666666,\"#ed7953\"],[0.7777777777777778,\"#fb9f3a\"],[0.8888888888888888,\"#fdca26\"],[1.0,\"#f0f921\"]],\"sequentialminus\":[[0.0,\"#0d0887\"],[0.1111111111111111,\"#46039f\"],[0.2222222222222222,\"#7201a8\"],[0.3333333333333333,\"#9c179e\"],[0.4444444444444444,\"#bd3786\"],[0.5555555555555556,\"#d8576b\"],[0.6666666666666666,\"#ed7953\"],[0.7777777777777778,\"#fb9f3a\"],[0.8888888888888888,\"#fdca26\"],[1.0,\"#f0f921\"]],\"diverging\":[[0,\"#8e0152\"],[0.1,\"#c51b7d\"],[0.2,\"#de77ae\"],[0.3,\"#f1b6da\"],[0.4,\"#fde0ef\"],[0.5,\"#f7f7f7\"],[0.6,\"#e6f5d0\"],[0.7,\"#b8e186\"],[0.8,\"#7fbc41\"],[0.9,\"#4d9221\"],[1,\"#276419\"]]},\"xaxis\":{\"gridcolor\":\"white\",\"linecolor\":\"white\",\"ticks\":\"\",\"title\":{\"standoff\":15},\"zerolinecolor\":\"white\",\"automargin\":true,\"zerolinewidth\":2},\"yaxis\":{\"gridcolor\":\"white\",\"linecolor\":\"white\",\"ticks\":\"\",\"title\":{\"standoff\":15},\"zerolinecolor\":\"white\",\"automargin\":true,\"zerolinewidth\":2},\"scene\":{\"xaxis\":{\"backgroundcolor\":\"#E5ECF6\",\"gridcolor\":\"white\",\"linecolor\":\"white\",\"showbackground\":true,\"ticks\":\"\",\"zerolinecolor\":\"white\",\"gridwidth\":2},\"yaxis\":{\"backgroundcolor\":\"#E5ECF6\",\"gridcolor\":\"white\",\"linecolor\":\"white\",\"showbackground\":true,\"ticks\":\"\",\"zerolinecolor\":\"white\",\"gridwidth\":2},\"zaxis\":{\"backgroundcolor\":\"#E5ECF6\",\"gridcolor\":\"white\",\"linecolor\":\"white\",\"showbackground\":true,\"ticks\":\"\",\"zerolinecolor\":\"white\",\"gridwidth\":2}},\"shapedefaults\":{\"line\":{\"color\":\"#2a3f5f\"}},\"annotationdefaults\":{\"arrowcolor\":\"#2a3f5f\",\"arrowhead\":0,\"arrowwidth\":1},\"geo\":{\"bgcolor\":\"white\",\"landcolor\":\"#E5ECF6\",\"subunitcolor\":\"white\",\"showland\":true,\"showlakes\":true,\"lakecolor\":\"white\"},\"title\":{\"x\":0.05},\"mapbox\":{\"style\":\"light\"}}}},                        {\"responsive\": true}                    ).then(function(){\n",
       "                            \n",
       "var gd = document.getElementById('dfd0ebe0-988d-409a-b99b-01a532865b5e');\n",
       "var x = new MutationObserver(function (mutations, observer) {{\n",
       "        var display = window.getComputedStyle(gd).display;\n",
       "        if (!display || display === 'none') {{\n",
       "            console.log([gd, 'removed!']);\n",
       "            Plotly.purge(gd);\n",
       "            observer.disconnect();\n",
       "        }}\n",
       "}});\n",
       "\n",
       "// Listen for the removal of the full notebook cells\n",
       "var notebookContainer = gd.closest('#notebook-container');\n",
       "if (notebookContainer) {{\n",
       "    x.observe(notebookContainer, {childList: true});\n",
       "}}\n",
       "\n",
       "// Listen for the clearing of the current output cell\n",
       "var outputEl = gd.closest('.output');\n",
       "if (outputEl) {{\n",
       "    x.observe(outputEl, {childList: true});\n",
       "}}\n",
       "\n",
       "                        })                };                });            </script>        </div>"
      ]
     },
     "metadata": {},
     "output_type": "display_data"
    },
    {
     "name": "stdout",
     "output_type": "stream",
     "text": [
      "-----------------------------\n",
      "\n"
     ]
    }
   ],
   "source": [
    "optimize_parameters('KNN', 50)"
   ]
  },
  {
   "cell_type": "code",
   "execution_count": 78,
   "metadata": {},
   "outputs": [
    {
     "name": "stderr",
     "output_type": "stream",
     "text": [
      "[I 2024-01-29 18:28:18,872] A new study created in memory with name: no-name-f4a02b6b-5d3e-44f9-b121-ef05e6b4421e\n",
      "[I 2024-01-29 18:28:19,646] Trial 0 finished with value: 0.6740587931923672 and parameters: {'rf_max_depth': 7, 'rf_n_estimators': 136}. Best is trial 0 with value: 0.6740587931923672.\n",
      "[I 2024-01-29 18:28:19,801] Trial 1 finished with value: 0.6049510056730273 and parameters: {'rf_max_depth': 2, 'rf_n_estimators': 55}. Best is trial 0 with value: 0.6740587931923672.\n",
      "[I 2024-01-29 18:28:22,542] Trial 2 finished with value: 0.7282104177411036 and parameters: {'rf_max_depth': 14, 'rf_n_estimators': 233}. Best is trial 2 with value: 0.7282104177411036.\n",
      "[I 2024-01-29 18:28:23,704] Trial 3 finished with value: 0.6441464672511604 and parameters: {'rf_max_depth': 6, 'rf_n_estimators': 270}. Best is trial 2 with value: 0.7282104177411036.\n",
      "[I 2024-01-29 18:28:24,752] Trial 4 finished with value: 0.7246003094378546 and parameters: {'rf_max_depth': 13, 'rf_n_estimators': 109}. Best is trial 2 with value: 0.7282104177411036.\n",
      "[I 2024-01-29 18:28:26,432] Trial 5 finished with value: 0.7106756059824652 and parameters: {'rf_max_depth': 11, 'rf_n_estimators': 195}. Best is trial 2 with value: 0.7282104177411036.\n",
      "[I 2024-01-29 18:28:26,661] Trial 6 finished with value: 0.6008251676121712 and parameters: {'rf_max_depth': 3, 'rf_n_estimators': 67}. Best is trial 2 with value: 0.7282104177411036.\n",
      "[I 2024-01-29 18:28:27,127] Trial 7 finished with value: 0.7086126869520372 and parameters: {'rf_max_depth': 9, 'rf_n_estimators': 67}. Best is trial 2 with value: 0.7282104177411036.\n",
      "[I 2024-01-29 18:28:27,649] Trial 8 finished with value: 0.6807632800412584 and parameters: {'rf_max_depth': 9, 'rf_n_estimators': 76}. Best is trial 2 with value: 0.7282104177411036.\n",
      "[I 2024-01-29 18:28:29,923] Trial 9 finished with value: 0.7591542031975245 and parameters: {'rf_max_depth': 31, 'rf_n_estimators': 81}. Best is trial 9 with value: 0.7591542031975245.\n",
      "[I 2024-01-29 18:28:32,531] Trial 10 finished with value: 0.7612171222279526 and parameters: {'rf_max_depth': 31, 'rf_n_estimators': 101}. Best is trial 10 with value: 0.7612171222279526.\n",
      "[I 2024-01-29 18:28:35,530] Trial 11 finished with value: 0.7643115007735947 and parameters: {'rf_max_depth': 32, 'rf_n_estimators': 101}. Best is trial 11 with value: 0.7643115007735947.\n",
      "[I 2024-01-29 18:28:37,876] Trial 12 finished with value: 0.7627643115007736 and parameters: {'rf_max_depth': 24, 'rf_n_estimators': 110}. Best is trial 11 with value: 0.7643115007735947.\n",
      "[I 2024-01-29 18:28:40,632] Trial 13 finished with value: 0.7550283651366684 and parameters: {'rf_max_depth': 22, 'rf_n_estimators': 144}. Best is trial 11 with value: 0.7643115007735947.\n",
      "[I 2024-01-29 18:28:42,211] Trial 14 finished with value: 0.7462609592573491 and parameters: {'rf_max_depth': 20, 'rf_n_estimators': 96}. Best is trial 11 with value: 0.7643115007735947.\n",
      "[I 2024-01-29 18:28:44,436] Trial 15 finished with value: 0.7555440948942754 and parameters: {'rf_max_depth': 18, 'rf_n_estimators': 153}. Best is trial 11 with value: 0.7643115007735947.\n",
      "[I 2024-01-29 18:28:47,524] Trial 16 finished with value: 0.7648272305312016 and parameters: {'rf_max_depth': 32, 'rf_n_estimators': 117}. Best is trial 16 with value: 0.7648272305312016.\n",
      "[I 2024-01-29 18:28:52,102] Trial 17 finished with value: 0.7710159876224858 and parameters: {'rf_max_depth': 31, 'rf_n_estimators': 176}. Best is trial 17 with value: 0.7710159876224858.\n",
      "[I 2024-01-29 18:28:54,201] Trial 18 finished with value: 0.7462609592573491 and parameters: {'rf_max_depth': 16, 'rf_n_estimators': 169}. Best is trial 17 with value: 0.7710159876224858.\n",
      "[I 2024-01-29 18:28:58,120] Trial 19 finished with value: 0.7570912841670965 and parameters: {'rf_max_depth': 24, 'rf_n_estimators': 188}. Best is trial 17 with value: 0.7710159876224858.\n",
      "[I 2024-01-29 18:28:59,904] Trial 20 finished with value: 0.7498710675605983 and parameters: {'rf_max_depth': 17, 'rf_n_estimators': 128}. Best is trial 17 with value: 0.7710159876224858.\n",
      "[I 2024-01-29 18:29:03,130] Trial 21 finished with value: 0.7705002578648789 and parameters: {'rf_max_depth': 31, 'rf_n_estimators': 125}. Best is trial 17 with value: 0.7710159876224858.\n",
      "[I 2024-01-29 18:29:05,982] Trial 22 finished with value: 0.7668901495616297 and parameters: {'rf_max_depth': 26, 'rf_n_estimators': 125}. Best is trial 17 with value: 0.7710159876224858.\n",
      "[I 2024-01-29 18:29:08,882] Trial 23 finished with value: 0.7514182568334193 and parameters: {'rf_max_depth': 21, 'rf_n_estimators': 159}. Best is trial 17 with value: 0.7710159876224858.\n",
      "[I 2024-01-29 18:29:11,582] Trial 24 finished with value: 0.7586384734399175 and parameters: {'rf_max_depth': 25, 'rf_n_estimators': 127}. Best is trial 17 with value: 0.7710159876224858.\n",
      "[I 2024-01-29 18:29:15,464] Trial 25 finished with value: 0.7596699329551315 and parameters: {'rf_max_depth': 25, 'rf_n_estimators': 173}. Best is trial 17 with value: 0.7710159876224858.\n",
      "[I 2024-01-29 18:29:17,474] Trial 26 finished with value: 0.743166580711707 and parameters: {'rf_max_depth': 17, 'rf_n_estimators': 140}. Best is trial 17 with value: 0.7710159876224858.\n",
      "[I 2024-01-29 18:29:20,970] Trial 27 finished with value: 0.7483238782877772 and parameters: {'rf_max_depth': 20, 'rf_n_estimators': 206}. Best is trial 17 with value: 0.7710159876224858.\n",
      "[I 2024-01-29 18:29:23,760] Trial 28 finished with value: 0.7550283651366684 and parameters: {'rf_max_depth': 27, 'rf_n_estimators': 124}. Best is trial 17 with value: 0.7710159876224858.\n",
      "[I 2024-01-29 18:29:25,212] Trial 29 finished with value: 0.7323362558019598 and parameters: {'rf_max_depth': 14, 'rf_n_estimators': 138}. Best is trial 17 with value: 0.7710159876224858.\n",
      "[I 2024-01-29 18:29:28,941] Trial 30 finished with value: 0.7612171222279526 and parameters: {'rf_max_depth': 27, 'rf_n_estimators': 156}. Best is trial 17 with value: 0.7710159876224858.\n",
      "[I 2024-01-29 18:29:32,084] Trial 31 finished with value: 0.7627643115007736 and parameters: {'rf_max_depth': 32, 'rf_n_estimators': 120}. Best is trial 17 with value: 0.7710159876224858.\n",
      "[I 2024-01-29 18:29:35,653] Trial 32 finished with value: 0.7648272305312016 and parameters: {'rf_max_depth': 32, 'rf_n_estimators': 138}. Best is trial 17 with value: 0.7710159876224858.\n",
      "[I 2024-01-29 18:29:38,886] Trial 33 finished with value: 0.7488396080453842 and parameters: {'rf_max_depth': 21, 'rf_n_estimators': 174}. Best is trial 17 with value: 0.7710159876224858.\n",
      "[I 2024-01-29 18:29:44,414] Trial 34 finished with value: 0.7684373388344508 and parameters: {'rf_max_depth': 27, 'rf_n_estimators': 238}. Best is trial 17 with value: 0.7710159876224858.\n",
      "[I 2024-01-29 18:29:49,438] Trial 35 finished with value: 0.7658586900464157 and parameters: {'rf_max_depth': 26, 'rf_n_estimators': 228}. Best is trial 17 with value: 0.7710159876224858.\n",
      "[I 2024-01-29 18:29:52,795] Trial 36 finished with value: 0.741619391438886 and parameters: {'rf_max_depth': 15, 'rf_n_estimators': 290}. Best is trial 17 with value: 0.7710159876224858.\n",
      "[I 2024-01-29 18:29:56,550] Trial 37 finished with value: 0.7519339865910263 and parameters: {'rf_max_depth': 18, 'rf_n_estimators': 255}. Best is trial 17 with value: 0.7710159876224858.\n",
      "[I 2024-01-29 18:30:00,228] Trial 38 finished with value: 0.7560598246518824 and parameters: {'rf_max_depth': 20, 'rf_n_estimators': 211}. Best is trial 17 with value: 0.7710159876224858.\n",
      "[I 2024-01-29 18:30:02,322] Trial 39 finished with value: 0.7338834450747808 and parameters: {'rf_max_depth': 12, 'rf_n_estimators': 241}. Best is trial 17 with value: 0.7710159876224858.\n",
      "[I 2024-01-29 18:30:05,089] Trial 40 finished with value: 0.7333677153171738 and parameters: {'rf_max_depth': 14, 'rf_n_estimators': 266}. Best is trial 17 with value: 0.7710159876224858.\n",
      "[I 2024-01-29 18:30:10,415] Trial 41 finished with value: 0.7648272305312016 and parameters: {'rf_max_depth': 27, 'rf_n_estimators': 227}. Best is trial 17 with value: 0.7710159876224858.\n",
      "[I 2024-01-29 18:30:15,548] Trial 42 finished with value: 0.7576070139247034 and parameters: {'rf_max_depth': 28, 'rf_n_estimators': 215}. Best is trial 17 with value: 0.7710159876224858.\n",
      "[I 2024-01-29 18:30:19,707] Trial 43 finished with value: 0.7560598246518824 and parameters: {'rf_max_depth': 24, 'rf_n_estimators': 195}. Best is trial 17 with value: 0.7710159876224858.\n",
      "[I 2024-01-29 18:30:25,362] Trial 44 finished with value: 0.7622485817431666 and parameters: {'rf_max_depth': 28, 'rf_n_estimators': 237}. Best is trial 17 with value: 0.7710159876224858.\n",
      "[I 2024-01-29 18:30:29,583] Trial 45 finished with value: 0.7514182568334193 and parameters: {'rf_max_depth': 23, 'rf_n_estimators': 218}. Best is trial 17 with value: 0.7710159876224858.\n",
      "[I 2024-01-29 18:30:33,715] Trial 46 finished with value: 0.7627643115007736 and parameters: {'rf_max_depth': 28, 'rf_n_estimators': 182}. Best is trial 17 with value: 0.7710159876224858.\n",
      "[I 2024-01-29 18:30:39,262] Trial 47 finished with value: 0.7560598246518824 and parameters: {'rf_max_depth': 22, 'rf_n_estimators': 290}. Best is trial 17 with value: 0.7710159876224858.\n",
      "[I 2024-01-29 18:30:43,306] Trial 48 finished with value: 0.7524497163486333 and parameters: {'rf_max_depth': 19, 'rf_n_estimators': 253}. Best is trial 17 with value: 0.7710159876224858.\n",
      "[I 2024-01-29 18:30:45,914] Trial 49 finished with value: 0.7472924187725631 and parameters: {'rf_max_depth': 16, 'rf_n_estimators': 201}. Best is trial 17 with value: 0.7710159876224858.\n"
     ]
    },
    {
     "name": "stdout",
     "output_type": "stream",
     "text": [
      "RF:\n",
      "Best accuracy: 0.7710159876224858\n",
      "Best hyperparameters: {'rf_max_depth': 31, 'rf_n_estimators': 176}\n"
     ]
    },
    {
     "data": {
      "application/vnd.plotly.v1+json": {
       "config": {
        "plotlyServerURL": "https://plot.ly"
       },
       "data": [
        {
         "mode": "markers",
         "name": "Objective Value",
         "type": "scatter",
         "x": [
          0,
          1,
          2,
          3,
          4,
          5,
          6,
          7,
          8,
          9,
          10,
          11,
          12,
          13,
          14,
          15,
          16,
          17,
          18,
          19,
          20,
          21,
          22,
          23,
          24,
          25,
          26,
          27,
          28,
          29,
          30,
          31,
          32,
          33,
          34,
          35,
          36,
          37,
          38,
          39,
          40,
          41,
          42,
          43,
          44,
          45,
          46,
          47,
          48,
          49
         ],
         "y": [
          0.6740587931923672,
          0.6049510056730273,
          0.7282104177411036,
          0.6441464672511604,
          0.7246003094378546,
          0.7106756059824652,
          0.6008251676121712,
          0.7086126869520372,
          0.6807632800412584,
          0.7591542031975245,
          0.7612171222279526,
          0.7643115007735947,
          0.7627643115007736,
          0.7550283651366684,
          0.7462609592573491,
          0.7555440948942754,
          0.7648272305312016,
          0.7710159876224858,
          0.7462609592573491,
          0.7570912841670965,
          0.7498710675605983,
          0.7705002578648789,
          0.7668901495616297,
          0.7514182568334193,
          0.7586384734399175,
          0.7596699329551315,
          0.743166580711707,
          0.7483238782877772,
          0.7550283651366684,
          0.7323362558019598,
          0.7612171222279526,
          0.7627643115007736,
          0.7648272305312016,
          0.7488396080453842,
          0.7684373388344508,
          0.7658586900464157,
          0.741619391438886,
          0.7519339865910263,
          0.7560598246518824,
          0.7338834450747808,
          0.7333677153171738,
          0.7648272305312016,
          0.7576070139247034,
          0.7560598246518824,
          0.7622485817431666,
          0.7514182568334193,
          0.7627643115007736,
          0.7560598246518824,
          0.7524497163486333,
          0.7472924187725631
         ]
        },
        {
         "name": "Best Value",
         "type": "scatter",
         "x": [
          0,
          1,
          2,
          3,
          4,
          5,
          6,
          7,
          8,
          9,
          10,
          11,
          12,
          13,
          14,
          15,
          16,
          17,
          18,
          19,
          20,
          21,
          22,
          23,
          24,
          25,
          26,
          27,
          28,
          29,
          30,
          31,
          32,
          33,
          34,
          35,
          36,
          37,
          38,
          39,
          40,
          41,
          42,
          43,
          44,
          45,
          46,
          47,
          48,
          49
         ],
         "y": [
          0.6740587931923672,
          0.6740587931923672,
          0.7282104177411036,
          0.7282104177411036,
          0.7282104177411036,
          0.7282104177411036,
          0.7282104177411036,
          0.7282104177411036,
          0.7282104177411036,
          0.7591542031975245,
          0.7612171222279526,
          0.7643115007735947,
          0.7643115007735947,
          0.7643115007735947,
          0.7643115007735947,
          0.7643115007735947,
          0.7648272305312016,
          0.7710159876224858,
          0.7710159876224858,
          0.7710159876224858,
          0.7710159876224858,
          0.7710159876224858,
          0.7710159876224858,
          0.7710159876224858,
          0.7710159876224858,
          0.7710159876224858,
          0.7710159876224858,
          0.7710159876224858,
          0.7710159876224858,
          0.7710159876224858,
          0.7710159876224858,
          0.7710159876224858,
          0.7710159876224858,
          0.7710159876224858,
          0.7710159876224858,
          0.7710159876224858,
          0.7710159876224858,
          0.7710159876224858,
          0.7710159876224858,
          0.7710159876224858,
          0.7710159876224858,
          0.7710159876224858,
          0.7710159876224858,
          0.7710159876224858,
          0.7710159876224858,
          0.7710159876224858,
          0.7710159876224858,
          0.7710159876224858,
          0.7710159876224858,
          0.7710159876224858
         ]
        }
       ],
       "layout": {
        "template": {
         "data": {
          "bar": [
           {
            "error_x": {
             "color": "#2a3f5f"
            },
            "error_y": {
             "color": "#2a3f5f"
            },
            "marker": {
             "line": {
              "color": "#E5ECF6",
              "width": 0.5
             },
             "pattern": {
              "fillmode": "overlay",
              "size": 10,
              "solidity": 0.2
             }
            },
            "type": "bar"
           }
          ],
          "barpolar": [
           {
            "marker": {
             "line": {
              "color": "#E5ECF6",
              "width": 0.5
             },
             "pattern": {
              "fillmode": "overlay",
              "size": 10,
              "solidity": 0.2
             }
            },
            "type": "barpolar"
           }
          ],
          "carpet": [
           {
            "aaxis": {
             "endlinecolor": "#2a3f5f",
             "gridcolor": "white",
             "linecolor": "white",
             "minorgridcolor": "white",
             "startlinecolor": "#2a3f5f"
            },
            "baxis": {
             "endlinecolor": "#2a3f5f",
             "gridcolor": "white",
             "linecolor": "white",
             "minorgridcolor": "white",
             "startlinecolor": "#2a3f5f"
            },
            "type": "carpet"
           }
          ],
          "choropleth": [
           {
            "colorbar": {
             "outlinewidth": 0,
             "ticks": ""
            },
            "type": "choropleth"
           }
          ],
          "contour": [
           {
            "colorbar": {
             "outlinewidth": 0,
             "ticks": ""
            },
            "colorscale": [
             [
              0,
              "#0d0887"
             ],
             [
              0.1111111111111111,
              "#46039f"
             ],
             [
              0.2222222222222222,
              "#7201a8"
             ],
             [
              0.3333333333333333,
              "#9c179e"
             ],
             [
              0.4444444444444444,
              "#bd3786"
             ],
             [
              0.5555555555555556,
              "#d8576b"
             ],
             [
              0.6666666666666666,
              "#ed7953"
             ],
             [
              0.7777777777777778,
              "#fb9f3a"
             ],
             [
              0.8888888888888888,
              "#fdca26"
             ],
             [
              1,
              "#f0f921"
             ]
            ],
            "type": "contour"
           }
          ],
          "contourcarpet": [
           {
            "colorbar": {
             "outlinewidth": 0,
             "ticks": ""
            },
            "type": "contourcarpet"
           }
          ],
          "heatmap": [
           {
            "colorbar": {
             "outlinewidth": 0,
             "ticks": ""
            },
            "colorscale": [
             [
              0,
              "#0d0887"
             ],
             [
              0.1111111111111111,
              "#46039f"
             ],
             [
              0.2222222222222222,
              "#7201a8"
             ],
             [
              0.3333333333333333,
              "#9c179e"
             ],
             [
              0.4444444444444444,
              "#bd3786"
             ],
             [
              0.5555555555555556,
              "#d8576b"
             ],
             [
              0.6666666666666666,
              "#ed7953"
             ],
             [
              0.7777777777777778,
              "#fb9f3a"
             ],
             [
              0.8888888888888888,
              "#fdca26"
             ],
             [
              1,
              "#f0f921"
             ]
            ],
            "type": "heatmap"
           }
          ],
          "heatmapgl": [
           {
            "colorbar": {
             "outlinewidth": 0,
             "ticks": ""
            },
            "colorscale": [
             [
              0,
              "#0d0887"
             ],
             [
              0.1111111111111111,
              "#46039f"
             ],
             [
              0.2222222222222222,
              "#7201a8"
             ],
             [
              0.3333333333333333,
              "#9c179e"
             ],
             [
              0.4444444444444444,
              "#bd3786"
             ],
             [
              0.5555555555555556,
              "#d8576b"
             ],
             [
              0.6666666666666666,
              "#ed7953"
             ],
             [
              0.7777777777777778,
              "#fb9f3a"
             ],
             [
              0.8888888888888888,
              "#fdca26"
             ],
             [
              1,
              "#f0f921"
             ]
            ],
            "type": "heatmapgl"
           }
          ],
          "histogram": [
           {
            "marker": {
             "pattern": {
              "fillmode": "overlay",
              "size": 10,
              "solidity": 0.2
             }
            },
            "type": "histogram"
           }
          ],
          "histogram2d": [
           {
            "colorbar": {
             "outlinewidth": 0,
             "ticks": ""
            },
            "colorscale": [
             [
              0,
              "#0d0887"
             ],
             [
              0.1111111111111111,
              "#46039f"
             ],
             [
              0.2222222222222222,
              "#7201a8"
             ],
             [
              0.3333333333333333,
              "#9c179e"
             ],
             [
              0.4444444444444444,
              "#bd3786"
             ],
             [
              0.5555555555555556,
              "#d8576b"
             ],
             [
              0.6666666666666666,
              "#ed7953"
             ],
             [
              0.7777777777777778,
              "#fb9f3a"
             ],
             [
              0.8888888888888888,
              "#fdca26"
             ],
             [
              1,
              "#f0f921"
             ]
            ],
            "type": "histogram2d"
           }
          ],
          "histogram2dcontour": [
           {
            "colorbar": {
             "outlinewidth": 0,
             "ticks": ""
            },
            "colorscale": [
             [
              0,
              "#0d0887"
             ],
             [
              0.1111111111111111,
              "#46039f"
             ],
             [
              0.2222222222222222,
              "#7201a8"
             ],
             [
              0.3333333333333333,
              "#9c179e"
             ],
             [
              0.4444444444444444,
              "#bd3786"
             ],
             [
              0.5555555555555556,
              "#d8576b"
             ],
             [
              0.6666666666666666,
              "#ed7953"
             ],
             [
              0.7777777777777778,
              "#fb9f3a"
             ],
             [
              0.8888888888888888,
              "#fdca26"
             ],
             [
              1,
              "#f0f921"
             ]
            ],
            "type": "histogram2dcontour"
           }
          ],
          "mesh3d": [
           {
            "colorbar": {
             "outlinewidth": 0,
             "ticks": ""
            },
            "type": "mesh3d"
           }
          ],
          "parcoords": [
           {
            "line": {
             "colorbar": {
              "outlinewidth": 0,
              "ticks": ""
             }
            },
            "type": "parcoords"
           }
          ],
          "pie": [
           {
            "automargin": true,
            "type": "pie"
           }
          ],
          "scatter": [
           {
            "fillpattern": {
             "fillmode": "overlay",
             "size": 10,
             "solidity": 0.2
            },
            "type": "scatter"
           }
          ],
          "scatter3d": [
           {
            "line": {
             "colorbar": {
              "outlinewidth": 0,
              "ticks": ""
             }
            },
            "marker": {
             "colorbar": {
              "outlinewidth": 0,
              "ticks": ""
             }
            },
            "type": "scatter3d"
           }
          ],
          "scattercarpet": [
           {
            "marker": {
             "colorbar": {
              "outlinewidth": 0,
              "ticks": ""
             }
            },
            "type": "scattercarpet"
           }
          ],
          "scattergeo": [
           {
            "marker": {
             "colorbar": {
              "outlinewidth": 0,
              "ticks": ""
             }
            },
            "type": "scattergeo"
           }
          ],
          "scattergl": [
           {
            "marker": {
             "colorbar": {
              "outlinewidth": 0,
              "ticks": ""
             }
            },
            "type": "scattergl"
           }
          ],
          "scattermapbox": [
           {
            "marker": {
             "colorbar": {
              "outlinewidth": 0,
              "ticks": ""
             }
            },
            "type": "scattermapbox"
           }
          ],
          "scatterpolar": [
           {
            "marker": {
             "colorbar": {
              "outlinewidth": 0,
              "ticks": ""
             }
            },
            "type": "scatterpolar"
           }
          ],
          "scatterpolargl": [
           {
            "marker": {
             "colorbar": {
              "outlinewidth": 0,
              "ticks": ""
             }
            },
            "type": "scatterpolargl"
           }
          ],
          "scatterternary": [
           {
            "marker": {
             "colorbar": {
              "outlinewidth": 0,
              "ticks": ""
             }
            },
            "type": "scatterternary"
           }
          ],
          "surface": [
           {
            "colorbar": {
             "outlinewidth": 0,
             "ticks": ""
            },
            "colorscale": [
             [
              0,
              "#0d0887"
             ],
             [
              0.1111111111111111,
              "#46039f"
             ],
             [
              0.2222222222222222,
              "#7201a8"
             ],
             [
              0.3333333333333333,
              "#9c179e"
             ],
             [
              0.4444444444444444,
              "#bd3786"
             ],
             [
              0.5555555555555556,
              "#d8576b"
             ],
             [
              0.6666666666666666,
              "#ed7953"
             ],
             [
              0.7777777777777778,
              "#fb9f3a"
             ],
             [
              0.8888888888888888,
              "#fdca26"
             ],
             [
              1,
              "#f0f921"
             ]
            ],
            "type": "surface"
           }
          ],
          "table": [
           {
            "cells": {
             "fill": {
              "color": "#EBF0F8"
             },
             "line": {
              "color": "white"
             }
            },
            "header": {
             "fill": {
              "color": "#C8D4E3"
             },
             "line": {
              "color": "white"
             }
            },
            "type": "table"
           }
          ]
         },
         "layout": {
          "annotationdefaults": {
           "arrowcolor": "#2a3f5f",
           "arrowhead": 0,
           "arrowwidth": 1
          },
          "autotypenumbers": "strict",
          "coloraxis": {
           "colorbar": {
            "outlinewidth": 0,
            "ticks": ""
           }
          },
          "colorscale": {
           "diverging": [
            [
             0,
             "#8e0152"
            ],
            [
             0.1,
             "#c51b7d"
            ],
            [
             0.2,
             "#de77ae"
            ],
            [
             0.3,
             "#f1b6da"
            ],
            [
             0.4,
             "#fde0ef"
            ],
            [
             0.5,
             "#f7f7f7"
            ],
            [
             0.6,
             "#e6f5d0"
            ],
            [
             0.7,
             "#b8e186"
            ],
            [
             0.8,
             "#7fbc41"
            ],
            [
             0.9,
             "#4d9221"
            ],
            [
             1,
             "#276419"
            ]
           ],
           "sequential": [
            [
             0,
             "#0d0887"
            ],
            [
             0.1111111111111111,
             "#46039f"
            ],
            [
             0.2222222222222222,
             "#7201a8"
            ],
            [
             0.3333333333333333,
             "#9c179e"
            ],
            [
             0.4444444444444444,
             "#bd3786"
            ],
            [
             0.5555555555555556,
             "#d8576b"
            ],
            [
             0.6666666666666666,
             "#ed7953"
            ],
            [
             0.7777777777777778,
             "#fb9f3a"
            ],
            [
             0.8888888888888888,
             "#fdca26"
            ],
            [
             1,
             "#f0f921"
            ]
           ],
           "sequentialminus": [
            [
             0,
             "#0d0887"
            ],
            [
             0.1111111111111111,
             "#46039f"
            ],
            [
             0.2222222222222222,
             "#7201a8"
            ],
            [
             0.3333333333333333,
             "#9c179e"
            ],
            [
             0.4444444444444444,
             "#bd3786"
            ],
            [
             0.5555555555555556,
             "#d8576b"
            ],
            [
             0.6666666666666666,
             "#ed7953"
            ],
            [
             0.7777777777777778,
             "#fb9f3a"
            ],
            [
             0.8888888888888888,
             "#fdca26"
            ],
            [
             1,
             "#f0f921"
            ]
           ]
          },
          "colorway": [
           "#636efa",
           "#EF553B",
           "#00cc96",
           "#ab63fa",
           "#FFA15A",
           "#19d3f3",
           "#FF6692",
           "#B6E880",
           "#FF97FF",
           "#FECB52"
          ],
          "font": {
           "color": "#2a3f5f"
          },
          "geo": {
           "bgcolor": "white",
           "lakecolor": "white",
           "landcolor": "#E5ECF6",
           "showlakes": true,
           "showland": true,
           "subunitcolor": "white"
          },
          "hoverlabel": {
           "align": "left"
          },
          "hovermode": "closest",
          "mapbox": {
           "style": "light"
          },
          "paper_bgcolor": "white",
          "plot_bgcolor": "#E5ECF6",
          "polar": {
           "angularaxis": {
            "gridcolor": "white",
            "linecolor": "white",
            "ticks": ""
           },
           "bgcolor": "#E5ECF6",
           "radialaxis": {
            "gridcolor": "white",
            "linecolor": "white",
            "ticks": ""
           }
          },
          "scene": {
           "xaxis": {
            "backgroundcolor": "#E5ECF6",
            "gridcolor": "white",
            "gridwidth": 2,
            "linecolor": "white",
            "showbackground": true,
            "ticks": "",
            "zerolinecolor": "white"
           },
           "yaxis": {
            "backgroundcolor": "#E5ECF6",
            "gridcolor": "white",
            "gridwidth": 2,
            "linecolor": "white",
            "showbackground": true,
            "ticks": "",
            "zerolinecolor": "white"
           },
           "zaxis": {
            "backgroundcolor": "#E5ECF6",
            "gridcolor": "white",
            "gridwidth": 2,
            "linecolor": "white",
            "showbackground": true,
            "ticks": "",
            "zerolinecolor": "white"
           }
          },
          "shapedefaults": {
           "line": {
            "color": "#2a3f5f"
           }
          },
          "ternary": {
           "aaxis": {
            "gridcolor": "white",
            "linecolor": "white",
            "ticks": ""
           },
           "baxis": {
            "gridcolor": "white",
            "linecolor": "white",
            "ticks": ""
           },
           "bgcolor": "#E5ECF6",
           "caxis": {
            "gridcolor": "white",
            "linecolor": "white",
            "ticks": ""
           }
          },
          "title": {
           "x": 0.05
          },
          "xaxis": {
           "automargin": true,
           "gridcolor": "white",
           "linecolor": "white",
           "ticks": "",
           "title": {
            "standoff": 15
           },
           "zerolinecolor": "white",
           "zerolinewidth": 2
          },
          "yaxis": {
           "automargin": true,
           "gridcolor": "white",
           "linecolor": "white",
           "ticks": "",
           "title": {
            "standoff": 15
           },
           "zerolinecolor": "white",
           "zerolinewidth": 2
          }
         }
        },
        "title": {
         "text": "Optimization History Plot"
        },
        "xaxis": {
         "title": {
          "text": "Trial"
         }
        },
        "yaxis": {
         "title": {
          "text": "Objective Value"
         }
        }
       }
      },
      "text/html": [
       "<div>                            <div id=\"d32ccdef-8ca4-4a53-a02a-148ad066e540\" class=\"plotly-graph-div\" style=\"height:525px; width:100%;\"></div>            <script type=\"text/javascript\">                require([\"plotly\"], function(Plotly) {                    window.PLOTLYENV=window.PLOTLYENV || {};                                    if (document.getElementById(\"d32ccdef-8ca4-4a53-a02a-148ad066e540\")) {                    Plotly.newPlot(                        \"d32ccdef-8ca4-4a53-a02a-148ad066e540\",                        [{\"mode\":\"markers\",\"name\":\"Objective Value\",\"x\":[0,1,2,3,4,5,6,7,8,9,10,11,12,13,14,15,16,17,18,19,20,21,22,23,24,25,26,27,28,29,30,31,32,33,34,35,36,37,38,39,40,41,42,43,44,45,46,47,48,49],\"y\":[0.6740587931923672,0.6049510056730273,0.7282104177411036,0.6441464672511604,0.7246003094378546,0.7106756059824652,0.6008251676121712,0.7086126869520372,0.6807632800412584,0.7591542031975245,0.7612171222279526,0.7643115007735947,0.7627643115007736,0.7550283651366684,0.7462609592573491,0.7555440948942754,0.7648272305312016,0.7710159876224858,0.7462609592573491,0.7570912841670965,0.7498710675605983,0.7705002578648789,0.7668901495616297,0.7514182568334193,0.7586384734399175,0.7596699329551315,0.743166580711707,0.7483238782877772,0.7550283651366684,0.7323362558019598,0.7612171222279526,0.7627643115007736,0.7648272305312016,0.7488396080453842,0.7684373388344508,0.7658586900464157,0.741619391438886,0.7519339865910263,0.7560598246518824,0.7338834450747808,0.7333677153171738,0.7648272305312016,0.7576070139247034,0.7560598246518824,0.7622485817431666,0.7514182568334193,0.7627643115007736,0.7560598246518824,0.7524497163486333,0.7472924187725631],\"type\":\"scatter\"},{\"name\":\"Best Value\",\"x\":[0,1,2,3,4,5,6,7,8,9,10,11,12,13,14,15,16,17,18,19,20,21,22,23,24,25,26,27,28,29,30,31,32,33,34,35,36,37,38,39,40,41,42,43,44,45,46,47,48,49],\"y\":[0.6740587931923672,0.6740587931923672,0.7282104177411036,0.7282104177411036,0.7282104177411036,0.7282104177411036,0.7282104177411036,0.7282104177411036,0.7282104177411036,0.7591542031975245,0.7612171222279526,0.7643115007735947,0.7643115007735947,0.7643115007735947,0.7643115007735947,0.7643115007735947,0.7648272305312016,0.7710159876224858,0.7710159876224858,0.7710159876224858,0.7710159876224858,0.7710159876224858,0.7710159876224858,0.7710159876224858,0.7710159876224858,0.7710159876224858,0.7710159876224858,0.7710159876224858,0.7710159876224858,0.7710159876224858,0.7710159876224858,0.7710159876224858,0.7710159876224858,0.7710159876224858,0.7710159876224858,0.7710159876224858,0.7710159876224858,0.7710159876224858,0.7710159876224858,0.7710159876224858,0.7710159876224858,0.7710159876224858,0.7710159876224858,0.7710159876224858,0.7710159876224858,0.7710159876224858,0.7710159876224858,0.7710159876224858,0.7710159876224858,0.7710159876224858],\"type\":\"scatter\"}],                        {\"title\":{\"text\":\"Optimization History Plot\"},\"xaxis\":{\"title\":{\"text\":\"Trial\"}},\"yaxis\":{\"title\":{\"text\":\"Objective Value\"}},\"template\":{\"data\":{\"histogram2dcontour\":[{\"type\":\"histogram2dcontour\",\"colorbar\":{\"outlinewidth\":0,\"ticks\":\"\"},\"colorscale\":[[0.0,\"#0d0887\"],[0.1111111111111111,\"#46039f\"],[0.2222222222222222,\"#7201a8\"],[0.3333333333333333,\"#9c179e\"],[0.4444444444444444,\"#bd3786\"],[0.5555555555555556,\"#d8576b\"],[0.6666666666666666,\"#ed7953\"],[0.7777777777777778,\"#fb9f3a\"],[0.8888888888888888,\"#fdca26\"],[1.0,\"#f0f921\"]]}],\"choropleth\":[{\"type\":\"choropleth\",\"colorbar\":{\"outlinewidth\":0,\"ticks\":\"\"}}],\"histogram2d\":[{\"type\":\"histogram2d\",\"colorbar\":{\"outlinewidth\":0,\"ticks\":\"\"},\"colorscale\":[[0.0,\"#0d0887\"],[0.1111111111111111,\"#46039f\"],[0.2222222222222222,\"#7201a8\"],[0.3333333333333333,\"#9c179e\"],[0.4444444444444444,\"#bd3786\"],[0.5555555555555556,\"#d8576b\"],[0.6666666666666666,\"#ed7953\"],[0.7777777777777778,\"#fb9f3a\"],[0.8888888888888888,\"#fdca26\"],[1.0,\"#f0f921\"]]}],\"heatmap\":[{\"type\":\"heatmap\",\"colorbar\":{\"outlinewidth\":0,\"ticks\":\"\"},\"colorscale\":[[0.0,\"#0d0887\"],[0.1111111111111111,\"#46039f\"],[0.2222222222222222,\"#7201a8\"],[0.3333333333333333,\"#9c179e\"],[0.4444444444444444,\"#bd3786\"],[0.5555555555555556,\"#d8576b\"],[0.6666666666666666,\"#ed7953\"],[0.7777777777777778,\"#fb9f3a\"],[0.8888888888888888,\"#fdca26\"],[1.0,\"#f0f921\"]]}],\"heatmapgl\":[{\"type\":\"heatmapgl\",\"colorbar\":{\"outlinewidth\":0,\"ticks\":\"\"},\"colorscale\":[[0.0,\"#0d0887\"],[0.1111111111111111,\"#46039f\"],[0.2222222222222222,\"#7201a8\"],[0.3333333333333333,\"#9c179e\"],[0.4444444444444444,\"#bd3786\"],[0.5555555555555556,\"#d8576b\"],[0.6666666666666666,\"#ed7953\"],[0.7777777777777778,\"#fb9f3a\"],[0.8888888888888888,\"#fdca26\"],[1.0,\"#f0f921\"]]}],\"contourcarpet\":[{\"type\":\"contourcarpet\",\"colorbar\":{\"outlinewidth\":0,\"ticks\":\"\"}}],\"contour\":[{\"type\":\"contour\",\"colorbar\":{\"outlinewidth\":0,\"ticks\":\"\"},\"colorscale\":[[0.0,\"#0d0887\"],[0.1111111111111111,\"#46039f\"],[0.2222222222222222,\"#7201a8\"],[0.3333333333333333,\"#9c179e\"],[0.4444444444444444,\"#bd3786\"],[0.5555555555555556,\"#d8576b\"],[0.6666666666666666,\"#ed7953\"],[0.7777777777777778,\"#fb9f3a\"],[0.8888888888888888,\"#fdca26\"],[1.0,\"#f0f921\"]]}],\"surface\":[{\"type\":\"surface\",\"colorbar\":{\"outlinewidth\":0,\"ticks\":\"\"},\"colorscale\":[[0.0,\"#0d0887\"],[0.1111111111111111,\"#46039f\"],[0.2222222222222222,\"#7201a8\"],[0.3333333333333333,\"#9c179e\"],[0.4444444444444444,\"#bd3786\"],[0.5555555555555556,\"#d8576b\"],[0.6666666666666666,\"#ed7953\"],[0.7777777777777778,\"#fb9f3a\"],[0.8888888888888888,\"#fdca26\"],[1.0,\"#f0f921\"]]}],\"mesh3d\":[{\"type\":\"mesh3d\",\"colorbar\":{\"outlinewidth\":0,\"ticks\":\"\"}}],\"scatter\":[{\"fillpattern\":{\"fillmode\":\"overlay\",\"size\":10,\"solidity\":0.2},\"type\":\"scatter\"}],\"parcoords\":[{\"type\":\"parcoords\",\"line\":{\"colorbar\":{\"outlinewidth\":0,\"ticks\":\"\"}}}],\"scatterpolargl\":[{\"type\":\"scatterpolargl\",\"marker\":{\"colorbar\":{\"outlinewidth\":0,\"ticks\":\"\"}}}],\"bar\":[{\"error_x\":{\"color\":\"#2a3f5f\"},\"error_y\":{\"color\":\"#2a3f5f\"},\"marker\":{\"line\":{\"color\":\"#E5ECF6\",\"width\":0.5},\"pattern\":{\"fillmode\":\"overlay\",\"size\":10,\"solidity\":0.2}},\"type\":\"bar\"}],\"scattergeo\":[{\"type\":\"scattergeo\",\"marker\":{\"colorbar\":{\"outlinewidth\":0,\"ticks\":\"\"}}}],\"scatterpolar\":[{\"type\":\"scatterpolar\",\"marker\":{\"colorbar\":{\"outlinewidth\":0,\"ticks\":\"\"}}}],\"histogram\":[{\"marker\":{\"pattern\":{\"fillmode\":\"overlay\",\"size\":10,\"solidity\":0.2}},\"type\":\"histogram\"}],\"scattergl\":[{\"type\":\"scattergl\",\"marker\":{\"colorbar\":{\"outlinewidth\":0,\"ticks\":\"\"}}}],\"scatter3d\":[{\"type\":\"scatter3d\",\"line\":{\"colorbar\":{\"outlinewidth\":0,\"ticks\":\"\"}},\"marker\":{\"colorbar\":{\"outlinewidth\":0,\"ticks\":\"\"}}}],\"scattermapbox\":[{\"type\":\"scattermapbox\",\"marker\":{\"colorbar\":{\"outlinewidth\":0,\"ticks\":\"\"}}}],\"scatterternary\":[{\"type\":\"scatterternary\",\"marker\":{\"colorbar\":{\"outlinewidth\":0,\"ticks\":\"\"}}}],\"scattercarpet\":[{\"type\":\"scattercarpet\",\"marker\":{\"colorbar\":{\"outlinewidth\":0,\"ticks\":\"\"}}}],\"carpet\":[{\"aaxis\":{\"endlinecolor\":\"#2a3f5f\",\"gridcolor\":\"white\",\"linecolor\":\"white\",\"minorgridcolor\":\"white\",\"startlinecolor\":\"#2a3f5f\"},\"baxis\":{\"endlinecolor\":\"#2a3f5f\",\"gridcolor\":\"white\",\"linecolor\":\"white\",\"minorgridcolor\":\"white\",\"startlinecolor\":\"#2a3f5f\"},\"type\":\"carpet\"}],\"table\":[{\"cells\":{\"fill\":{\"color\":\"#EBF0F8\"},\"line\":{\"color\":\"white\"}},\"header\":{\"fill\":{\"color\":\"#C8D4E3\"},\"line\":{\"color\":\"white\"}},\"type\":\"table\"}],\"barpolar\":[{\"marker\":{\"line\":{\"color\":\"#E5ECF6\",\"width\":0.5},\"pattern\":{\"fillmode\":\"overlay\",\"size\":10,\"solidity\":0.2}},\"type\":\"barpolar\"}],\"pie\":[{\"automargin\":true,\"type\":\"pie\"}]},\"layout\":{\"autotypenumbers\":\"strict\",\"colorway\":[\"#636efa\",\"#EF553B\",\"#00cc96\",\"#ab63fa\",\"#FFA15A\",\"#19d3f3\",\"#FF6692\",\"#B6E880\",\"#FF97FF\",\"#FECB52\"],\"font\":{\"color\":\"#2a3f5f\"},\"hovermode\":\"closest\",\"hoverlabel\":{\"align\":\"left\"},\"paper_bgcolor\":\"white\",\"plot_bgcolor\":\"#E5ECF6\",\"polar\":{\"bgcolor\":\"#E5ECF6\",\"angularaxis\":{\"gridcolor\":\"white\",\"linecolor\":\"white\",\"ticks\":\"\"},\"radialaxis\":{\"gridcolor\":\"white\",\"linecolor\":\"white\",\"ticks\":\"\"}},\"ternary\":{\"bgcolor\":\"#E5ECF6\",\"aaxis\":{\"gridcolor\":\"white\",\"linecolor\":\"white\",\"ticks\":\"\"},\"baxis\":{\"gridcolor\":\"white\",\"linecolor\":\"white\",\"ticks\":\"\"},\"caxis\":{\"gridcolor\":\"white\",\"linecolor\":\"white\",\"ticks\":\"\"}},\"coloraxis\":{\"colorbar\":{\"outlinewidth\":0,\"ticks\":\"\"}},\"colorscale\":{\"sequential\":[[0.0,\"#0d0887\"],[0.1111111111111111,\"#46039f\"],[0.2222222222222222,\"#7201a8\"],[0.3333333333333333,\"#9c179e\"],[0.4444444444444444,\"#bd3786\"],[0.5555555555555556,\"#d8576b\"],[0.6666666666666666,\"#ed7953\"],[0.7777777777777778,\"#fb9f3a\"],[0.8888888888888888,\"#fdca26\"],[1.0,\"#f0f921\"]],\"sequentialminus\":[[0.0,\"#0d0887\"],[0.1111111111111111,\"#46039f\"],[0.2222222222222222,\"#7201a8\"],[0.3333333333333333,\"#9c179e\"],[0.4444444444444444,\"#bd3786\"],[0.5555555555555556,\"#d8576b\"],[0.6666666666666666,\"#ed7953\"],[0.7777777777777778,\"#fb9f3a\"],[0.8888888888888888,\"#fdca26\"],[1.0,\"#f0f921\"]],\"diverging\":[[0,\"#8e0152\"],[0.1,\"#c51b7d\"],[0.2,\"#de77ae\"],[0.3,\"#f1b6da\"],[0.4,\"#fde0ef\"],[0.5,\"#f7f7f7\"],[0.6,\"#e6f5d0\"],[0.7,\"#b8e186\"],[0.8,\"#7fbc41\"],[0.9,\"#4d9221\"],[1,\"#276419\"]]},\"xaxis\":{\"gridcolor\":\"white\",\"linecolor\":\"white\",\"ticks\":\"\",\"title\":{\"standoff\":15},\"zerolinecolor\":\"white\",\"automargin\":true,\"zerolinewidth\":2},\"yaxis\":{\"gridcolor\":\"white\",\"linecolor\":\"white\",\"ticks\":\"\",\"title\":{\"standoff\":15},\"zerolinecolor\":\"white\",\"automargin\":true,\"zerolinewidth\":2},\"scene\":{\"xaxis\":{\"backgroundcolor\":\"#E5ECF6\",\"gridcolor\":\"white\",\"linecolor\":\"white\",\"showbackground\":true,\"ticks\":\"\",\"zerolinecolor\":\"white\",\"gridwidth\":2},\"yaxis\":{\"backgroundcolor\":\"#E5ECF6\",\"gridcolor\":\"white\",\"linecolor\":\"white\",\"showbackground\":true,\"ticks\":\"\",\"zerolinecolor\":\"white\",\"gridwidth\":2},\"zaxis\":{\"backgroundcolor\":\"#E5ECF6\",\"gridcolor\":\"white\",\"linecolor\":\"white\",\"showbackground\":true,\"ticks\":\"\",\"zerolinecolor\":\"white\",\"gridwidth\":2}},\"shapedefaults\":{\"line\":{\"color\":\"#2a3f5f\"}},\"annotationdefaults\":{\"arrowcolor\":\"#2a3f5f\",\"arrowhead\":0,\"arrowwidth\":1},\"geo\":{\"bgcolor\":\"white\",\"landcolor\":\"#E5ECF6\",\"subunitcolor\":\"white\",\"showland\":true,\"showlakes\":true,\"lakecolor\":\"white\"},\"title\":{\"x\":0.05},\"mapbox\":{\"style\":\"light\"}}}},                        {\"responsive\": true}                    ).then(function(){\n",
       "                            \n",
       "var gd = document.getElementById('d32ccdef-8ca4-4a53-a02a-148ad066e540');\n",
       "var x = new MutationObserver(function (mutations, observer) {{\n",
       "        var display = window.getComputedStyle(gd).display;\n",
       "        if (!display || display === 'none') {{\n",
       "            console.log([gd, 'removed!']);\n",
       "            Plotly.purge(gd);\n",
       "            observer.disconnect();\n",
       "        }}\n",
       "}});\n",
       "\n",
       "// Listen for the removal of the full notebook cells\n",
       "var notebookContainer = gd.closest('#notebook-container');\n",
       "if (notebookContainer) {{\n",
       "    x.observe(notebookContainer, {childList: true});\n",
       "}}\n",
       "\n",
       "// Listen for the clearing of the current output cell\n",
       "var outputEl = gd.closest('.output');\n",
       "if (outputEl) {{\n",
       "    x.observe(outputEl, {childList: true});\n",
       "}}\n",
       "\n",
       "                        })                };                });            </script>        </div>"
      ]
     },
     "metadata": {},
     "output_type": "display_data"
    },
    {
     "name": "stdout",
     "output_type": "stream",
     "text": [
      "-----------------------------\n",
      "\n"
     ]
    }
   ],
   "source": [
    "optimize_parameters('RF', 50)"
   ]
  },
  {
   "cell_type": "code",
   "execution_count": 80,
   "metadata": {},
   "outputs": [
    {
     "name": "stderr",
     "output_type": "stream",
     "text": [
      "[I 2024-01-29 18:44:51,599] A new study created in memory with name: no-name-dd4637ef-1301-46bd-8452-830cf5ea6a7d\n"
     ]
    },
    {
     "name": "stderr",
     "output_type": "stream",
     "text": [
      "[I 2024-01-29 18:44:54,121] Trial 0 finished with value: 0.7534811758638473 and parameters: {'cb_iterations': 86, 'cb_learning_rate': 0.398662082312121, 'cb_depth': 1}. Best is trial 0 with value: 0.7534811758638473.\n",
      "[W 2024-01-29 18:46:26,553] Trial 1 failed with parameters: {'cb_iterations': 84, 'cb_learning_rate': 0.36603405152228957, 'cb_depth': 9} because of the following error: KeyboardInterrupt('').\n",
      "Traceback (most recent call last):\n",
      "  File \"/home/alex/.local/lib/python3.8/site-packages/optuna/study/_optimize.py\", line 200, in _run_trial\n",
      "    value_or_values = func(trial)\n",
      "  File \"/tmp/ipykernel_7668/257660863.py\", line 25, in objective\n",
      "    classifier.fit(X_train_tfidf, y_train)\n",
      "  File \"/home/alex/.local/lib/python3.8/site-packages/catboost/core.py\", line 5100, in fit\n",
      "    self._fit(X, y, cat_features, text_features, embedding_features, None, sample_weight, None, None, None, None, baseline, use_best_model,\n",
      "  File \"/home/alex/.local/lib/python3.8/site-packages/catboost/core.py\", line 2319, in _fit\n",
      "    self._train(\n",
      "  File \"/home/alex/.local/lib/python3.8/site-packages/catboost/core.py\", line 1723, in _train\n",
      "    self._object._train(train_pool, test_pool, params, allow_clear_pool, init_model._object if init_model else None)\n",
      "  File \"_catboost.pyx\", line 4645, in _catboost._CatBoost._train\n",
      "  File \"_catboost.pyx\", line 4694, in _catboost._CatBoost._train\n",
      "KeyboardInterrupt\n",
      "[W 2024-01-29 18:46:26,553] Trial 1 failed with value None.\n"
     ]
    },
    {
     "ename": "KeyboardInterrupt",
     "evalue": "",
     "output_type": "error",
     "traceback": [
      "\u001b[0;31m---------------------------------------------------------------------------\u001b[0m",
      "\u001b[0;31mKeyboardInterrupt\u001b[0m                         Traceback (most recent call last)",
      "Cell \u001b[0;32mIn[80], line 1\u001b[0m\n\u001b[0;32m----> 1\u001b[0m \u001b[43moptimize_parameters\u001b[49m\u001b[43m(\u001b[49m\u001b[38;5;124;43m'\u001b[39;49m\u001b[38;5;124;43mCatBoost\u001b[39;49m\u001b[38;5;124;43m'\u001b[39;49m\u001b[43m,\u001b[49m\u001b[43m \u001b[49m\u001b[38;5;241;43m10\u001b[39;49m\u001b[43m)\u001b[49m\n",
      "Cell \u001b[0;32mIn[74], line 32\u001b[0m, in \u001b[0;36moptimize_parameters\u001b[0;34m(model_name, n_trials)\u001b[0m\n\u001b[1;32m     29\u001b[0m     \u001b[38;5;28;01mreturn\u001b[39;00m acc\n\u001b[1;32m     31\u001b[0m study \u001b[38;5;241m=\u001b[39m optuna\u001b[38;5;241m.\u001b[39mcreate_study(direction\u001b[38;5;241m=\u001b[39m\u001b[38;5;124m'\u001b[39m\u001b[38;5;124mmaximize\u001b[39m\u001b[38;5;124m'\u001b[39m)\n\u001b[0;32m---> 32\u001b[0m \u001b[43mstudy\u001b[49m\u001b[38;5;241;43m.\u001b[39;49m\u001b[43moptimize\u001b[49m\u001b[43m(\u001b[49m\u001b[43mobjective\u001b[49m\u001b[43m,\u001b[49m\u001b[43m \u001b[49m\u001b[43mn_trials\u001b[49m\u001b[38;5;241;43m=\u001b[39;49m\u001b[43mn_trials\u001b[49m\u001b[43m)\u001b[49m\n\u001b[1;32m     33\u001b[0m \u001b[38;5;28mprint\u001b[39m(model_name \u001b[38;5;241m+\u001b[39m \u001b[38;5;124m'\u001b[39m\u001b[38;5;124m:\u001b[39m\u001b[38;5;124m'\u001b[39m)\n\u001b[1;32m     34\u001b[0m \u001b[38;5;28mprint\u001b[39m(\u001b[38;5;124m\"\u001b[39m\u001b[38;5;124mBest accuracy:\u001b[39m\u001b[38;5;124m\"\u001b[39m, study\u001b[38;5;241m.\u001b[39mbest_trial\u001b[38;5;241m.\u001b[39mvalue)\n",
      "File \u001b[0;32m~/.local/lib/python3.8/site-packages/optuna/study/study.py:443\u001b[0m, in \u001b[0;36mStudy.optimize\u001b[0;34m(self, func, n_trials, timeout, n_jobs, catch, callbacks, gc_after_trial, show_progress_bar)\u001b[0m\n\u001b[1;32m    339\u001b[0m \u001b[38;5;28;01mdef\u001b[39;00m \u001b[38;5;21moptimize\u001b[39m(\n\u001b[1;32m    340\u001b[0m     \u001b[38;5;28mself\u001b[39m,\n\u001b[1;32m    341\u001b[0m     func: ObjectiveFuncType,\n\u001b[0;32m   (...)\u001b[0m\n\u001b[1;32m    348\u001b[0m     show_progress_bar: \u001b[38;5;28mbool\u001b[39m \u001b[38;5;241m=\u001b[39m \u001b[38;5;28;01mFalse\u001b[39;00m,\n\u001b[1;32m    349\u001b[0m ) \u001b[38;5;241m-\u001b[39m\u001b[38;5;241m>\u001b[39m \u001b[38;5;28;01mNone\u001b[39;00m:\n\u001b[1;32m    350\u001b[0m \u001b[38;5;250m    \u001b[39m\u001b[38;5;124;03m\"\"\"Optimize an objective function.\u001b[39;00m\n\u001b[1;32m    351\u001b[0m \n\u001b[1;32m    352\u001b[0m \u001b[38;5;124;03m    Optimization is done by choosing a suitable set of hyperparameter values from a given\u001b[39;00m\n\u001b[0;32m   (...)\u001b[0m\n\u001b[1;32m    440\u001b[0m \u001b[38;5;124;03m            If nested invocation of this method occurs.\u001b[39;00m\n\u001b[1;32m    441\u001b[0m \u001b[38;5;124;03m    \"\"\"\u001b[39;00m\n\u001b[0;32m--> 443\u001b[0m     \u001b[43m_optimize\u001b[49m\u001b[43m(\u001b[49m\n\u001b[1;32m    444\u001b[0m \u001b[43m        \u001b[49m\u001b[43mstudy\u001b[49m\u001b[38;5;241;43m=\u001b[39;49m\u001b[38;5;28;43mself\u001b[39;49m\u001b[43m,\u001b[49m\n\u001b[1;32m    445\u001b[0m \u001b[43m        \u001b[49m\u001b[43mfunc\u001b[49m\u001b[38;5;241;43m=\u001b[39;49m\u001b[43mfunc\u001b[49m\u001b[43m,\u001b[49m\n\u001b[1;32m    446\u001b[0m \u001b[43m        \u001b[49m\u001b[43mn_trials\u001b[49m\u001b[38;5;241;43m=\u001b[39;49m\u001b[43mn_trials\u001b[49m\u001b[43m,\u001b[49m\n\u001b[1;32m    447\u001b[0m \u001b[43m        \u001b[49m\u001b[43mtimeout\u001b[49m\u001b[38;5;241;43m=\u001b[39;49m\u001b[43mtimeout\u001b[49m\u001b[43m,\u001b[49m\n\u001b[1;32m    448\u001b[0m \u001b[43m        \u001b[49m\u001b[43mn_jobs\u001b[49m\u001b[38;5;241;43m=\u001b[39;49m\u001b[43mn_jobs\u001b[49m\u001b[43m,\u001b[49m\n\u001b[1;32m    449\u001b[0m \u001b[43m        \u001b[49m\u001b[43mcatch\u001b[49m\u001b[38;5;241;43m=\u001b[39;49m\u001b[38;5;28;43mtuple\u001b[39;49m\u001b[43m(\u001b[49m\u001b[43mcatch\u001b[49m\u001b[43m)\u001b[49m\u001b[43m \u001b[49m\u001b[38;5;28;43;01mif\u001b[39;49;00m\u001b[43m \u001b[49m\u001b[38;5;28;43misinstance\u001b[39;49m\u001b[43m(\u001b[49m\u001b[43mcatch\u001b[49m\u001b[43m,\u001b[49m\u001b[43m \u001b[49m\u001b[43mIterable\u001b[49m\u001b[43m)\u001b[49m\u001b[43m \u001b[49m\u001b[38;5;28;43;01melse\u001b[39;49;00m\u001b[43m \u001b[49m\u001b[43m(\u001b[49m\u001b[43mcatch\u001b[49m\u001b[43m,\u001b[49m\u001b[43m)\u001b[49m\u001b[43m,\u001b[49m\n\u001b[1;32m    450\u001b[0m \u001b[43m        \u001b[49m\u001b[43mcallbacks\u001b[49m\u001b[38;5;241;43m=\u001b[39;49m\u001b[43mcallbacks\u001b[49m\u001b[43m,\u001b[49m\n\u001b[1;32m    451\u001b[0m \u001b[43m        \u001b[49m\u001b[43mgc_after_trial\u001b[49m\u001b[38;5;241;43m=\u001b[39;49m\u001b[43mgc_after_trial\u001b[49m\u001b[43m,\u001b[49m\n\u001b[1;32m    452\u001b[0m \u001b[43m        \u001b[49m\u001b[43mshow_progress_bar\u001b[49m\u001b[38;5;241;43m=\u001b[39;49m\u001b[43mshow_progress_bar\u001b[49m\u001b[43m,\u001b[49m\n\u001b[1;32m    453\u001b[0m \u001b[43m    \u001b[49m\u001b[43m)\u001b[49m\n",
      "File \u001b[0;32m~/.local/lib/python3.8/site-packages/optuna/study/_optimize.py:66\u001b[0m, in \u001b[0;36m_optimize\u001b[0;34m(study, func, n_trials, timeout, n_jobs, catch, callbacks, gc_after_trial, show_progress_bar)\u001b[0m\n\u001b[1;32m     64\u001b[0m \u001b[38;5;28;01mtry\u001b[39;00m:\n\u001b[1;32m     65\u001b[0m     \u001b[38;5;28;01mif\u001b[39;00m n_jobs \u001b[38;5;241m==\u001b[39m \u001b[38;5;241m1\u001b[39m:\n\u001b[0;32m---> 66\u001b[0m         \u001b[43m_optimize_sequential\u001b[49m\u001b[43m(\u001b[49m\n\u001b[1;32m     67\u001b[0m \u001b[43m            \u001b[49m\u001b[43mstudy\u001b[49m\u001b[43m,\u001b[49m\n\u001b[1;32m     68\u001b[0m \u001b[43m            \u001b[49m\u001b[43mfunc\u001b[49m\u001b[43m,\u001b[49m\n\u001b[1;32m     69\u001b[0m \u001b[43m            \u001b[49m\u001b[43mn_trials\u001b[49m\u001b[43m,\u001b[49m\n\u001b[1;32m     70\u001b[0m \u001b[43m            \u001b[49m\u001b[43mtimeout\u001b[49m\u001b[43m,\u001b[49m\n\u001b[1;32m     71\u001b[0m \u001b[43m            \u001b[49m\u001b[43mcatch\u001b[49m\u001b[43m,\u001b[49m\n\u001b[1;32m     72\u001b[0m \u001b[43m            \u001b[49m\u001b[43mcallbacks\u001b[49m\u001b[43m,\u001b[49m\n\u001b[1;32m     73\u001b[0m \u001b[43m            \u001b[49m\u001b[43mgc_after_trial\u001b[49m\u001b[43m,\u001b[49m\n\u001b[1;32m     74\u001b[0m \u001b[43m            \u001b[49m\u001b[43mreseed_sampler_rng\u001b[49m\u001b[38;5;241;43m=\u001b[39;49m\u001b[38;5;28;43;01mFalse\u001b[39;49;00m\u001b[43m,\u001b[49m\n\u001b[1;32m     75\u001b[0m \u001b[43m            \u001b[49m\u001b[43mtime_start\u001b[49m\u001b[38;5;241;43m=\u001b[39;49m\u001b[38;5;28;43;01mNone\u001b[39;49;00m\u001b[43m,\u001b[49m\n\u001b[1;32m     76\u001b[0m \u001b[43m            \u001b[49m\u001b[43mprogress_bar\u001b[49m\u001b[38;5;241;43m=\u001b[39;49m\u001b[43mprogress_bar\u001b[49m\u001b[43m,\u001b[49m\n\u001b[1;32m     77\u001b[0m \u001b[43m        \u001b[49m\u001b[43m)\u001b[49m\n\u001b[1;32m     78\u001b[0m     \u001b[38;5;28;01melse\u001b[39;00m:\n\u001b[1;32m     79\u001b[0m         \u001b[38;5;28;01mif\u001b[39;00m n_jobs \u001b[38;5;241m==\u001b[39m \u001b[38;5;241m-\u001b[39m\u001b[38;5;241m1\u001b[39m:\n",
      "File \u001b[0;32m~/.local/lib/python3.8/site-packages/optuna/study/_optimize.py:163\u001b[0m, in \u001b[0;36m_optimize_sequential\u001b[0;34m(study, func, n_trials, timeout, catch, callbacks, gc_after_trial, reseed_sampler_rng, time_start, progress_bar)\u001b[0m\n\u001b[1;32m    160\u001b[0m         \u001b[38;5;28;01mbreak\u001b[39;00m\n\u001b[1;32m    162\u001b[0m \u001b[38;5;28;01mtry\u001b[39;00m:\n\u001b[0;32m--> 163\u001b[0m     frozen_trial \u001b[38;5;241m=\u001b[39m \u001b[43m_run_trial\u001b[49m\u001b[43m(\u001b[49m\u001b[43mstudy\u001b[49m\u001b[43m,\u001b[49m\u001b[43m \u001b[49m\u001b[43mfunc\u001b[49m\u001b[43m,\u001b[49m\u001b[43m \u001b[49m\u001b[43mcatch\u001b[49m\u001b[43m)\u001b[49m\n\u001b[1;32m    164\u001b[0m \u001b[38;5;28;01mfinally\u001b[39;00m:\n\u001b[1;32m    165\u001b[0m     \u001b[38;5;66;03m# The following line mitigates memory problems that can be occurred in some\u001b[39;00m\n\u001b[1;32m    166\u001b[0m     \u001b[38;5;66;03m# environments (e.g., services that use computing containers such as GitHub Actions).\u001b[39;00m\n\u001b[1;32m    167\u001b[0m     \u001b[38;5;66;03m# Please refer to the following PR for further details:\u001b[39;00m\n\u001b[1;32m    168\u001b[0m     \u001b[38;5;66;03m# https://github.com/optuna/optuna/pull/325.\u001b[39;00m\n\u001b[1;32m    169\u001b[0m     \u001b[38;5;28;01mif\u001b[39;00m gc_after_trial:\n",
      "File \u001b[0;32m~/.local/lib/python3.8/site-packages/optuna/study/_optimize.py:251\u001b[0m, in \u001b[0;36m_run_trial\u001b[0;34m(study, func, catch)\u001b[0m\n\u001b[1;32m    244\u001b[0m         \u001b[38;5;28;01massert\u001b[39;00m \u001b[38;5;28;01mFalse\u001b[39;00m, \u001b[38;5;124m\"\u001b[39m\u001b[38;5;124mShould not reach.\u001b[39m\u001b[38;5;124m\"\u001b[39m\n\u001b[1;32m    246\u001b[0m \u001b[38;5;28;01mif\u001b[39;00m (\n\u001b[1;32m    247\u001b[0m     frozen_trial\u001b[38;5;241m.\u001b[39mstate \u001b[38;5;241m==\u001b[39m TrialState\u001b[38;5;241m.\u001b[39mFAIL\n\u001b[1;32m    248\u001b[0m     \u001b[38;5;129;01mand\u001b[39;00m func_err \u001b[38;5;129;01mis\u001b[39;00m \u001b[38;5;129;01mnot\u001b[39;00m \u001b[38;5;28;01mNone\u001b[39;00m\n\u001b[1;32m    249\u001b[0m     \u001b[38;5;129;01mand\u001b[39;00m \u001b[38;5;129;01mnot\u001b[39;00m \u001b[38;5;28misinstance\u001b[39m(func_err, catch)\n\u001b[1;32m    250\u001b[0m ):\n\u001b[0;32m--> 251\u001b[0m     \u001b[38;5;28;01mraise\u001b[39;00m func_err\n\u001b[1;32m    252\u001b[0m \u001b[38;5;28;01mreturn\u001b[39;00m frozen_trial\n",
      "File \u001b[0;32m~/.local/lib/python3.8/site-packages/optuna/study/_optimize.py:200\u001b[0m, in \u001b[0;36m_run_trial\u001b[0;34m(study, func, catch)\u001b[0m\n\u001b[1;32m    198\u001b[0m \u001b[38;5;28;01mwith\u001b[39;00m get_heartbeat_thread(trial\u001b[38;5;241m.\u001b[39m_trial_id, study\u001b[38;5;241m.\u001b[39m_storage):\n\u001b[1;32m    199\u001b[0m     \u001b[38;5;28;01mtry\u001b[39;00m:\n\u001b[0;32m--> 200\u001b[0m         value_or_values \u001b[38;5;241m=\u001b[39m \u001b[43mfunc\u001b[49m\u001b[43m(\u001b[49m\u001b[43mtrial\u001b[49m\u001b[43m)\u001b[49m\n\u001b[1;32m    201\u001b[0m     \u001b[38;5;28;01mexcept\u001b[39;00m exceptions\u001b[38;5;241m.\u001b[39mTrialPruned \u001b[38;5;28;01mas\u001b[39;00m e:\n\u001b[1;32m    202\u001b[0m         \u001b[38;5;66;03m# TODO(mamu): Handle multi-objective cases.\u001b[39;00m\n\u001b[1;32m    203\u001b[0m         state \u001b[38;5;241m=\u001b[39m TrialState\u001b[38;5;241m.\u001b[39mPRUNED\n",
      "Cell \u001b[0;32mIn[74], line 25\u001b[0m, in \u001b[0;36moptimize_parameters.<locals>.objective\u001b[0;34m(trial)\u001b[0m\n\u001b[1;32m     22\u001b[0m     knn_n_neighbors \u001b[38;5;241m=\u001b[39m trial\u001b[38;5;241m.\u001b[39msuggest_int(\u001b[38;5;124m\"\u001b[39m\u001b[38;5;124mknn_n_neighbors\u001b[39m\u001b[38;5;124m\"\u001b[39m, \u001b[38;5;241m2\u001b[39m, \u001b[38;5;241m30\u001b[39m, log\u001b[38;5;241m=\u001b[39m\u001b[38;5;28;01mTrue\u001b[39;00m)\n\u001b[1;32m     23\u001b[0m     classifier \u001b[38;5;241m=\u001b[39m KNeighborsClassifier(n_neighbors\u001b[38;5;241m=\u001b[39mknn_n_neighbors)\n\u001b[0;32m---> 25\u001b[0m \u001b[43mclassifier\u001b[49m\u001b[38;5;241;43m.\u001b[39;49m\u001b[43mfit\u001b[49m\u001b[43m(\u001b[49m\u001b[43mX_train_tfidf\u001b[49m\u001b[43m,\u001b[49m\u001b[43m \u001b[49m\u001b[43my_train\u001b[49m\u001b[43m)\u001b[49m\n\u001b[1;32m     26\u001b[0m y_pred \u001b[38;5;241m=\u001b[39m classifier\u001b[38;5;241m.\u001b[39mpredict(X_test_tfidf)\n\u001b[1;32m     27\u001b[0m acc \u001b[38;5;241m=\u001b[39m accuracy_score(y_test, y_pred)\n",
      "File \u001b[0;32m~/.local/lib/python3.8/site-packages/catboost/core.py:5100\u001b[0m, in \u001b[0;36mCatBoostClassifier.fit\u001b[0;34m(self, X, y, cat_features, text_features, embedding_features, sample_weight, baseline, use_best_model, eval_set, verbose, logging_level, plot, plot_file, column_description, verbose_eval, metric_period, silent, early_stopping_rounds, save_snapshot, snapshot_file, snapshot_interval, init_model, callbacks, log_cout, log_cerr)\u001b[0m\n\u001b[1;32m   5097\u001b[0m \u001b[38;5;28;01mif\u001b[39;00m \u001b[38;5;124m'\u001b[39m\u001b[38;5;124mloss_function\u001b[39m\u001b[38;5;124m'\u001b[39m \u001b[38;5;129;01min\u001b[39;00m params:\n\u001b[1;32m   5098\u001b[0m     CatBoostClassifier\u001b[38;5;241m.\u001b[39m_check_is_compatible_loss(params[\u001b[38;5;124m'\u001b[39m\u001b[38;5;124mloss_function\u001b[39m\u001b[38;5;124m'\u001b[39m])\n\u001b[0;32m-> 5100\u001b[0m \u001b[38;5;28;43mself\u001b[39;49m\u001b[38;5;241;43m.\u001b[39;49m\u001b[43m_fit\u001b[49m\u001b[43m(\u001b[49m\u001b[43mX\u001b[49m\u001b[43m,\u001b[49m\u001b[43m \u001b[49m\u001b[43my\u001b[49m\u001b[43m,\u001b[49m\u001b[43m \u001b[49m\u001b[43mcat_features\u001b[49m\u001b[43m,\u001b[49m\u001b[43m \u001b[49m\u001b[43mtext_features\u001b[49m\u001b[43m,\u001b[49m\u001b[43m \u001b[49m\u001b[43membedding_features\u001b[49m\u001b[43m,\u001b[49m\u001b[43m \u001b[49m\u001b[38;5;28;43;01mNone\u001b[39;49;00m\u001b[43m,\u001b[49m\u001b[43m \u001b[49m\u001b[43msample_weight\u001b[49m\u001b[43m,\u001b[49m\u001b[43m \u001b[49m\u001b[38;5;28;43;01mNone\u001b[39;49;00m\u001b[43m,\u001b[49m\u001b[43m \u001b[49m\u001b[38;5;28;43;01mNone\u001b[39;49;00m\u001b[43m,\u001b[49m\u001b[43m \u001b[49m\u001b[38;5;28;43;01mNone\u001b[39;49;00m\u001b[43m,\u001b[49m\u001b[43m \u001b[49m\u001b[38;5;28;43;01mNone\u001b[39;49;00m\u001b[43m,\u001b[49m\u001b[43m \u001b[49m\u001b[43mbaseline\u001b[49m\u001b[43m,\u001b[49m\u001b[43m \u001b[49m\u001b[43muse_best_model\u001b[49m\u001b[43m,\u001b[49m\n\u001b[1;32m   5101\u001b[0m \u001b[43m          \u001b[49m\u001b[43meval_set\u001b[49m\u001b[43m,\u001b[49m\u001b[43m \u001b[49m\u001b[43mverbose\u001b[49m\u001b[43m,\u001b[49m\u001b[43m \u001b[49m\u001b[43mlogging_level\u001b[49m\u001b[43m,\u001b[49m\u001b[43m \u001b[49m\u001b[43mplot\u001b[49m\u001b[43m,\u001b[49m\u001b[43m \u001b[49m\u001b[43mplot_file\u001b[49m\u001b[43m,\u001b[49m\u001b[43m \u001b[49m\u001b[43mcolumn_description\u001b[49m\u001b[43m,\u001b[49m\u001b[43m \u001b[49m\u001b[43mverbose_eval\u001b[49m\u001b[43m,\u001b[49m\u001b[43m \u001b[49m\u001b[43mmetric_period\u001b[49m\u001b[43m,\u001b[49m\n\u001b[1;32m   5102\u001b[0m \u001b[43m          \u001b[49m\u001b[43msilent\u001b[49m\u001b[43m,\u001b[49m\u001b[43m \u001b[49m\u001b[43mearly_stopping_rounds\u001b[49m\u001b[43m,\u001b[49m\u001b[43m \u001b[49m\u001b[43msave_snapshot\u001b[49m\u001b[43m,\u001b[49m\u001b[43m \u001b[49m\u001b[43msnapshot_file\u001b[49m\u001b[43m,\u001b[49m\u001b[43m \u001b[49m\u001b[43msnapshot_interval\u001b[49m\u001b[43m,\u001b[49m\u001b[43m \u001b[49m\u001b[43minit_model\u001b[49m\u001b[43m,\u001b[49m\u001b[43m \u001b[49m\u001b[43mcallbacks\u001b[49m\u001b[43m,\u001b[49m\u001b[43m \u001b[49m\u001b[43mlog_cout\u001b[49m\u001b[43m,\u001b[49m\u001b[43m \u001b[49m\u001b[43mlog_cerr\u001b[49m\u001b[43m)\u001b[49m\n\u001b[1;32m   5103\u001b[0m \u001b[38;5;28;01mreturn\u001b[39;00m \u001b[38;5;28mself\u001b[39m\n",
      "File \u001b[0;32m~/.local/lib/python3.8/site-packages/catboost/core.py:2319\u001b[0m, in \u001b[0;36mCatBoost._fit\u001b[0;34m(self, X, y, cat_features, text_features, embedding_features, pairs, sample_weight, group_id, group_weight, subgroup_id, pairs_weight, baseline, use_best_model, eval_set, verbose, logging_level, plot, plot_file, column_description, verbose_eval, metric_period, silent, early_stopping_rounds, save_snapshot, snapshot_file, snapshot_interval, init_model, callbacks, log_cout, log_cerr)\u001b[0m\n\u001b[1;32m   2315\u001b[0m allow_clear_pool \u001b[38;5;241m=\u001b[39m train_params[\u001b[38;5;124m\"\u001b[39m\u001b[38;5;124mallow_clear_pool\u001b[39m\u001b[38;5;124m\"\u001b[39m]\n\u001b[1;32m   2317\u001b[0m \u001b[38;5;28;01mwith\u001b[39;00m log_fixup(log_cout, log_cerr), \\\n\u001b[1;32m   2318\u001b[0m     plot_wrapper(plot, plot_file, \u001b[38;5;124m'\u001b[39m\u001b[38;5;124mTraining plots\u001b[39m\u001b[38;5;124m'\u001b[39m, [_get_train_dir(\u001b[38;5;28mself\u001b[39m\u001b[38;5;241m.\u001b[39mget_params())]):\n\u001b[0;32m-> 2319\u001b[0m     \u001b[38;5;28;43mself\u001b[39;49m\u001b[38;5;241;43m.\u001b[39;49m\u001b[43m_train\u001b[49m\u001b[43m(\u001b[49m\n\u001b[1;32m   2320\u001b[0m \u001b[43m        \u001b[49m\u001b[43mtrain_pool\u001b[49m\u001b[43m,\u001b[49m\n\u001b[1;32m   2321\u001b[0m \u001b[43m        \u001b[49m\u001b[43mtrain_params\u001b[49m\u001b[43m[\u001b[49m\u001b[38;5;124;43m\"\u001b[39;49m\u001b[38;5;124;43meval_sets\u001b[39;49m\u001b[38;5;124;43m\"\u001b[39;49m\u001b[43m]\u001b[49m\u001b[43m,\u001b[49m\n\u001b[1;32m   2322\u001b[0m \u001b[43m        \u001b[49m\u001b[43mparams\u001b[49m\u001b[43m,\u001b[49m\n\u001b[1;32m   2323\u001b[0m \u001b[43m        \u001b[49m\u001b[43mallow_clear_pool\u001b[49m\u001b[43m,\u001b[49m\n\u001b[1;32m   2324\u001b[0m \u001b[43m        \u001b[49m\u001b[43mtrain_params\u001b[49m\u001b[43m[\u001b[49m\u001b[38;5;124;43m\"\u001b[39;49m\u001b[38;5;124;43minit_model\u001b[39;49m\u001b[38;5;124;43m\"\u001b[39;49m\u001b[43m]\u001b[49m\n\u001b[1;32m   2325\u001b[0m \u001b[43m    \u001b[49m\u001b[43m)\u001b[49m\n\u001b[1;32m   2327\u001b[0m \u001b[38;5;66;03m# Have property feature_importance possibly set\u001b[39;00m\n\u001b[1;32m   2328\u001b[0m loss \u001b[38;5;241m=\u001b[39m \u001b[38;5;28mself\u001b[39m\u001b[38;5;241m.\u001b[39m_object\u001b[38;5;241m.\u001b[39m_get_loss_function_name()\n",
      "File \u001b[0;32m~/.local/lib/python3.8/site-packages/catboost/core.py:1723\u001b[0m, in \u001b[0;36m_CatBoostBase._train\u001b[0;34m(self, train_pool, test_pool, params, allow_clear_pool, init_model)\u001b[0m\n\u001b[1;32m   1722\u001b[0m \u001b[38;5;28;01mdef\u001b[39;00m \u001b[38;5;21m_train\u001b[39m(\u001b[38;5;28mself\u001b[39m, train_pool, test_pool, params, allow_clear_pool, init_model):\n\u001b[0;32m-> 1723\u001b[0m     \u001b[38;5;28;43mself\u001b[39;49m\u001b[38;5;241;43m.\u001b[39;49m\u001b[43m_object\u001b[49m\u001b[38;5;241;43m.\u001b[39;49m\u001b[43m_train\u001b[49m\u001b[43m(\u001b[49m\u001b[43mtrain_pool\u001b[49m\u001b[43m,\u001b[49m\u001b[43m \u001b[49m\u001b[43mtest_pool\u001b[49m\u001b[43m,\u001b[49m\u001b[43m \u001b[49m\u001b[43mparams\u001b[49m\u001b[43m,\u001b[49m\u001b[43m \u001b[49m\u001b[43mallow_clear_pool\u001b[49m\u001b[43m,\u001b[49m\u001b[43m \u001b[49m\u001b[43minit_model\u001b[49m\u001b[38;5;241;43m.\u001b[39;49m\u001b[43m_object\u001b[49m\u001b[43m \u001b[49m\u001b[38;5;28;43;01mif\u001b[39;49;00m\u001b[43m \u001b[49m\u001b[43minit_model\u001b[49m\u001b[43m \u001b[49m\u001b[38;5;28;43;01melse\u001b[39;49;00m\u001b[43m \u001b[49m\u001b[38;5;28;43;01mNone\u001b[39;49;00m\u001b[43m)\u001b[49m\n\u001b[1;32m   1724\u001b[0m     \u001b[38;5;28mself\u001b[39m\u001b[38;5;241m.\u001b[39m_set_trained_model_attributes()\n",
      "File \u001b[0;32m_catboost.pyx:4645\u001b[0m, in \u001b[0;36m_catboost._CatBoost._train\u001b[0;34m()\u001b[0m\n",
      "File \u001b[0;32m_catboost.pyx:4694\u001b[0m, in \u001b[0;36m_catboost._CatBoost._train\u001b[0;34m()\u001b[0m\n",
      "\u001b[0;31mKeyboardInterrupt\u001b[0m: "
     ]
    }
   ],
   "source": [
    "optimize_parameters('CatBoost', 10)"
   ]
  },
  {
   "cell_type": "code",
   "execution_count": 121,
   "metadata": {},
   "outputs": [],
   "source": [
    "best_models = [['Logistic Regression', LogisticRegression(penalty='l2', solver='liblinear')],\n",
    "               ['SVC', SVC(C=1.2850081963767133, kernel='sigmoid')],\n",
    "               ['KNN', KNeighborsClassifier(n_neighbors=9)],\n",
    "               ['Random Forest', RandomForestClassifier(max_depth=31, n_estimators=176)],\n",
    "               ['Naive Bayes', GaussianNB()],\n",
    "               ['CatBoost', CatBoostClassifier(iterations=100, silent=True)]]"
   ]
  },
  {
   "cell_type": "code",
   "execution_count": 114,
   "metadata": {},
   "outputs": [
    {
     "data": {
      "image/png": "[encoded data removed]",
      "text/plain": [
       "<Figure size 640x480 with 2 Axes>"
      ]
     },
     "metadata": {},
     "output_type": "display_data"
    },
    {
     "data": {
      "image/png": "[encoded data removed]",
      "text/plain": [
       "<Figure size 640x480 with 2 Axes>"
      ]
     },
     "metadata": {},
     "output_type": "display_data"
    },
    {
     "data": {
      "image/png": "[encoded data removed]",
      "text/plain": [
       "<Figure size 640x480 with 2 Axes>"
      ]
     },
     "metadata": {},
     "output_type": "display_data"
    },
    {
     "data": {
      "image/png": "[encoded data removed]",
      "text/plain": [
       "<Figure size 640x480 with 2 Axes>"
      ]
     },
     "metadata": {},
     "output_type": "display_data"
    },
    {
     "data": {
      "image/png": "[encoded data removed]",
      "text/plain": [
       "<Figure size 640x480 with 2 Axes>"
      ]
     },
     "metadata": {},
     "output_type": "display_data"
    },
    {
     "data": {
      "image/png": "[encoded data removed]",
      "text/plain": [
       "<Figure size 640x480 with 2 Axes>"
      ]
     },
     "metadata": {},
     "output_type": "display_data"
    }
   ],
   "source": [
    "accuracies = []\n",
    "for name, clf in best_models:\n",
    "    clf.fit(X_train_tfidf.toarray(), y_train)\n",
    "    y_pred = clf.predict(X_test_tfidf.toarray())\n",
    "    accuracies.append(accuracy_score(y_test, y_pred))\n",
    "    cm = confusion_matrix(y_test, y_pred, labels=clf.classes_)\n",
    "    \n",
    "    disp = ConfusionMatrixDisplay(confusion_matrix=cm,\n",
    "                                  display_labels=['business', 'economics', 'finances', 'sport',\n",
    "       'technology_and_media'])\n",
    "    disp.plot()\n",
    "    plt.xticks(rotation=40)\n",
    "    plt.title(name)\n",
    "    plt.show()"
   ]
  },
  {
   "cell_type": "markdown",
   "metadata": {},
   "source": [
    "В матрицах ошибок моделей видны логичные закономерности: модели чаще путают категории, которые пересекаются между собой, например экономику и бизнес и почти не путают сильно отличающиеся категории, например финансы и спорт."
   ]
  },
  {
   "cell_type": "code",
   "execution_count": 110,
   "metadata": {},
   "outputs": [
    {
     "data": {
      "text/plain": [
       "[0.8344507478081485,\n",
       " 0.8313563692625064,\n",
       " 0.7931923671995874,\n",
       " 0.7663744198040227,\n",
       " 0.7493553378029912,\n",
       " 0.7705002578648789]"
      ]
     },
     "execution_count": 110,
     "metadata": {},
     "output_type": "execute_result"
    }
   ],
   "source": [
    "accuracies"
   ]
  },
  {
   "cell_type": "code",
   "execution_count": 126,
   "metadata": {},
   "outputs": [
    {
     "data": {
      "text/html": [
       "<div>\n",
       "<style scoped>\n",
       "    .dataframe tbody tr th:only-of-type {\n",
       "        vertical-align: middle;\n",
       "    }\n",
       "\n",
       "    .dataframe tbody tr th {\n",
       "        vertical-align: top;\n",
       "    }\n",
       "\n",
       "    .dataframe thead th {\n",
       "        text-align: right;\n",
       "    }\n",
       "</style>\n",
       "<table border=\"1\" class=\"dataframe\">\n",
       "  <thead>\n",
       "    <tr style=\"text-align: right;\">\n",
       "      <th></th>\n",
       "      <th>Logistic Regression</th>\n",
       "      <th>SVC</th>\n",
       "      <th>KNN</th>\n",
       "      <th>Random Forest</th>\n",
       "      <th>Naive Bayes</th>\n",
       "      <th>CatBoost</th>\n",
       "    </tr>\n",
       "  </thead>\n",
       "  <tbody>\n",
       "    <tr>\n",
       "      <th>accuracy</th>\n",
       "      <td>0.834451</td>\n",
       "      <td>0.831356</td>\n",
       "      <td>0.793192</td>\n",
       "      <td>0.764312</td>\n",
       "      <td>0.749355</td>\n",
       "      <td>0.7705</td>\n",
       "    </tr>\n",
       "  </tbody>\n",
       "</table>\n",
       "</div>"
      ],
      "text/plain": [
       "          Logistic Regression       SVC       KNN  Random Forest  Naive Bayes  \\\n",
       "accuracy             0.834451  0.831356  0.793192       0.764312     0.749355   \n",
       "\n",
       "          CatBoost  \n",
       "accuracy    0.7705  "
      ]
     },
     "execution_count": 126,
     "metadata": {},
     "output_type": "execute_result"
    }
   ],
   "source": [
    "accs_df = pd.DataFrame([accuracies], columns=np.array(best_models)[:, 0])\n",
    "accs_df = accs_df.rename(index={0: 'accuracy'})\n",
    "accs_df"
   ]
  }
 ],
 "metadata": {
  "kernelspec": {
   "display_name": "Python 3",
   "language": "python",
   "name": "python3"
  },
  "language_info": {
   "codemirror_mode": {
    "name": "ipython",
    "version": 3
   },
   "file_extension": ".py",
   "mimetype": "text/x-python",
   "name": "python",
   "nbconvert_exporter": "python",
   "pygments_lexer": "ipython3",
   "version": "3.8.10"
  }
 },
 "nbformat": 4,
 "nbformat_minor": 2
}
